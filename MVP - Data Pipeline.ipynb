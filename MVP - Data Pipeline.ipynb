{
 "cells": [
  {
   "cell_type": "code",
   "execution_count": 0,
   "metadata": {
    "application/vnd.databricks.v1+cell": {
     "cellMetadata": {
      "byteLimit": 2048000,
      "rowLimit": 10000
     },
     "inputWidgets": {},
     "nuid": "9971a26c-a4ab-46bb-b346-c7b6b98dc19e",
     "showTitle": true,
     "tableResultSettingsMap": {},
     "title": "Display CSV file location"
    }
   },
   "outputs": [
    {
     "output_type": "display_data",
     "data": {
      "text/html": [
       "<style scoped>\n",
       "  .table-result-container {\n",
       "    max-height: 300px;\n",
       "    overflow: auto;\n",
       "  }\n",
       "  table, th, td {\n",
       "    border: 1px solid black;\n",
       "    border-collapse: collapse;\n",
       "  }\n",
       "  th, td {\n",
       "    padding: 5px;\n",
       "  }\n",
       "  th {\n",
       "    text-align: left;\n",
       "  }\n",
       "</style><div class='table-result-container'><table class='table-result'><thead style='background-color: white'><tr><th>path</th><th>name</th><th>size</th><th>modificationTime</th></tr></thead><tbody><tr><td>dbfs:/FileStore/mvp/airbnb/listings.csv</td><td>listings.csv</td><td>78951368</td><td>1743891667000</td></tr></tbody></table></div>"
      ]
     },
     "metadata": {
      "application/vnd.databricks.v1+output": {
       "addedWidgets": {},
       "aggData": [],
       "aggError": "",
       "aggOverflow": false,
       "aggSchema": [],
       "aggSeriesLimitReached": false,
       "aggType": "",
       "arguments": {},
       "columnCustomDisplayInfos": {},
       "data": [
        [
         "dbfs:/FileStore/mvp/airbnb/listings.csv",
         "listings.csv",
         78951368,
         1743891667000
        ]
       ],
       "datasetInfos": [],
       "dbfsResultPath": null,
       "isJsonSchema": true,
       "metadata": {},
       "overflow": false,
       "plotOptions": {
        "customPlotOptions": {},
        "displayType": "table",
        "pivotAggregation": null,
        "pivotColumns": null,
        "xColumns": null,
        "yColumns": null
       },
       "removedWidgets": [],
       "schema": [
        {
         "metadata": "{}",
         "name": "path",
         "type": "\"string\""
        },
        {
         "metadata": "{}",
         "name": "name",
         "type": "\"string\""
        },
        {
         "metadata": "{}",
         "name": "size",
         "type": "\"long\""
        },
        {
         "metadata": "{}",
         "name": "modificationTime",
         "type": "\"long\""
        }
       ],
       "type": "table"
      }
     },
     "output_type": "display_data"
    }
   ],
   "source": [
    "#display the CVS file is uploaded at DBFS storage (internal to Databricks)\n",
    "display(dbutils.fs.ls('/FileStore/mvp/airbnb'))"
   ]
  },
  {
   "cell_type": "code",
   "execution_count": 0,
   "metadata": {
    "application/vnd.databricks.v1+cell": {
     "cellMetadata": {
      "byteLimit": 2048000,
      "implicitDf": true,
      "rowLimit": 10000
     },
     "inputWidgets": {},
     "nuid": "2c740eda-9d33-46f6-b7e6-e03d44ec19da",
     "showTitle": true,
     "tableResultSettingsMap": {},
     "title": "Create database where  analisys will be performed via SQL if not exists"
    }
   },
   "outputs": [
    {
     "output_type": "display_data",
     "data": {
      "text/html": [
       "<style scoped>\n",
       "  .table-result-container {\n",
       "    max-height: 300px;\n",
       "    overflow: auto;\n",
       "  }\n",
       "  table, th, td {\n",
       "    border: 1px solid black;\n",
       "    border-collapse: collapse;\n",
       "  }\n",
       "  th, td {\n",
       "    padding: 5px;\n",
       "  }\n",
       "  th {\n",
       "    text-align: left;\n",
       "  }\n",
       "</style><div class='table-result-container'><table class='table-result'><thead style='background-color: white'><tr></tr></thead><tbody></tbody></table></div>"
      ]
     },
     "metadata": {
      "application/vnd.databricks.v1+output": {
       "addedWidgets": {},
       "aggData": [],
       "aggError": "",
       "aggOverflow": false,
       "aggSchema": [],
       "aggSeriesLimitReached": false,
       "aggType": "",
       "arguments": {},
       "columnCustomDisplayInfos": {},
       "data": [],
       "datasetInfos": [],
       "dbfsResultPath": null,
       "isJsonSchema": true,
       "metadata": {},
       "overflow": false,
       "plotOptions": {
        "customPlotOptions": {},
        "displayType": "table",
        "pivotAggregation": null,
        "pivotColumns": null,
        "xColumns": null,
        "yColumns": null
       },
       "removedWidgets": [],
       "schema": [],
       "type": "table"
      }
     },
     "output_type": "display_data"
    }
   ],
   "source": [
    " \n",
    "%sql\n",
    "--drop database schema airbnb if it is created\n",
    "-- create the database airbnb, (gold tier) where all study will carried out\n",
    "DROP SCHEMA IF EXISTS airbnb CASCADE;\n",
    "CREATE DATABASE airbnb;\n"
   ]
  },
  {
   "cell_type": "code",
   "execution_count": 0,
   "metadata": {
    "application/vnd.databricks.v1+cell": {
     "cellMetadata": {
      "byteLimit": 2048000,
      "rowLimit": 10000
     },
     "inputWidgets": {},
     "nuid": "738282fc-c3ae-4ef5-9aa2-35808e1378d6",
     "showTitle": true,
     "tableResultSettingsMap": {},
     "title": "ETL"
    }
   },
   "outputs": [
    {
     "output_type": "display_data",
     "data": {
      "text/html": [
       "<style scoped>\n",
       "  .table-result-container {\n",
       "    max-height: 300px;\n",
       "    overflow: auto;\n",
       "  }\n",
       "  table, th, td {\n",
       "    border: 1px solid black;\n",
       "    border-collapse: collapse;\n",
       "  }\n",
       "  th, td {\n",
       "    padding: 5px;\n",
       "  }\n",
       "  th {\n",
       "    text-align: left;\n",
       "  }\n",
       "</style><div class='table-result-container'><table class='table-result'><thead style='background-color: white'><tr><th>id</th><th>name</th><th>description</th><th>neighborhood_overview</th><th>host_name</th><th>host_since</th><th>neighbourhood</th><th>neighbourhood_cleansed</th><th>latitude</th><th>longitude</th><th>property_type</th><th>room_type</th><th>price</th><th>review_scores_accuracy</th><th>accommodates</th><th>has_availability</th></tr></thead><tbody><tr><td>0</td><td>0</td><td>1120</td><td>22619</td><td>2</td><td>2</td><td>22619</td><td>0</td><td>0</td><td>0</td><td>0</td><td>0</td><td>2855</td><td>10420</td><td>0</td><td>497</td></tr></tbody></table></div>"
      ]
     },
     "metadata": {
      "application/vnd.databricks.v1+output": {
       "addedWidgets": {},
       "aggData": [],
       "aggError": "",
       "aggOverflow": false,
       "aggSchema": [],
       "aggSeriesLimitReached": false,
       "aggType": "",
       "arguments": {},
       "columnCustomDisplayInfos": {},
       "data": [
        [
         0,
         0,
         1120,
         22619,
         2,
         2,
         22619,
         0,
         0,
         0,
         0,
         0,
         2855,
         10420,
         0,
         497
        ]
       ],
       "datasetInfos": [],
       "dbfsResultPath": null,
       "isJsonSchema": true,
       "metadata": {},
       "overflow": false,
       "plotOptions": {
        "customPlotOptions": {},
        "displayType": "table",
        "pivotAggregation": null,
        "pivotColumns": null,
        "xColumns": null,
        "yColumns": null
       },
       "removedWidgets": [],
       "schema": [
        {
         "metadata": "{}",
         "name": "id",
         "type": "\"long\""
        },
        {
         "metadata": "{}",
         "name": "name",
         "type": "\"long\""
        },
        {
         "metadata": "{}",
         "name": "description",
         "type": "\"long\""
        },
        {
         "metadata": "{}",
         "name": "neighborhood_overview",
         "type": "\"long\""
        },
        {
         "metadata": "{}",
         "name": "host_name",
         "type": "\"long\""
        },
        {
         "metadata": "{}",
         "name": "host_since",
         "type": "\"long\""
        },
        {
         "metadata": "{}",
         "name": "neighbourhood",
         "type": "\"long\""
        },
        {
         "metadata": "{}",
         "name": "neighbourhood_cleansed",
         "type": "\"long\""
        },
        {
         "metadata": "{}",
         "name": "latitude",
         "type": "\"long\""
        },
        {
         "metadata": "{}",
         "name": "longitude",
         "type": "\"long\""
        },
        {
         "metadata": "{}",
         "name": "property_type",
         "type": "\"long\""
        },
        {
         "metadata": "{}",
         "name": "room_type",
         "type": "\"long\""
        },
        {
         "metadata": "{}",
         "name": "price",
         "type": "\"long\""
        },
        {
         "metadata": "{}",
         "name": "review_scores_accuracy",
         "type": "\"long\""
        },
        {
         "metadata": "{}",
         "name": "accommodates",
         "type": "\"long\""
        },
        {
         "metadata": "{}",
         "name": "has_availability",
         "type": "\"long\""
        }
       ],
       "type": "table"
      }
     },
     "output_type": "display_data"
    }
   ],
   "source": [
    "\n",
    "from pyspark.sql.types import BooleanType, DoubleType\n",
    "from pyspark.sql.functions import translate, col, isnan, when, count\n",
    "\n",
    "#Load CVS into a dataframe. CSV has specifal attributes such as comma as seprator, quotes under fields and line breaks\n",
    "#Some of the descriptions and names are in PT-BR, so setting encoding to UTF-8\n",
    "bronze_df = spark.read.csv(\"dbfs:/FileStore/mvp/airbnb/listings.csv\", \n",
    "                           header=True, \n",
    "                           inferSchema=True, \n",
    "                           sep=',', quote='\"', \n",
    "                           escape='\"', \n",
    "                           multiLine=True,\n",
    "                           encoding='UTF-8')\n",
    "\n",
    "'''\n",
    "select columns that are part of the assigment. Thus, they will be part of the gold database. This is only for simplicity when \n",
    "handling or visualizing data.\n",
    "'''\n",
    "SelectedColumns = [\n",
    "'id',\n",
    "'name',\n",
    "'description',\n",
    "'neighborhood_overview',\n",
    "'host_name',\n",
    "'host_since',\n",
    "'neighbourhood',\n",
    "'neighbourhood_cleansed',\n",
    "'latitude',\n",
    "'longitude',\n",
    "'property_type',\n",
    "'room_type',\n",
    "'price',\n",
    "'review_scores_accuracy',\n",
    "'accommodates',\n",
    "'has_availability']\n",
    "\n",
    "silver_df = bronze_df[SelectedColumns]\n",
    "\n",
    "display(silver_df.select([count(when(col(field).isNull(), field)).alias(field) for field in silver_df.columns]))\n",
    "\n"
   ]
  },
  {
   "cell_type": "code",
   "execution_count": 0,
   "metadata": {
    "application/vnd.databricks.v1+cell": {
     "cellMetadata": {
      "byteLimit": 2048000,
      "rowLimit": 10000
     },
     "inputWidgets": {},
     "nuid": "3c230d84-20a6-4777-b213-09a5c0b25d9c",
     "showTitle": false,
     "tableResultSettingsMap": {},
     "title": ""
    }
   },
   "outputs": [],
   "source": [
    "#cast the has_availability filed from String to Boolean and make sure there are no NULL values in it\n",
    "silver_df = silver_df \\\n",
    "        .withColumn('has_availability',silver_df.has_availability.cast(BooleanType())) \\\n",
    "        .dropna(subset='has_availability')\n",
    "\n",
    "#Null fields in reviews, set to 0\n",
    "silver_df = silver_df.select(col(\"*\"), when(silver_df.review_scores_accuracy.isNull() , 0) \\\n",
    "        .otherwise(silver_df.review_scores_accuracy).alias(\"reviews\"))\n",
    "                          \n",
    "# make the price field to be calculated to extract averages and sums. \n",
    "# It contains, on orginal CSV, the symbol \"$\" and thousand separators which prevents the calculations  \n",
    "# Cast from String to Double and remove the records which the price field is null, to avoid miscalculations\n",
    "silver_df = silver_df \\\n",
    "        .withColumn('price', translate('price', \"$\", \"\")) \\\n",
    "        .withColumn('price', translate('price', \",\", \"\")) \\\n",
    "        \n",
    "gold_df = silver_df.withColumn('price', silver_df.price.cast(DoubleType())) \\\n",
    "        .dropna(subset='price')\n",
    "\n",
    "#create the table listings under airbnb database schema\n",
    "gold_df.write.mode(\"overwrite\").saveAsTable(\"airbnb.listings\")\n"
   ]
  },
  {
   "cell_type": "code",
   "execution_count": 0,
   "metadata": {
    "application/vnd.databricks.v1+cell": {
     "cellMetadata": {
      "byteLimit": 2048000,
      "implicitDf": true,
      "rowLimit": 10000
     },
     "inputWidgets": {},
     "nuid": "1e4bf63d-4faf-4586-9b30-f424fb1b6868",
     "showTitle": true,
     "tableResultSettingsMap": {},
     "title": "Make sure all data is cleansed"
    }
   },
   "outputs": [
    {
     "output_type": "display_data",
     "data": {
      "text/html": [
       "<style scoped>\n",
       "  .table-result-container {\n",
       "    max-height: 300px;\n",
       "    overflow: auto;\n",
       "  }\n",
       "  table, th, td {\n",
       "    border: 1px solid black;\n",
       "    border-collapse: collapse;\n",
       "  }\n",
       "  th, td {\n",
       "    padding: 5px;\n",
       "  }\n",
       "  th {\n",
       "    text-align: left;\n",
       "  }\n",
       "</style><div class='table-result-container'><table class='table-result'><thead style='background-color: white'><tr><th>id</th><th>name</th><th>description</th><th>neighborhood_overview</th><th>host_name</th><th>host_since</th><th>neighbourhood</th><th>neighbourhood_cleansed</th><th>latitude</th><th>longitude</th><th>property_type</th><th>room_type</th><th>price</th><th>review_scores_accuracy</th><th>accommodates</th><th>has_availability</th><th>reviews</th></tr></thead><tbody><tr><td>271975</td><td>Unbelievable Ocean View Apartment</td><td>null</td><td>If you like hiking, you have to get on this track to the top of \"Dois Irmãos\" hill, one of Rio's most beautiful view. It's not difficult and not a long way up there.<br />http://rioforyou.com/<br /><br />If you like trails, Vidigal is the place to stay. One of the most spectacular views of Rio is on the trail to the top of \"Dois Irmãos\", that mountain that seems inaccessible that you see from the beach of arpoador, ipanema and leblon is not as difficult to access as it seems. Staying in the neighborhood of Vidigal you already have access to the trail much easier and even without a guide, asked the friendly residents of the community you will come to the top with ease.<br />http://trilhadoisirmaos.com.br/<br /><br />Public and beautiful Park in Vidigal:<br />Sitiê<br />http://www.parquesitie.org/<br /><br />Restaurants in Vidigal:<br />Barlacubaco Restaurant<br />Av. Presidente João Goulart, 686.<br /><br />Art and Theatre:<br />Nós do Morro<br />www.nosdomorro.com.br</td><td>Maria</td><td>2011-11-19</td><td>Rio de Janeiro, Brazil</td><td>Vidigal</td><td>-22.99508</td><td>-43.23604</td><td>Entire rental unit</td><td>Entire home/apt</td><td>236.0</td><td>4.33</td><td>4</td><td>true</td><td>4.33</td></tr><tr><td>272335</td><td>EXCELENTE APARTAMENTO EM COPACABANA</td><td>The apartment has 30m2 with connecting bedroom/living room, full bathroom and small kitchen fully  equipped. Air conditioning, wi-fi internet,  1 double bed, 1 double sofa bed, 2 blocks from Copacabana beach.</td><td>The beauty of my Copacabana beach.  This needs no further comment.</td><td>Vitor</td><td>2013-07-15</td><td>Rio de Janeiro, Brazil</td><td>Copacabana</td><td>-22.9623</td><td>-43.17389</td><td>Entire rental unit</td><td>Entire home/apt</td><td>723.0</td><td>4.91</td><td>4</td><td>true</td><td>4.91</td></tr><tr><td>272631</td><td>Comfort em Copacabana</td><td>The apartment is located in the Shopping dos Antiqueários in Copacabana and has total 24h security.<br />The rooms are cozy and airy with beautiful views of the green, double box bed, fan, air conditioning, cable TV. Bathroom may be shared . In the kitchen, the microwave oven and the refrigerator can be used. <br />Breakfast is served from 8:30 am to 11am.<br />Available: internet , bed linen and towels every 5 days. We offer transfers for payment.</td><td>null</td><td>Neyde</td><td>2011-11-20</td><td>null</td><td>Copacabana</td><td>-22.9675</td><td>-43.18666</td><td>Private room in rental unit</td><td>Private room</td><td>1146.0</td><td>5.0</td><td>2</td><td>true</td><td>5.0</td></tr><tr><td>273261</td><td>Amazing Huge Apartment in Leblon</td><td>spacious apartment, with ocean view, super well furnished, 49 inches flat TV,  TV in suite 42 inches, wifi throughout the apartment, two refrigerators, laundry machine, fully equipped kitchen,three bedrooms, three bathrooms. Impeccable!</td><td>null</td><td>Lucas</td><td>2011-04-25</td><td>null</td><td>Leblon</td><td>-22.98632</td><td>-43.22936</td><td>Entire rental unit</td><td>Entire home/apt</td><td>6742.0</td><td>null</td><td>6</td><td>true</td><td>0.0</td></tr><tr><td>273363</td><td>Lindo quarto sossegado para temporada</td><td>We are happy to share our home with all those who arrive<br />Our daily exercise is empathy for respect for differences!<br />We're so grateful to meet people from all over the world</td><td>Santa Teresa is a unique and very interesting place in Rio. It is situated in the central region and high on a hill offering a privileged view of the city, Guanabara Bay and Pāo de Açúcar. This neighborhood seems to have stopped in time, with its old houses, mansions, narrow cobbled streets and the famous cable car that takes locals and tourists downhill.</td><td>Casa Da Carmen E</td><td>2011-05-04</td><td>Rio de Janeiro, Brazil</td><td>Santa Teresa</td><td>-22.91825</td><td>-43.17872</td><td>Private room in home</td><td>Private room</td><td>61.0</td><td>5.0</td><td>1</td><td>true</td><td>5.0</td></tr></tbody></table></div>"
      ]
     },
     "metadata": {
      "application/vnd.databricks.v1+output": {
       "addedWidgets": {},
       "aggData": [],
       "aggError": "",
       "aggOverflow": false,
       "aggSchema": [],
       "aggSeriesLimitReached": false,
       "aggType": "",
       "arguments": {},
       "columnCustomDisplayInfos": {},
       "data": [
        [
         271975,
         "Unbelievable Ocean View Apartment",
         null,
         "If you like hiking, you have to get on this track to the top of \"Dois Irmãos\" hill, one of Rio's most beautiful view. It's not difficult and not a long way up there.<br />http://rioforyou.com/<br /><br />If you like trails, Vidigal is the place to stay. One of the most spectacular views of Rio is on the trail to the top of \"Dois Irmãos\", that mountain that seems inaccessible that you see from the beach of arpoador, ipanema and leblon is not as difficult to access as it seems. Staying in the neighborhood of Vidigal you already have access to the trail much easier and even without a guide, asked the friendly residents of the community you will come to the top with ease.<br />http://trilhadoisirmaos.com.br/<br /><br />Public and beautiful Park in Vidigal:<br />Sitiê<br />http://www.parquesitie.org/<br /><br />Restaurants in Vidigal:<br />Barlacubaco Restaurant<br />Av. Presidente João Goulart, 686.<br /><br />Art and Theatre:<br />Nós do Morro<br />www.nosdomorro.com.br",
         "Maria",
         "2011-11-19",
         "Rio de Janeiro, Brazil",
         "Vidigal",
         -22.99508,
         -43.23604,
         "Entire rental unit",
         "Entire home/apt",
         236.0,
         4.33,
         4,
         true,
         4.33
        ],
        [
         272335,
         "EXCELENTE APARTAMENTO EM COPACABANA",
         "The apartment has 30m2 with connecting bedroom/living room, full bathroom and small kitchen fully  equipped. Air conditioning, wi-fi internet,  1 double bed, 1 double sofa bed, 2 blocks from Copacabana beach.",
         "The beauty of my Copacabana beach.  This needs no further comment.",
         "Vitor",
         "2013-07-15",
         "Rio de Janeiro, Brazil",
         "Copacabana",
         -22.9623,
         -43.17389,
         "Entire rental unit",
         "Entire home/apt",
         723.0,
         4.91,
         4,
         true,
         4.91
        ],
        [
         272631,
         "Comfort em Copacabana",
         "The apartment is located in the Shopping dos Antiqueários in Copacabana and has total 24h security.<br />The rooms are cozy and airy with beautiful views of the green, double box bed, fan, air conditioning, cable TV. Bathroom may be shared . In the kitchen, the microwave oven and the refrigerator can be used. <br />Breakfast is served from 8:30 am to 11am.<br />Available: internet , bed linen and towels every 5 days. We offer transfers for payment.",
         null,
         "Neyde",
         "2011-11-20",
         null,
         "Copacabana",
         -22.9675,
         -43.18666,
         "Private room in rental unit",
         "Private room",
         1146.0,
         5.0,
         2,
         true,
         5.0
        ],
        [
         273261,
         "Amazing Huge Apartment in Leblon",
         "spacious apartment, with ocean view, super well furnished, 49 inches flat TV,  TV in suite 42 inches, wifi throughout the apartment, two refrigerators, laundry machine, fully equipped kitchen,three bedrooms, three bathrooms. Impeccable!",
         null,
         "Lucas",
         "2011-04-25",
         null,
         "Leblon",
         -22.98632,
         -43.22936,
         "Entire rental unit",
         "Entire home/apt",
         6742.0,
         null,
         6,
         true,
         0.0
        ],
        [
         273363,
         "Lindo quarto sossegado para temporada",
         "We are happy to share our home with all those who arrive<br />Our daily exercise is empathy for respect for differences!<br />We're so grateful to meet people from all over the world",
         "Santa Teresa is a unique and very interesting place in Rio. It is situated in the central region and high on a hill offering a privileged view of the city, Guanabara Bay and Pāo de Açúcar. This neighborhood seems to have stopped in time, with its old houses, mansions, narrow cobbled streets and the famous cable car that takes locals and tourists downhill.",
         "Casa Da Carmen E",
         "2011-05-04",
         "Rio de Janeiro, Brazil",
         "Santa Teresa",
         -22.91825,
         -43.17872,
         "Private room in home",
         "Private room",
         61.0,
         5.0,
         1,
         true,
         5.0
        ]
       ],
       "datasetInfos": [],
       "dbfsResultPath": null,
       "isJsonSchema": true,
       "metadata": {},
       "overflow": false,
       "plotOptions": {
        "customPlotOptions": {},
        "displayType": "table",
        "pivotAggregation": null,
        "pivotColumns": null,
        "xColumns": null,
        "yColumns": null
       },
       "removedWidgets": [],
       "schema": [
        {
         "metadata": "{}",
         "name": "id",
         "type": "\"long\""
        },
        {
         "metadata": "{}",
         "name": "name",
         "type": "\"string\""
        },
        {
         "metadata": "{}",
         "name": "description",
         "type": "\"string\""
        },
        {
         "metadata": "{}",
         "name": "neighborhood_overview",
         "type": "\"string\""
        },
        {
         "metadata": "{}",
         "name": "host_name",
         "type": "\"string\""
        },
        {
         "metadata": "{\"__detected_date_formats\":\"yyyy-M-d\"}",
         "name": "host_since",
         "type": "\"date\""
        },
        {
         "metadata": "{}",
         "name": "neighbourhood",
         "type": "\"string\""
        },
        {
         "metadata": "{}",
         "name": "neighbourhood_cleansed",
         "type": "\"string\""
        },
        {
         "metadata": "{}",
         "name": "latitude",
         "type": "\"double\""
        },
        {
         "metadata": "{}",
         "name": "longitude",
         "type": "\"double\""
        },
        {
         "metadata": "{}",
         "name": "property_type",
         "type": "\"string\""
        },
        {
         "metadata": "{}",
         "name": "room_type",
         "type": "\"string\""
        },
        {
         "metadata": "{}",
         "name": "price",
         "type": "\"double\""
        },
        {
         "metadata": "{}",
         "name": "review_scores_accuracy",
         "type": "\"double\""
        },
        {
         "metadata": "{}",
         "name": "accommodates",
         "type": "\"integer\""
        },
        {
         "metadata": "{}",
         "name": "has_availability",
         "type": "\"boolean\""
        },
        {
         "metadata": "{}",
         "name": "reviews",
         "type": "\"double\""
        }
       ],
       "type": "table"
      }
     },
     "output_type": "display_data"
    }
   ],
   "source": [
    "%sql \n",
    "SELECT * FROM airbnb.listings LIMIT 5;"
   ]
  },
  {
   "cell_type": "code",
   "execution_count": 0,
   "metadata": {
    "application/vnd.databricks.v1+cell": {
     "cellMetadata": {
      "byteLimit": 2048000,
      "implicitDf": true,
      "rowLimit": 10000
     },
     "inputWidgets": {},
     "nuid": "3e631517-8938-4778-893e-1b9abccb1674",
     "showTitle": false,
     "tableResultSettingsMap": {},
     "title": ""
    }
   },
   "outputs": [
    {
     "output_type": "display_data",
     "data": {
      "text/html": [
       "<style scoped>\n",
       "  .table-result-container {\n",
       "    max-height: 300px;\n",
       "    overflow: auto;\n",
       "  }\n",
       "  table, th, td {\n",
       "    border: 1px solid black;\n",
       "    border-collapse: collapse;\n",
       "  }\n",
       "  th, td {\n",
       "    padding: 5px;\n",
       "  }\n",
       "  th {\n",
       "    text-align: left;\n",
       "  }\n",
       "</style><div class='table-result-container'><table class='table-result'><thead style='background-color: white'><tr><th>TotalListings</th><th>has_availability</th></tr></thead><tbody><tr><td>36205</td><td>true</td></tr><tr><td>1</td><td>false</td></tr></tbody></table></div>"
      ]
     },
     "metadata": {
      "application/vnd.databricks.v1+output": {
       "addedWidgets": {},
       "aggData": [],
       "aggError": "",
       "aggOverflow": false,
       "aggSchema": [],
       "aggSeriesLimitReached": false,
       "aggType": "",
       "arguments": {},
       "columnCustomDisplayInfos": {},
       "data": [
        [
         36205,
         true
        ],
        [
         1,
         false
        ]
       ],
       "datasetInfos": [],
       "dbfsResultPath": null,
       "isJsonSchema": true,
       "metadata": {},
       "overflow": false,
       "plotOptions": {
        "customPlotOptions": {},
        "displayType": "table",
        "pivotAggregation": null,
        "pivotColumns": null,
        "xColumns": null,
        "yColumns": null
       },
       "removedWidgets": [],
       "schema": [
        {
         "metadata": "{}",
         "name": "TotalListings",
         "type": "\"long\""
        },
        {
         "metadata": "{}",
         "name": "has_availability",
         "type": "\"boolean\""
        }
       ],
       "type": "table"
      }
     },
     "output_type": "display_data"
    }
   ],
   "source": [
    "%sql\n",
    "SELECT count(*) AS TotalListings,\n",
    "has_availability\n",
    "FROM airbnb.listings\n",
    "GROUP BY has_availability; "
   ]
  },
  {
   "cell_type": "markdown",
   "metadata": {
    "application/vnd.databricks.v1+cell": {
     "cellMetadata": {
      "byteLimit": 2048000,
      "rowLimit": 10000
     },
     "inputWidgets": {},
     "nuid": "393cf938-d5a4-4608-aeab-42abcccb104c",
     "showTitle": false,
     "tableResultSettingsMap": {},
     "title": ""
    }
   },
   "source": [
    "The query below indicates the proportion of room types in Rio de janeiro. The most common, (80%) are entire room rentals.\n",
    "\n",
    "Private rooms are little guestrooms separte from the main house."
   ]
  },
  {
   "cell_type": "code",
   "execution_count": 0,
   "metadata": {
    "application/vnd.databricks.v1+cell": {
     "cellMetadata": {
      "byteLimit": 2048000,
      "implicitDf": true,
      "rowLimit": 10000
     },
     "inputWidgets": {},
     "nuid": "41fc15de-8505-4112-ae3e-2c854abcbfa9",
     "showTitle": true,
     "tableResultSettingsMap": {},
     "title": "Room Types in Rio de Janeiro"
    }
   },
   "outputs": [
    {
     "output_type": "display_data",
     "data": {
      "text/html": [
       "<style scoped>\n",
       "  .table-result-container {\n",
       "    max-height: 300px;\n",
       "    overflow: auto;\n",
       "  }\n",
       "  table, th, td {\n",
       "    border: 1px solid black;\n",
       "    border-collapse: collapse;\n",
       "  }\n",
       "  th, td {\n",
       "    padding: 5px;\n",
       "  }\n",
       "  th {\n",
       "    text-align: left;\n",
       "  }\n",
       "</style><div class='table-result-container'><table class='table-result'><thead style='background-color: white'><tr><th>TotalRoomTypes</th><th>Percentage</th><th>RoomTypes</th></tr></thead><tbody><tr><td>29267</td><td>80.83%</td><td>Entire home/apt</td></tr><tr><td>6663</td><td>18.4%</td><td>Private room</td></tr><tr><td>256</td><td>0.71%</td><td>Shared room</td></tr><tr><td>20</td><td>0.06%</td><td>Hotel room</td></tr></tbody></table></div>"
      ]
     },
     "metadata": {
      "application/vnd.databricks.v1+output": {
       "addedWidgets": {},
       "aggData": [],
       "aggError": "",
       "aggOverflow": false,
       "aggSchema": [],
       "aggSeriesLimitReached": false,
       "aggType": "",
       "arguments": {},
       "columnCustomDisplayInfos": {},
       "data": [
        [
         29267,
         "80.83%",
         "Entire home/apt"
        ],
        [
         6663,
         "18.4%",
         "Private room"
        ],
        [
         256,
         "0.71%",
         "Shared room"
        ],
        [
         20,
         "0.06%",
         "Hotel room"
        ]
       ],
       "datasetInfos": [],
       "dbfsResultPath": null,
       "isJsonSchema": true,
       "metadata": {},
       "overflow": false,
       "plotOptions": {
        "customPlotOptions": {},
        "displayType": "table",
        "pivotAggregation": null,
        "pivotColumns": null,
        "xColumns": null,
        "yColumns": null
       },
       "removedWidgets": [],
       "schema": [
        {
         "metadata": "{}",
         "name": "TotalRoomTypes",
         "type": "\"long\""
        },
        {
         "metadata": "{}",
         "name": "Percentage",
         "type": "\"string\""
        },
        {
         "metadata": "{}",
         "name": "RoomTypes",
         "type": "\"string\""
        }
       ],
       "type": "table"
      }
     },
     "output_type": "display_data"
    },
    {
     "output_type": "display_data",
     "data": {
      "text/plain": [
       "Databricks visualization. Run in Databricks to view."
      ]
     },
     "metadata": {
      "application/vnd.databricks.v1.subcommand+json": {
       "baseErrorDetails": null,
       "bindings": {},
       "collapsed": false,
       "command": "%sql WITH q AS (SELECT count(id) as TotalRoomTypes, \nconcat(round((TotalRoomTypes/(select count(id) from airbnb.listings) * 100),2), \"%\") as Percentage, \nroom_type as RoomTypes \nFROM airbnb.listings \nGROUP BY room_type \nORDER BY TotalRoomTypes DESC) SELECT `Percentage`,`RoomTypes`,SUM(`TotalRoomTypes`) `column_5bf63bf133` FROM q GROUP BY `Percentage`,`RoomTypes`",
       "commandTitle": "Visualization 1",
       "commandType": "auto",
       "commandVersion": 0,
       "commentThread": [],
       "commentsVisible": false,
       "contentSha256Hex": null,
       "customPlotOptions": {
        "redashChart": [
         {
          "key": "type",
          "value": "CHART"
         },
         {
          "key": "options",
          "value": {
           "alignYAxesAtZero": true,
           "coefficient": 1,
           "columnConfigurationMap": {
            "series": {
             "column": "RoomTypes",
             "id": "column_5bf63bf132"
            },
            "x": {
             "column": "Percentage",
             "id": "column_5bf63bf131"
            },
            "y": [
             {
              "column": "TotalRoomTypes",
              "id": "column_5bf63bf133",
              "transform": "SUM"
             }
            ]
           },
           "dateTimeFormat": "DD/MM/YYYY HH:mm",
           "direction": {
            "type": "counterclockwise"
           },
           "error_y": {
            "type": "data",
            "visible": true
           },
           "globalSeriesType": "column",
           "isAggregationOn": true,
           "legend": {
            "traceorder": "normal"
           },
           "missingValuesAsZero": true,
           "numberFormat": "0,0.[00000]",
           "percentFormat": "0[.]00%",
           "reverseX": true,
           "series": {
            "error_y": {
             "type": "data",
             "visible": true
            },
            "stacking": "stack"
           },
           "seriesOptions": {
            "Entire home/apt": {
             "color": "#50F5ED"
            },
            "Hotel room": {
             "color": "#17BF51"
            },
            "column_5bf63bf133": {
             "name": "TotalRoomTypes",
             "yAxis": 0
            }
           },
           "showDataLabels": false,
           "sizemode": "diameter",
           "sortX": true,
           "sortY": true,
           "swappedAxes": true,
           "textFormat": "",
           "useAggregationsUi": true,
           "valuesOptions": {},
           "version": 2,
           "xAxis": {
            "labels": {
             "enabled": true
            },
            "type": "-"
           },
           "yAxis": [
            {
             "type": "-"
            },
            {
             "opposite": true,
             "type": "-"
            }
           ]
          }
         }
        ]
       },
       "datasetPreviewNameToCmdIdMap": {},
       "diffDeletes": [],
       "diffInserts": [],
       "displayType": "redashChart",
       "error": null,
       "errorDetails": null,
       "errorSummary": null,
       "errorTraceType": null,
       "finishTime": 0,
       "globalVars": {},
       "guid": "",
       "height": "auto",
       "hideCommandCode": false,
       "hideCommandResult": false,
       "iPythonMetadata": null,
       "inputWidgets": {},
       "isLockedInExamMode": false,
       "latestUser": "a user",
       "latestUserId": null,
       "listResultMetadata": null,
       "metadata": {
        "byteLimit": 2048000,
        "implicitDf": true,
        "rowLimit": 10000
       },
       "nuid": "3c38ce96-27f7-4d8f-9380-f2d81e994c17",
       "origId": 0,
       "parentHierarchy": [],
       "pivotAggregation": null,
       "pivotColumns": null,
       "position": 8.0,
       "resultDbfsErrorMessage": null,
       "resultDbfsStatus": "INLINED_IN_TREE",
       "results": null,
       "showCommandTitle": false,
       "startTime": 0,
       "state": "input",
       "streamStates": {},
       "subcommandOptions": {
        "queryPlan": {
         "groups": [
          {
           "column": "Percentage",
           "type": "column"
          },
          {
           "column": "RoomTypes",
           "type": "column"
          }
         ],
         "selects": [
          {
           "column": "Percentage",
           "type": "column"
          },
          {
           "column": "RoomTypes",
           "type": "column"
          },
          {
           "alias": "column_5bf63bf133",
           "args": [
            {
             "column": "TotalRoomTypes",
             "type": "column"
            }
           ],
           "function": "SUM",
           "type": "function"
          }
         ]
        }
       },
       "submitTime": 0,
       "subtype": "tableResultSubCmd.visualization",
       "tableResultIndex": 0,
       "tableResultSettingsMap": {},
       "useConsistentColors": false,
       "version": "CommandV1",
       "width": "auto",
       "workflows": [],
       "xColumns": null,
       "yColumns": null
      }
     },
     "output_type": "display_data"
    }
   ],
   "source": [
    "%sql\n",
    "SELECT count(id) as TotalRoomTypes, \n",
    "concat(round((TotalRoomTypes/(select count(id) from airbnb.listings) * 100),2), \"%\") as Percentage, \n",
    "room_type as RoomTypes \n",
    "FROM airbnb.listings \n",
    "GROUP BY room_type \n",
    "ORDER BY TotalRoomTypes DESC;"
   ]
  },
  {
   "cell_type": "markdown",
   "metadata": {
    "application/vnd.databricks.v1+cell": {
     "cellMetadata": {
      "byteLimit": 2048000,
      "rowLimit": 10000
     },
     "inputWidgets": {},
     "nuid": "3b894280-c6ca-4603-bc6b-ae462ac74972",
     "showTitle": false,
     "tableResultSettingsMap": {},
     "title": ""
    }
   },
   "source": [
    "The query below indicates the proportion of listings in each neighbourhood in Rio de janeiro. \n",
    "\n",
    "Copacabana outstands as the place where there more listings in Rio. It almost the same amount of the next 5 neighbourhoods added together."
   ]
  },
  {
   "cell_type": "code",
   "execution_count": 0,
   "metadata": {
    "application/vnd.databricks.v1+cell": {
     "cellMetadata": {
      "byteLimit": 2048000,
      "implicitDf": true,
      "rowLimit": 10000
     },
     "inputWidgets": {},
     "nuid": "8bee7364-e27b-4cfe-866b-471b59b9ee70",
     "showTitle": true,
     "tableResultSettingsMap": {},
     "title": "Outstading Neighbourhoods"
    }
   },
   "outputs": [
    {
     "output_type": "display_data",
     "data": {
      "text/html": [
       "<style scoped>\n",
       "  .table-result-container {\n",
       "    max-height: 300px;\n",
       "    overflow: auto;\n",
       "  }\n",
       "  table, th, td {\n",
       "    border: 1px solid black;\n",
       "    border-collapse: collapse;\n",
       "  }\n",
       "  th, td {\n",
       "    padding: 5px;\n",
       "  }\n",
       "  th {\n",
       "    text-align: left;\n",
       "  }\n",
       "</style><div class='table-result-container'><table class='table-result'><thead style='background-color: white'><tr><th>TotalInNeighbourhoods</th><th>Percentage</th><th>Neighbourhood</th></tr></thead><tbody><tr><td>11421</td><td>31.54%</td><td>Copacabana</td></tr><tr><td>3342</td><td>9.23%</td><td>Barra da Tijuca</td></tr><tr><td>3332</td><td>9.2%</td><td>Ipanema</td></tr><tr><td>1894</td><td>5.23%</td><td>Recreio dos Bandeirantes</td></tr><tr><td>1704</td><td>4.71%</td><td>Jacarepaguá</td></tr><tr><td>1638</td><td>4.52%</td><td>Leblon</td></tr><tr><td>1539</td><td>4.25%</td><td>Centro</td></tr><tr><td>1521</td><td>4.2%</td><td>Botafogo</td></tr><tr><td>1150</td><td>3.18%</td><td>Santa Teresa</td></tr><tr><td>793</td><td>2.19%</td><td>Flamengo</td></tr></tbody></table></div>"
      ]
     },
     "metadata": {
      "application/vnd.databricks.v1+output": {
       "addedWidgets": {},
       "aggData": [],
       "aggError": "",
       "aggOverflow": false,
       "aggSchema": [],
       "aggSeriesLimitReached": false,
       "aggType": "",
       "arguments": {},
       "columnCustomDisplayInfos": {},
       "data": [
        [
         11421,
         "31.54%",
         "Copacabana"
        ],
        [
         3342,
         "9.23%",
         "Barra da Tijuca"
        ],
        [
         3332,
         "9.2%",
         "Ipanema"
        ],
        [
         1894,
         "5.23%",
         "Recreio dos Bandeirantes"
        ],
        [
         1704,
         "4.71%",
         "Jacarepaguá"
        ],
        [
         1638,
         "4.52%",
         "Leblon"
        ],
        [
         1539,
         "4.25%",
         "Centro"
        ],
        [
         1521,
         "4.2%",
         "Botafogo"
        ],
        [
         1150,
         "3.18%",
         "Santa Teresa"
        ],
        [
         793,
         "2.19%",
         "Flamengo"
        ]
       ],
       "datasetInfos": [],
       "dbfsResultPath": null,
       "isJsonSchema": true,
       "metadata": {},
       "overflow": false,
       "plotOptions": {
        "customPlotOptions": {},
        "displayType": "table",
        "pivotAggregation": null,
        "pivotColumns": null,
        "xColumns": null,
        "yColumns": null
       },
       "removedWidgets": [],
       "schema": [
        {
         "metadata": "{}",
         "name": "TotalInNeighbourhoods",
         "type": "\"long\""
        },
        {
         "metadata": "{}",
         "name": "Percentage",
         "type": "\"string\""
        },
        {
         "metadata": "{}",
         "name": "Neighbourhood",
         "type": "\"string\""
        }
       ],
       "type": "table"
      }
     },
     "output_type": "display_data"
    },
    {
     "output_type": "display_data",
     "data": {
      "text/plain": [
       "Databricks visualization. Run in Databricks to view."
      ]
     },
     "metadata": {
      "application/vnd.databricks.v1.subcommand+json": {
       "baseErrorDetails": null,
       "bindings": {},
       "collapsed": false,
       "command": "%sql WITH q AS (SELECT count(id) as TotalInNeighbourhoods, \nconcat(round((TotalInNeighbourhoods/(select count(id) from airbnb.listings) * 100),2), \"%\") as Percentage,\nneighbourhood_cleansed as Neighbourhood\nFROM airbnb.listings \nGROUP BY neighbourhood_cleansed\nORDER BY TotalInNeighbourhoods DESC\nLIMIT 10) SELECT `Percentage`,`Neighbourhood`,SUM(`TotalInNeighbourhoods`) `column_2fb88f4125` FROM q GROUP BY `Neighbourhood`,`Percentage`",
       "commandTitle": "Visualization 1",
       "commandType": "auto",
       "commandVersion": 0,
       "commentThread": [],
       "commentsVisible": false,
       "contentSha256Hex": null,
       "customPlotOptions": {
        "redashChart": [
         {
          "key": "type",
          "value": "CHART"
         },
         {
          "key": "options",
          "value": {
           "alignYAxesAtZero": true,
           "coefficient": 1,
           "columnConfigurationMap": {
            "series": {
             "column": "Neighbourhood",
             "id": "column_2fb88f4124"
            },
            "x": {
             "column": "Percentage",
             "id": "column_2fb88f4123"
            },
            "y": [
             {
              "column": "TotalInNeighbourhoods",
              "id": "column_2fb88f4125",
              "transform": "SUM"
             }
            ]
           },
           "dateTimeFormat": "DD/MM/YYYY HH:mm",
           "direction": {
            "type": "counterclockwise"
           },
           "error_y": {
            "type": "data",
            "visible": true
           },
           "globalSeriesType": "column",
           "isAggregationOn": true,
           "legend": {
            "traceorder": "normal"
           },
           "missingValuesAsZero": true,
           "numberFormat": "0,0.[00000]",
           "percentFormat": "0[.]00%",
           "reverseX": false,
           "series": {
            "error_y": {
             "type": "data",
             "visible": true
            },
            "stacking": "stack"
           },
           "seriesOptions": {
            "Copacabana": {
             "color": "#8CFFB4"
            },
            "Leblon": {
             "color": "#FB8D3D"
            },
            "column_2fb88f4125": {
             "name": "TotalInNeighbourhoods",
             "yAxis": 0
            }
           },
           "showDataLabels": false,
           "sizemode": "diameter",
           "sortX": false,
           "sortY": true,
           "swappedAxes": true,
           "textFormat": "",
           "useAggregationsUi": true,
           "valuesOptions": {},
           "version": 2,
           "xAxis": {
            "labels": {
             "enabled": true
            },
            "type": "-"
           },
           "yAxis": [
            {
             "type": "-"
            },
            {
             "opposite": true,
             "type": "-"
            }
           ]
          }
         }
        ]
       },
       "datasetPreviewNameToCmdIdMap": {},
       "diffDeletes": [],
       "diffInserts": [],
       "displayType": "redashChart",
       "error": null,
       "errorDetails": null,
       "errorSummary": null,
       "errorTraceType": null,
       "finishTime": 0,
       "globalVars": {},
       "guid": "",
       "height": "auto",
       "hideCommandCode": false,
       "hideCommandResult": false,
       "iPythonMetadata": null,
       "inputWidgets": {},
       "isLockedInExamMode": false,
       "latestUser": "a user",
       "latestUserId": null,
       "listResultMetadata": null,
       "metadata": {
        "byteLimit": 2048000,
        "implicitDf": true,
        "rowLimit": 10000
       },
       "nuid": "35f290ea-c4ac-47f1-9dca-18e641f43539",
       "origId": 0,
       "parentHierarchy": [],
       "pivotAggregation": null,
       "pivotColumns": null,
       "position": 8.5,
       "resultDbfsErrorMessage": null,
       "resultDbfsStatus": "INLINED_IN_TREE",
       "results": null,
       "showCommandTitle": false,
       "startTime": 0,
       "state": "input",
       "streamStates": {},
       "subcommandOptions": {
        "queryPlan": {
         "groups": [
          {
           "column": "Percentage",
           "type": "column"
          },
          {
           "column": "Neighbourhood",
           "type": "column"
          }
         ],
         "selects": [
          {
           "column": "Percentage",
           "type": "column"
          },
          {
           "column": "Neighbourhood",
           "type": "column"
          },
          {
           "alias": "column_2fb88f4125",
           "args": [
            {
             "column": "TotalInNeighbourhoods",
             "type": "column"
            }
           ],
           "function": "SUM",
           "type": "function"
          }
         ]
        }
       },
       "submitTime": 0,
       "subtype": "tableResultSubCmd.visualization",
       "tableResultIndex": 0,
       "tableResultSettingsMap": {},
       "useConsistentColors": false,
       "version": "CommandV1",
       "width": "auto",
       "workflows": [],
       "xColumns": null,
       "yColumns": null
      }
     },
     "output_type": "display_data"
    }
   ],
   "source": [
    "%sql\n",
    "SELECT count(id) as TotalInNeighbourhoods, \n",
    "concat(round((TotalInNeighbourhoods/(select count(id) from airbnb.listings) * 100),2), \"%\") as Percentage,\n",
    "neighbourhood_cleansed as Neighbourhood\n",
    "FROM airbnb.listings \n",
    "GROUP BY neighbourhood_cleansed\n",
    "ORDER BY TotalInNeighbourhoods DESC\n",
    "LIMIT 10;"
   ]
  },
  {
   "cell_type": "markdown",
   "metadata": {
    "application/vnd.databricks.v1+cell": {
     "cellMetadata": {
      "byteLimit": 2048000,
      "rowLimit": 10000
     },
     "inputWidgets": {},
     "nuid": "8f2d0b09-4bd3-47f3-af35-20148aa8c3ea",
     "showTitle": false,
     "tableResultSettingsMap": {},
     "title": ""
    }
   },
   "source": [
    "The amount of each room type under he same neighborhood"
   ]
  },
  {
   "cell_type": "code",
   "execution_count": 0,
   "metadata": {
    "application/vnd.databricks.v1+cell": {
     "cellMetadata": {
      "byteLimit": 2048000,
      "implicitDf": true,
      "rowLimit": 10000
     },
     "inputWidgets": {},
     "nuid": "c00e3cc4-96cb-4775-9469-09dfcd78bc99",
     "showTitle": true,
     "tableResultSettingsMap": {},
     "title": "Room Types under each Neighbourhood"
    }
   },
   "outputs": [
    {
     "output_type": "display_data",
     "data": {
      "text/html": [
       "<style scoped>\n",
       "  .table-result-container {\n",
       "    max-height: 300px;\n",
       "    overflow: auto;\n",
       "  }\n",
       "  table, th, td {\n",
       "    border: 1px solid black;\n",
       "    border-collapse: collapse;\n",
       "  }\n",
       "  th, td {\n",
       "    padding: 5px;\n",
       "  }\n",
       "  th {\n",
       "    text-align: left;\n",
       "  }\n",
       "</style><div class='table-result-container'><table class='table-result'><thead style='background-color: white'><tr><th>neighbourhood_cleansed</th><th>room_type</th><th>subgroup_count</th></tr></thead><tbody><tr><td>Abolição</td><td>Private room</td><td>1</td></tr><tr><td>Abolição</td><td>Entire home/apt</td><td>4</td></tr><tr><td>Alto da Boa Vista</td><td>Private room</td><td>14</td></tr><tr><td>Alto da Boa Vista</td><td>Entire home/apt</td><td>26</td></tr><tr><td>Anchieta</td><td>Entire home/apt</td><td>1</td></tr><tr><td>Andaraí</td><td>Private room</td><td>15</td></tr><tr><td>Andaraí</td><td>Entire home/apt</td><td>21</td></tr><tr><td>Andaraí</td><td>Shared room</td><td>2</td></tr><tr><td>Anil</td><td>Entire home/apt</td><td>38</td></tr><tr><td>Anil</td><td>Private room</td><td>18</td></tr><tr><td>Bancários</td><td>Private room</td><td>1</td></tr><tr><td>Bancários</td><td>Entire home/apt</td><td>12</td></tr><tr><td>Bangu</td><td>Entire home/apt</td><td>18</td></tr><tr><td>Bangu</td><td>Private room</td><td>1</td></tr><tr><td>Barra da Tijuca</td><td>Shared room</td><td>2</td></tr><tr><td>Barra da Tijuca</td><td>Entire home/apt</td><td>2845</td></tr><tr><td>Barra da Tijuca</td><td>Private room</td><td>493</td></tr><tr><td>Barra da Tijuca</td><td>Hotel room</td><td>2</td></tr><tr><td>Barra de Guaratiba</td><td>Entire home/apt</td><td>126</td></tr><tr><td>Barra de Guaratiba</td><td>Private room</td><td>41</td></tr></tbody></table></div>"
      ]
     },
     "metadata": {
      "application/vnd.databricks.v1+output": {
       "addedWidgets": {},
       "aggData": [],
       "aggError": "",
       "aggOverflow": false,
       "aggSchema": [],
       "aggSeriesLimitReached": false,
       "aggType": "",
       "arguments": {},
       "columnCustomDisplayInfos": {},
       "data": [
        [
         "Abolição",
         "Private room",
         1
        ],
        [
         "Abolição",
         "Entire home/apt",
         4
        ],
        [
         "Alto da Boa Vista",
         "Private room",
         14
        ],
        [
         "Alto da Boa Vista",
         "Entire home/apt",
         26
        ],
        [
         "Anchieta",
         "Entire home/apt",
         1
        ],
        [
         "Andaraí",
         "Private room",
         15
        ],
        [
         "Andaraí",
         "Entire home/apt",
         21
        ],
        [
         "Andaraí",
         "Shared room",
         2
        ],
        [
         "Anil",
         "Entire home/apt",
         38
        ],
        [
         "Anil",
         "Private room",
         18
        ],
        [
         "Bancários",
         "Private room",
         1
        ],
        [
         "Bancários",
         "Entire home/apt",
         12
        ],
        [
         "Bangu",
         "Entire home/apt",
         18
        ],
        [
         "Bangu",
         "Private room",
         1
        ],
        [
         "Barra da Tijuca",
         "Shared room",
         2
        ],
        [
         "Barra da Tijuca",
         "Entire home/apt",
         2845
        ],
        [
         "Barra da Tijuca",
         "Private room",
         493
        ],
        [
         "Barra da Tijuca",
         "Hotel room",
         2
        ],
        [
         "Barra de Guaratiba",
         "Entire home/apt",
         126
        ],
        [
         "Barra de Guaratiba",
         "Private room",
         41
        ]
       ],
       "datasetInfos": [],
       "dbfsResultPath": null,
       "isJsonSchema": true,
       "metadata": {},
       "overflow": false,
       "plotOptions": {
        "customPlotOptions": {},
        "displayType": "table",
        "pivotAggregation": null,
        "pivotColumns": null,
        "xColumns": null,
        "yColumns": null
       },
       "removedWidgets": [],
       "schema": [
        {
         "metadata": "{}",
         "name": "neighbourhood_cleansed",
         "type": "\"string\""
        },
        {
         "metadata": "{}",
         "name": "room_type",
         "type": "\"string\""
        },
        {
         "metadata": "{}",
         "name": "subgroup_count",
         "type": "\"long\""
        }
       ],
       "type": "table"
      }
     },
     "output_type": "display_data"
    }
   ],
   "source": [
    "%sql\n",
    "SELECT\n",
    "    neighbourhood_cleansed,\n",
    "    room_type,\n",
    "    count(*) AS subgroup_count\n",
    "FROM\n",
    "    airbnb.listings\n",
    "GROUP BY\n",
    "    neighbourhood_cleansed,\n",
    "    room_type\n",
    "ORDER BY\n",
    "   neighbourhood_cleansed\n",
    "LIMIT 20;"
   ]
  },
  {
   "cell_type": "markdown",
   "metadata": {
    "application/vnd.databricks.v1+cell": {
     "cellMetadata": {
      "byteLimit": 2048000,
      "rowLimit": 10000
     },
     "inputWidgets": {},
     "nuid": "d1c081ce-5225-47f9-8f65-cb19ae02faa3",
     "showTitle": false,
     "tableResultSettingsMap": {},
     "title": ""
    }
   },
   "source": [
    "Evaluate the porperty sizes correlation with prices.\n",
    "Usually, high property prices corresponds the capability to accommodate more people. \n",
    "THere are some outliers, like Anchieta that have only 1 listing."
   ]
  },
  {
   "cell_type": "code",
   "execution_count": 0,
   "metadata": {
    "application/vnd.databricks.v1+cell": {
     "cellMetadata": {
      "byteLimit": 2048000,
      "implicitDf": true,
      "rowLimit": 10000
     },
     "inputWidgets": {},
     "nuid": "7aaf8522-34e4-4ee8-87da-8ffdd2375cd1",
     "showTitle": true,
     "tableResultSettingsMap": {},
     "title": "Accommodation vs Price Per Person"
    }
   },
   "outputs": [
    {
     "output_type": "display_data",
     "data": {
      "text/html": [
       "<style scoped>\n",
       "  .table-result-container {\n",
       "    max-height: 300px;\n",
       "    overflow: auto;\n",
       "  }\n",
       "  table, th, td {\n",
       "    border: 1px solid black;\n",
       "    border-collapse: collapse;\n",
       "  }\n",
       "  th, td {\n",
       "    padding: 5px;\n",
       "  }\n",
       "  th {\n",
       "    text-align: left;\n",
       "  }\n",
       "</style><div class='table-result-container'><table class='table-result'><thead style='background-color: white'><tr><th>AveragePrice</th><th>Accomodates</th><th>PricePerPerson</th><th>Neighbourhood</th><th>TotalListings</th></tr></thead><tbody><tr><td>9073.54</td><td>8.7</td><td>1042.94</td><td>Joá</td><td>155</td></tr><tr><td>3581.89</td><td>5.11</td><td>700.96</td><td>São Conrado</td><td>314</td></tr><tr><td>6068.0</td><td>10.0</td><td>606.8</td><td>Anchieta</td><td>1</td></tr><tr><td>1878.61</td><td>3.52</td><td>533.7</td><td>Curicica</td><td>67</td></tr><tr><td>3000.23</td><td>5.64</td><td>531.96</td><td>Itanhangá</td><td>158</td></tr><tr><td>2032.96</td><td>4.12</td><td>493.44</td><td>Lagoa</td><td>257</td></tr><tr><td>1890.02</td><td>4.08</td><td>463.24</td><td>Ipanema</td><td>3332</td></tr><tr><td>1751.0</td><td>4.0</td><td>437.75</td><td>Leblon</td><td>1638</td></tr><tr><td>1607.08</td><td>3.84</td><td>418.51</td><td>Cachambi</td><td>25</td></tr><tr><td>1599.79</td><td>4.13</td><td>387.36</td><td>Gávea</td><td>205</td></tr><tr><td>1356.28</td><td>4.08</td><td>332.42</td><td>Copacabana</td><td>11421</td></tr><tr><td>1179.73</td><td>3.6</td><td>327.7</td><td>Vidigal</td><td>247</td></tr><tr><td>1389.8</td><td>4.38</td><td>317.31</td><td>Barra da Tijuca</td><td>3342</td></tr><tr><td>1224.24</td><td>3.93</td><td>311.51</td><td>Leme</td><td>718</td></tr><tr><td>1127.47</td><td>3.66</td><td>308.05</td><td>Taquara</td><td>146</td></tr><tr><td>1020.44</td><td>3.39</td><td>301.01</td><td>Jardim Botânico</td><td>184</td></tr><tr><td>703.35</td><td>2.54</td><td>276.91</td><td>Portuguesa</td><td>46</td></tr><tr><td>1010.76</td><td>3.73</td><td>270.98</td><td>Urca</td><td>150</td></tr><tr><td>876.22</td><td>3.44</td><td>254.72</td><td>Cidade de Deus</td><td>9</td></tr><tr><td>887.39</td><td>3.62</td><td>245.14</td><td>Humaitá</td><td>144</td></tr></tbody></table></div>"
      ]
     },
     "metadata": {
      "application/vnd.databricks.v1+output": {
       "addedWidgets": {},
       "aggData": [],
       "aggError": "",
       "aggOverflow": false,
       "aggSchema": [],
       "aggSeriesLimitReached": false,
       "aggType": "",
       "arguments": {},
       "columnCustomDisplayInfos": {},
       "data": [
        [
         9073.54,
         8.7,
         1042.94,
         "Joá",
         155
        ],
        [
         3581.89,
         5.11,
         700.96,
         "São Conrado",
         314
        ],
        [
         6068.0,
         10.0,
         606.8,
         "Anchieta",
         1
        ],
        [
         1878.61,
         3.52,
         533.7,
         "Curicica",
         67
        ],
        [
         3000.23,
         5.64,
         531.96,
         "Itanhangá",
         158
        ],
        [
         2032.96,
         4.12,
         493.44,
         "Lagoa",
         257
        ],
        [
         1890.02,
         4.08,
         463.24,
         "Ipanema",
         3332
        ],
        [
         1751.0,
         4.0,
         437.75,
         "Leblon",
         1638
        ],
        [
         1607.08,
         3.84,
         418.51,
         "Cachambi",
         25
        ],
        [
         1599.79,
         4.13,
         387.36,
         "Gávea",
         205
        ],
        [
         1356.28,
         4.08,
         332.42,
         "Copacabana",
         11421
        ],
        [
         1179.73,
         3.6,
         327.7,
         "Vidigal",
         247
        ],
        [
         1389.8,
         4.38,
         317.31,
         "Barra da Tijuca",
         3342
        ],
        [
         1224.24,
         3.93,
         311.51,
         "Leme",
         718
        ],
        [
         1127.47,
         3.66,
         308.05,
         "Taquara",
         146
        ],
        [
         1020.44,
         3.39,
         301.01,
         "Jardim Botânico",
         184
        ],
        [
         703.35,
         2.54,
         276.91,
         "Portuguesa",
         46
        ],
        [
         1010.76,
         3.73,
         270.98,
         "Urca",
         150
        ],
        [
         876.22,
         3.44,
         254.72,
         "Cidade de Deus",
         9
        ],
        [
         887.39,
         3.62,
         245.14,
         "Humaitá",
         144
        ]
       ],
       "datasetInfos": [],
       "dbfsResultPath": null,
       "isJsonSchema": true,
       "metadata": {},
       "overflow": false,
       "plotOptions": {
        "customPlotOptions": {},
        "displayType": "table",
        "pivotAggregation": null,
        "pivotColumns": null,
        "xColumns": null,
        "yColumns": null
       },
       "removedWidgets": [],
       "schema": [
        {
         "metadata": "{}",
         "name": "AveragePrice",
         "type": "\"double\""
        },
        {
         "metadata": "{}",
         "name": "Accomodates",
         "type": "\"double\""
        },
        {
         "metadata": "{}",
         "name": "PricePerPerson",
         "type": "\"double\""
        },
        {
         "metadata": "{}",
         "name": "Neighbourhood",
         "type": "\"string\""
        },
        {
         "metadata": "{}",
         "name": "TotalListings",
         "type": "\"long\""
        }
       ],
       "type": "table"
      }
     },
     "output_type": "display_data"
    }
   ],
   "source": [
    "%sql\n",
    "SELECT round(avg(price), 2) as AveragePrice,\n",
    "round(avg(accommodates),2) as Accomodates,\n",
    "round((AveragePrice/Accomodates), 2) as PricePerPerson,\n",
    "neighbourhood_cleansed as Neighbourhood,\n",
    "count(id) as TotalListings\n",
    "FROM airbnb.listings\n",
    "GROUP BY neighbourhood_cleansed\n",
    "ORDER BY PricePerPerson DESC\n",
    "LIMIT 20;"
   ]
  },
  {
   "cell_type": "markdown",
   "metadata": {
    "application/vnd.databricks.v1+cell": {
     "cellMetadata": {
      "byteLimit": 2048000,
      "rowLimit": 10000
     },
     "inputWidgets": {},
     "nuid": "3ce076cf-37d0-43cc-a590-24c5004dac0a",
     "showTitle": false,
     "tableResultSettingsMap": {},
     "title": ""
    }
   },
   "source": [
    "RevPar (Revenue per Available Room) is a metric used in hospitality to measure the occupancy rate.\n",
    "\n",
    "it devides the total **room revenue** by the **total number of rooms available** in the period being measured. This indicator brings how much revenue each listing generates in a certain period of time, whether occupied or not.\n",
    "\n",
    "In order to avoid any distorcions, it was selected only regions of the city of Rio de Janeiro that have more than 500 listings. For the sake of the study of the assignment, each reagion is being regarded as a hotel which all listing available represent the total number of rooms avaible."
   ]
  },
  {
   "cell_type": "code",
   "execution_count": 0,
   "metadata": {
    "application/vnd.databricks.v1+cell": {
     "cellMetadata": {
      "byteLimit": 2048000,
      "implicitDf": true,
      "rowLimit": 10000
     },
     "inputWidgets": {},
     "nuid": "43a729c4-74d9-48fa-8080-f2ec871fc608",
     "showTitle": true,
     "tableResultSettingsMap": {},
     "title": "RevPAR"
    }
   },
   "outputs": [
    {
     "output_type": "display_data",
     "data": {
      "text/html": [
       "<style scoped>\n",
       "  .table-result-container {\n",
       "    max-height: 300px;\n",
       "    overflow: auto;\n",
       "  }\n",
       "  table, th, td {\n",
       "    border: 1px solid black;\n",
       "    border-collapse: collapse;\n",
       "  }\n",
       "  th, td {\n",
       "    padding: 5px;\n",
       "  }\n",
       "  th {\n",
       "    text-align: left;\n",
       "  }\n",
       "</style><div class='table-result-container'><table class='table-result'><thead style='background-color: white'><tr><th>RevPAR</th><th>TotalListings</th><th>Neighbourhood</th></tr></thead><tbody><tr><td>1890.02</td><td>3332</td><td>Ipanema</td></tr><tr><td>1751.0</td><td>1638</td><td>Leblon</td></tr><tr><td>1389.8</td><td>3342</td><td>Barra da Tijuca</td></tr><tr><td>1356.27</td><td>11420</td><td>Copacabana</td></tr><tr><td>1224.24</td><td>718</td><td>Leme</td></tr><tr><td>908.44</td><td>1894</td><td>Recreio dos Bandeirantes</td></tr><tr><td>779.7</td><td>1704</td><td>Jacarepaguá</td></tr><tr><td>762.9</td><td>1150</td><td>Santa Teresa</td></tr><tr><td>715.44</td><td>793</td><td>Flamengo</td></tr><tr><td>703.65</td><td>1521</td><td>Botafogo</td></tr><tr><td>586.27</td><td>702</td><td>Camorim</td></tr><tr><td>499.2</td><td>1539</td><td>Centro</td></tr></tbody></table></div>"
      ]
     },
     "metadata": {
      "application/vnd.databricks.v1+output": {
       "addedWidgets": {},
       "aggData": [],
       "aggError": "",
       "aggOverflow": false,
       "aggSchema": [],
       "aggSeriesLimitReached": false,
       "aggType": "",
       "arguments": {},
       "columnCustomDisplayInfos": {},
       "data": [
        [
         1890.02,
         3332,
         "Ipanema"
        ],
        [
         1751.0,
         1638,
         "Leblon"
        ],
        [
         1389.8,
         3342,
         "Barra da Tijuca"
        ],
        [
         1356.27,
         11420,
         "Copacabana"
        ],
        [
         1224.24,
         718,
         "Leme"
        ],
        [
         908.44,
         1894,
         "Recreio dos Bandeirantes"
        ],
        [
         779.7,
         1704,
         "Jacarepaguá"
        ],
        [
         762.9,
         1150,
         "Santa Teresa"
        ],
        [
         715.44,
         793,
         "Flamengo"
        ],
        [
         703.65,
         1521,
         "Botafogo"
        ],
        [
         586.27,
         702,
         "Camorim"
        ],
        [
         499.2,
         1539,
         "Centro"
        ]
       ],
       "datasetInfos": [],
       "dbfsResultPath": null,
       "isJsonSchema": true,
       "metadata": {},
       "overflow": false,
       "plotOptions": {
        "customPlotOptions": {},
        "displayType": "table",
        "pivotAggregation": null,
        "pivotColumns": null,
        "xColumns": null,
        "yColumns": null
       },
       "removedWidgets": [],
       "schema": [
        {
         "metadata": "{}",
         "name": "RevPAR",
         "type": "\"double\""
        },
        {
         "metadata": "{}",
         "name": "TotalListings",
         "type": "\"long\""
        },
        {
         "metadata": "{}",
         "name": "Neighbourhood",
         "type": "\"string\""
        }
       ],
       "type": "table"
      }
     },
     "output_type": "display_data"
    }
   ],
   "source": [
    "%sql\n",
    "SELECT round((sum(price)/count(id)), 2) as RevPAR,\n",
    "count(id) as TotalListings,\n",
    "neighbourhood_cleansed as Neighbourhood\n",
    "FROM airbnb.listings\n",
    "WHERE has_availability = TRUE\n",
    "GROUP BY neighbourhood_cleansed\n",
    "HAVING count(id) > 500\n",
    "ORDER BY RevPAR DESC\n",
    "LIMIT 50;"
   ]
  },
  {
   "cell_type": "markdown",
   "metadata": {
    "application/vnd.databricks.v1+cell": {
     "cellMetadata": {
      "byteLimit": 2048000,
      "rowLimit": 10000
     },
     "inputWidgets": {},
     "nuid": "86b1f13f-c3b9-455a-b95e-420c5bcb07e3",
     "showTitle": false,
     "tableResultSettingsMap": {},
     "title": ""
    }
   },
   "source": [
    "Group each review range and evaluate whether there is an impact on price (revenue). \n",
    "\n",
    "Zero replaces all listings with NULL in the CSV file.\n",
    "\n",
    "The query shows there is a weak relationship between prices and review ratings. The correlation is higher on the occommodation sizes and neighbourhood. "
   ]
  },
  {
   "cell_type": "code",
   "execution_count": 0,
   "metadata": {
    "application/vnd.databricks.v1+cell": {
     "cellMetadata": {
      "byteLimit": 2048000,
      "implicitDf": true,
      "rowLimit": 10000
     },
     "inputWidgets": {},
     "nuid": "5857b43f-289a-4c36-9f7d-36516983de1c",
     "showTitle": true,
     "tableResultSettingsMap": {},
     "title": "Reviews vs Price"
    }
   },
   "outputs": [
    {
     "output_type": "display_data",
     "data": {
      "text/html": [
       "<style scoped>\n",
       "  .table-result-container {\n",
       "    max-height: 300px;\n",
       "    overflow: auto;\n",
       "  }\n",
       "  table, th, td {\n",
       "    border: 1px solid black;\n",
       "    border-collapse: collapse;\n",
       "  }\n",
       "  th, td {\n",
       "    padding: 5px;\n",
       "  }\n",
       "  th {\n",
       "    text-align: left;\n",
       "  }\n",
       "</style><div class='table-result-container'><table class='table-result'><thead style='background-color: white'><tr><th>ReviewRange</th><th>TotalProperties</th><th>AvgPrice</th></tr></thead><tbody><tr><td>not defined</td><td>13954</td><td>1516.35</td></tr><tr><td>1-1.9</td><td>53</td><td>1480.0</td></tr><tr><td>5</td><td>10451</td><td>1055.57</td></tr><tr><td>4-4.9</td><td>11365</td><td>1047.5</td></tr><tr><td>3-3.9</td><td>326</td><td>999.05</td></tr><tr><td>2-2.9</td><td>57</td><td>734.93</td></tr></tbody></table></div>"
      ]
     },
     "metadata": {
      "application/vnd.databricks.v1+output": {
       "addedWidgets": {},
       "aggData": [],
       "aggError": "",
       "aggOverflow": false,
       "aggSchema": [],
       "aggSeriesLimitReached": false,
       "aggType": "",
       "arguments": {},
       "columnCustomDisplayInfos": {},
       "data": [
        [
         "not defined",
         13954,
         1516.35
        ],
        [
         "1-1.9",
         53,
         1480.0
        ],
        [
         "5",
         10451,
         1055.57
        ],
        [
         "4-4.9",
         11365,
         1047.5
        ],
        [
         "3-3.9",
         326,
         999.05
        ],
        [
         "2-2.9",
         57,
         734.93
        ]
       ],
       "datasetInfos": [],
       "dbfsResultPath": null,
       "isJsonSchema": true,
       "metadata": {},
       "overflow": false,
       "plotOptions": {
        "customPlotOptions": {},
        "displayType": "table",
        "pivotAggregation": null,
        "pivotColumns": null,
        "xColumns": null,
        "yColumns": null
       },
       "removedWidgets": [],
       "schema": [
        {
         "metadata": "{}",
         "name": "ReviewRange",
         "type": "\"string\""
        },
        {
         "metadata": "{}",
         "name": "TotalProperties",
         "type": "\"long\""
        },
        {
         "metadata": "{}",
         "name": "AvgPrice",
         "type": "\"double\""
        }
       ],
       "type": "table"
      }
     },
     "output_type": "display_data"
    }
   ],
   "source": [
    "%sql\n",
    "select t.range as ReviewRange, count(*) as TotalProperties, round(avg(t.price), 2) as AvgPrice\n",
    "from (\n",
    "  select case  \n",
    "    when reviews between 4.0 and 4.9 then '4-4.9'\n",
    "    when reviews between 3.0 and 3.9 then '3-3.9'\n",
    "    when reviews between 2.0 and 2.9 then '2-2.9'\n",
    "    when reviews between 1.0 and 1.9 then '1-1.9'\n",
    "    when reviews between 0.1 and 0.9 then '0-0.9'\n",
    "    when reviews == 5 then '5'\n",
    "    else 'not defined' end as range,\n",
    "    price\n",
    "  from airbnb.listings) t\n",
    "group by t.range\n",
    "order by AvgPrice desc\n",
    "\n"
   ]
  }
 ],
 "metadata": {
  "application/vnd.databricks.v1+notebook": {
   "computePreferences": null,
   "dashboards": [],
   "environmentMetadata": {
    "base_environment": "",
    "environment_version": "1"
   },
   "inputWidgetPreferences": null,
   "language": "python",
   "notebookMetadata": {
    "mostRecentlyExecutedCommandWithImplicitDF": {
     "commandId": 3722685364652672,
     "dataframes": [
      "_sqldf"
     ]
    },
    "pythonIndentUnit": 4
   },
   "notebookName": "MVP - Data Pipeline",
   "widgets": {}
  }
 },
 "nbformat": 4,
 "nbformat_minor": 0
}