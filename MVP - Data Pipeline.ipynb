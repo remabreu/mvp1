{
 "cells": [
  {
   "cell_type": "code",
   "execution_count": 0,
   "metadata": {
    "application/vnd.databricks.v1+cell": {
     "cellMetadata": {
      "byteLimit": 2048000,
      "rowLimit": 10000
     },
     "inputWidgets": {},
     "nuid": "9971a26c-a4ab-46bb-b346-c7b6b98dc19e",
     "showTitle": true,
     "tableResultSettingsMap": {},
     "title": "Display CSV file location"
    }
   },
   "outputs": [
    {
     "output_type": "display_data",
     "data": {
      "text/html": [
       "<style scoped>\n",
       "  .table-result-container {\n",
       "    max-height: 300px;\n",
       "    overflow: auto;\n",
       "  }\n",
       "  table, th, td {\n",
       "    border: 1px solid black;\n",
       "    border-collapse: collapse;\n",
       "  }\n",
       "  th, td {\n",
       "    padding: 5px;\n",
       "  }\n",
       "  th {\n",
       "    text-align: left;\n",
       "  }\n",
       "</style><div class='table-result-container'><table class='table-result'><thead style='background-color: white'><tr><th>path</th><th>name</th><th>size</th><th>modificationTime</th></tr></thead><tbody><tr><td>dbfs:/FileStore/mvp/airbnb/listings.csv</td><td>listings.csv</td><td>78951368</td><td>1743891667000</td></tr></tbody></table></div>"
      ]
     },
     "metadata": {
      "application/vnd.databricks.v1+output": {
       "addedWidgets": {},
       "aggData": [],
       "aggError": "",
       "aggOverflow": false,
       "aggSchema": [],
       "aggSeriesLimitReached": false,
       "aggType": "",
       "arguments": {},
       "columnCustomDisplayInfos": {},
       "data": [
        [
         "dbfs:/FileStore/mvp/airbnb/listings.csv",
         "listings.csv",
         78951368,
         1743891667000
        ]
       ],
       "datasetInfos": [],
       "dbfsResultPath": null,
       "isJsonSchema": true,
       "metadata": {},
       "overflow": false,
       "plotOptions": {
        "customPlotOptions": {},
        "displayType": "table",
        "pivotAggregation": null,
        "pivotColumns": null,
        "xColumns": null,
        "yColumns": null
       },
       "removedWidgets": [],
       "schema": [
        {
         "metadata": "{}",
         "name": "path",
         "type": "\"string\""
        },
        {
         "metadata": "{}",
         "name": "name",
         "type": "\"string\""
        },
        {
         "metadata": "{}",
         "name": "size",
         "type": "\"long\""
        },
        {
         "metadata": "{}",
         "name": "modificationTime",
         "type": "\"long\""
        }
       ],
       "type": "table"
      }
     },
     "output_type": "display_data"
    }
   ],
   "source": [
    "#display the CVS file is uploaded at DBFS storage (internal to Databricks)\n",
    "display(dbutils.fs.ls('/FileStore/mvp/airbnb'))"
   ]
  },
  {
   "cell_type": "code",
   "execution_count": 0,
   "metadata": {
    "application/vnd.databricks.v1+cell": {
     "cellMetadata": {
      "byteLimit": 2048000,
      "implicitDf": true,
      "rowLimit": 10000
     },
     "inputWidgets": {},
     "nuid": "2c740eda-9d33-46f6-b7e6-e03d44ec19da",
     "showTitle": true,
     "tableResultSettingsMap": {},
     "title": "Create database where  analisys will be performed via SQL if not exists"
    }
   },
   "outputs": [
    {
     "output_type": "display_data",
     "data": {
      "text/html": [
       "<style scoped>\n",
       "  .table-result-container {\n",
       "    max-height: 300px;\n",
       "    overflow: auto;\n",
       "  }\n",
       "  table, th, td {\n",
       "    border: 1px solid black;\n",
       "    border-collapse: collapse;\n",
       "  }\n",
       "  th, td {\n",
       "    padding: 5px;\n",
       "  }\n",
       "  th {\n",
       "    text-align: left;\n",
       "  }\n",
       "</style><div class='table-result-container'><table class='table-result'><thead style='background-color: white'><tr></tr></thead><tbody></tbody></table></div>"
      ]
     },
     "metadata": {
      "application/vnd.databricks.v1+output": {
       "addedWidgets": {},
       "aggData": [],
       "aggError": "",
       "aggOverflow": false,
       "aggSchema": [],
       "aggSeriesLimitReached": false,
       "aggType": "",
       "arguments": {},
       "columnCustomDisplayInfos": {},
       "data": [],
       "datasetInfos": [],
       "dbfsResultPath": null,
       "isJsonSchema": true,
       "metadata": {},
       "overflow": false,
       "plotOptions": {
        "customPlotOptions": {},
        "displayType": "table",
        "pivotAggregation": null,
        "pivotColumns": null,
        "xColumns": null,
        "yColumns": null
       },
       "removedWidgets": [],
       "schema": [],
       "type": "table"
      }
     },
     "output_type": "display_data"
    }
   ],
   "source": [
    " \n",
    "%sql\n",
    "--drop database schema airbnb if it is created\n",
    "-- create the database airbnb, (gold tier) where all study will carried out\n",
    "DROP SCHEMA IF EXISTS airbnb CASCADE;\n",
    "CREATE DATABASE airbnb;\n"
   ]
  },
  {
   "cell_type": "code",
   "execution_count": 0,
   "metadata": {
    "application/vnd.databricks.v1+cell": {
     "cellMetadata": {
      "byteLimit": 2048000,
      "rowLimit": 10000
     },
     "inputWidgets": {},
     "nuid": "738282fc-c3ae-4ef5-9aa2-35808e1378d6",
     "showTitle": true,
     "tableResultSettingsMap": {},
     "title": "ETL"
    }
   },
   "outputs": [
    {
     "output_type": "display_data",
     "data": {
      "text/html": [
       "<style scoped>\n",
       "  .table-result-container {\n",
       "    max-height: 300px;\n",
       "    overflow: auto;\n",
       "  }\n",
       "  table, th, td {\n",
       "    border: 1px solid black;\n",
       "    border-collapse: collapse;\n",
       "  }\n",
       "  th, td {\n",
       "    padding: 5px;\n",
       "  }\n",
       "  th {\n",
       "    text-align: left;\n",
       "  }\n",
       "</style><div class='table-result-container'><table class='table-result'><thead style='background-color: white'><tr><th>id</th><th>name</th><th>description</th><th>neighborhood_overview</th><th>host_name</th><th>host_since</th><th>neighbourhood</th><th>neighbourhood_cleansed</th><th>latitude</th><th>longitude</th><th>property_type</th><th>room_type</th><th>price</th><th>review_scores_accuracy</th><th>accommodates</th><th>has_availability</th></tr></thead><tbody><tr><td>0</td><td>0</td><td>1120</td><td>22619</td><td>2</td><td>2</td><td>22619</td><td>0</td><td>0</td><td>0</td><td>0</td><td>0</td><td>2855</td><td>10420</td><td>0</td><td>497</td></tr></tbody></table></div>"
      ]
     },
     "metadata": {
      "application/vnd.databricks.v1+output": {
       "addedWidgets": {},
       "aggData": [],
       "aggError": "",
       "aggOverflow": false,
       "aggSchema": [],
       "aggSeriesLimitReached": false,
       "aggType": "",
       "arguments": {},
       "columnCustomDisplayInfos": {},
       "data": [
        [
         0,
         0,
         1120,
         22619,
         2,
         2,
         22619,
         0,
         0,
         0,
         0,
         0,
         2855,
         10420,
         0,
         497
        ]
       ],
       "datasetInfos": [],
       "dbfsResultPath": null,
       "isJsonSchema": true,
       "metadata": {},
       "overflow": false,
       "plotOptions": {
        "customPlotOptions": {},
        "displayType": "table",
        "pivotAggregation": null,
        "pivotColumns": null,
        "xColumns": null,
        "yColumns": null
       },
       "removedWidgets": [],
       "schema": [
        {
         "metadata": "{}",
         "name": "id",
         "type": "\"long\""
        },
        {
         "metadata": "{}",
         "name": "name",
         "type": "\"long\""
        },
        {
         "metadata": "{}",
         "name": "description",
         "type": "\"long\""
        },
        {
         "metadata": "{}",
         "name": "neighborhood_overview",
         "type": "\"long\""
        },
        {
         "metadata": "{}",
         "name": "host_name",
         "type": "\"long\""
        },
        {
         "metadata": "{}",
         "name": "host_since",
         "type": "\"long\""
        },
        {
         "metadata": "{}",
         "name": "neighbourhood",
         "type": "\"long\""
        },
        {
         "metadata": "{}",
         "name": "neighbourhood_cleansed",
         "type": "\"long\""
        },
        {
         "metadata": "{}",
         "name": "latitude",
         "type": "\"long\""
        },
        {
         "metadata": "{}",
         "name": "longitude",
         "type": "\"long\""
        },
        {
         "metadata": "{}",
         "name": "property_type",
         "type": "\"long\""
        },
        {
         "metadata": "{}",
         "name": "room_type",
         "type": "\"long\""
        },
        {
         "metadata": "{}",
         "name": "price",
         "type": "\"long\""
        },
        {
         "metadata": "{}",
         "name": "review_scores_accuracy",
         "type": "\"long\""
        },
        {
         "metadata": "{}",
         "name": "accommodates",
         "type": "\"long\""
        },
        {
         "metadata": "{}",
         "name": "has_availability",
         "type": "\"long\""
        }
       ],
       "type": "table"
      }
     },
     "output_type": "display_data"
    }
   ],
   "source": [
    "\n",
    "from pyspark.sql.types import BooleanType, DoubleType\n",
    "from pyspark.sql.functions import translate, col, isnan, when, count\n",
    "\n",
    "#Load CVS into a dataframe. CSV has specifal attributes such as comma as seprator, quotes under fields and line breaks\n",
    "#Some of the descriptions and names are in PT-BR, so setting encoding to UTF-8\n",
    "bronze_df = spark.read.csv(\"dbfs:/FileStore/mvp/airbnb/listings.csv\", \n",
    "                           header=True, \n",
    "                           inferSchema=True, \n",
    "                           sep=',', quote='\"', \n",
    "                           escape='\"', \n",
    "                           multiLine=True,\n",
    "                           encoding='UTF-8')\n",
    "\n",
    "'''\n",
    "select columns that are part of the assigment. Thus, they will be part of the gold database. This is only for simplicity when \n",
    "handling or visualizing data.\n",
    "'''\n",
    "SelectedColumns = [\n",
    "'id',\n",
    "'name',\n",
    "'description',\n",
    "'neighborhood_overview',\n",
    "'host_name',\n",
    "'host_since',\n",
    "'neighbourhood',\n",
    "'neighbourhood_cleansed',\n",
    "'latitude',\n",
    "'longitude',\n",
    "'property_type',\n",
    "'room_type',\n",
    "'price',\n",
    "'review_scores_accuracy',\n",
    "'accommodates',\n",
    "'has_availability']\n",
    "\n",
    "silver_df = bronze_df[SelectedColumns]\n",
    "\n",
    "display(silver_df.select([count(when(col(field).isNull(), field)).alias(field) for field in silver_df.columns]))\n",
    "\n"
   ]
  },
  {
   "cell_type": "code",
   "execution_count": 0,
   "metadata": {
    "application/vnd.databricks.v1+cell": {
     "cellMetadata": {
      "byteLimit": 2048000,
      "rowLimit": 10000
     },
     "inputWidgets": {},
     "nuid": "3c230d84-20a6-4777-b213-09a5c0b25d9c",
     "showTitle": false,
     "tableResultSettingsMap": {},
     "title": ""
    }
   },
   "outputs": [],
   "source": [
    "#cast the has_availability filed from String to Boolean and make sure there are no NULL values in it\n",
    "silver_df = silver_df \\\n",
    "        .withColumn('has_availability',silver_df.has_availability.cast(BooleanType())) \\\n",
    "        .dropna(subset='has_availability')\n",
    "\n",
    "#Null fields in reviews, set to 0\n",
    "silver_df = silver_df.select(col(\"*\"), when(silver_df.review_scores_accuracy.isNull() , 0) \\\n",
    "        .otherwise(silver_df.review_scores_accuracy).alias(\"reviews\"))\n",
    "                          \n",
    "# make the price field to be calculated to extract averages and sums. \n",
    "# It contains, on orginal CSV, the symbol \"$\" and thousand separators which prevents the calculations  \n",
    "# Cast from String to Double and remove the records which the price field is null, to avoid miscalculations\n",
    "silver_df = silver_df \\\n",
    "        .withColumn('price', translate('price', \"$\", \"\")) \\\n",
    "        .withColumn('price', translate('price', \",\", \"\")) \\\n",
    "        \n",
    "gold_df = silver_df.withColumn('price', silver_df.price.cast(DoubleType())) \\\n",
    "        .dropna(subset='price')\n",
    "\n",
    "#create the table listings under airbnb database schema\n",
    "gold_df.write.mode(\"overwrite\").saveAsTable(\"airbnb.listings\")\n"
   ]
  },
  {
   "cell_type": "code",
   "execution_count": 0,
   "metadata": {
    "application/vnd.databricks.v1+cell": {
     "cellMetadata": {
      "byteLimit": 2048000,
      "implicitDf": true,
      "rowLimit": 10000
     },
     "inputWidgets": {},
     "nuid": "1e4bf63d-4faf-4586-9b30-f424fb1b6868",
     "showTitle": true,
     "tableResultSettingsMap": {},
     "title": "Make sure all data is cleansed"
    }
   },
   "outputs": [
    {
     "output_type": "display_data",
     "data": {
      "text/html": [
       "<style scoped>\n",
       "  .table-result-container {\n",
       "    max-height: 300px;\n",
       "    overflow: auto;\n",
       "  }\n",
       "  table, th, td {\n",
       "    border: 1px solid black;\n",
       "    border-collapse: collapse;\n",
       "  }\n",
       "  th, td {\n",
       "    padding: 5px;\n",
       "  }\n",
       "  th {\n",
       "    text-align: left;\n",
       "  }\n",
       "</style><div class='table-result-container'><table class='table-result'><thead style='background-color: white'><tr><th>id</th><th>name</th><th>description</th><th>neighborhood_overview</th><th>host_name</th><th>host_since</th><th>neighbourhood</th><th>neighbourhood_cleansed</th><th>latitude</th><th>longitude</th><th>property_type</th><th>room_type</th><th>price</th><th>review_scores_accuracy</th><th>accommodates</th><th>has_availability</th><th>reviews</th></tr></thead><tbody><tr><td>271975</td><td>Unbelievable Ocean View Apartment</td><td>null</td><td>If you like hiking, you have to get on this track to the top of \"Dois Irmãos\" hill, one of Rio's most beautiful view. It's not difficult and not a long way up there.<br />http://rioforyou.com/<br /><br />If you like trails, Vidigal is the place to stay. One of the most spectacular views of Rio is on the trail to the top of \"Dois Irmãos\", that mountain that seems inaccessible that you see from the beach of arpoador, ipanema and leblon is not as difficult to access as it seems. Staying in the neighborhood of Vidigal you already have access to the trail much easier and even without a guide, asked the friendly residents of the community you will come to the top with ease.<br />http://trilhadoisirmaos.com.br/<br /><br />Public and beautiful Park in Vidigal:<br />Sitiê<br />http://www.parquesitie.org/<br /><br />Restaurants in Vidigal:<br />Barlacubaco Restaurant<br />Av. Presidente João Goulart, 686.<br /><br />Art and Theatre:<br />Nós do Morro<br />www.nosdomorro.com.br</td><td>Maria</td><td>2011-11-19</td><td>Rio de Janeiro, Brazil</td><td>Vidigal</td><td>-22.99508</td><td>-43.23604</td><td>Entire rental unit</td><td>Entire home/apt</td><td>236.0</td><td>4.33</td><td>4</td><td>true</td><td>4.33</td></tr><tr><td>272335</td><td>EXCELENTE APARTAMENTO EM COPACABANA</td><td>The apartment has 30m2 with connecting bedroom/living room, full bathroom and small kitchen fully  equipped. Air conditioning, wi-fi internet,  1 double bed, 1 double sofa bed, 2 blocks from Copacabana beach.</td><td>The beauty of my Copacabana beach.  This needs no further comment.</td><td>Vitor</td><td>2013-07-15</td><td>Rio de Janeiro, Brazil</td><td>Copacabana</td><td>-22.9623</td><td>-43.17389</td><td>Entire rental unit</td><td>Entire home/apt</td><td>723.0</td><td>4.91</td><td>4</td><td>true</td><td>4.91</td></tr><tr><td>272631</td><td>Comfort em Copacabana</td><td>The apartment is located in the Shopping dos Antiqueários in Copacabana and has total 24h security.<br />The rooms are cozy and airy with beautiful views of the green, double box bed, fan, air conditioning, cable TV. Bathroom may be shared . In the kitchen, the microwave oven and the refrigerator can be used. <br />Breakfast is served from 8:30 am to 11am.<br />Available: internet , bed linen and towels every 5 days. We offer transfers for payment.</td><td>null</td><td>Neyde</td><td>2011-11-20</td><td>null</td><td>Copacabana</td><td>-22.9675</td><td>-43.18666</td><td>Private room in rental unit</td><td>Private room</td><td>1146.0</td><td>5.0</td><td>2</td><td>true</td><td>5.0</td></tr><tr><td>273261</td><td>Amazing Huge Apartment in Leblon</td><td>spacious apartment, with ocean view, super well furnished, 49 inches flat TV,  TV in suite 42 inches, wifi throughout the apartment, two refrigerators, laundry machine, fully equipped kitchen,three bedrooms, three bathrooms. Impeccable!</td><td>null</td><td>Lucas</td><td>2011-04-25</td><td>null</td><td>Leblon</td><td>-22.98632</td><td>-43.22936</td><td>Entire rental unit</td><td>Entire home/apt</td><td>6742.0</td><td>null</td><td>6</td><td>true</td><td>0.0</td></tr><tr><td>273363</td><td>Lindo quarto sossegado para temporada</td><td>We are happy to share our home with all those who arrive<br />Our daily exercise is empathy for respect for differences!<br />We're so grateful to meet people from all over the world</td><td>Santa Teresa is a unique and very interesting place in Rio. It is situated in the central region and high on a hill offering a privileged view of the city, Guanabara Bay and Pāo de Açúcar. This neighborhood seems to have stopped in time, with its old houses, mansions, narrow cobbled streets and the famous cable car that takes locals and tourists downhill.</td><td>Casa Da Carmen E</td><td>2011-05-04</td><td>Rio de Janeiro, Brazil</td><td>Santa Teresa</td><td>-22.91825</td><td>-43.17872</td><td>Private room in home</td><td>Private room</td><td>61.0</td><td>5.0</td><td>1</td><td>true</td><td>5.0</td></tr><tr><td>273463</td><td>Apto de 2 qtos com vista para Lagoa e  garagem</td><td>Two-bedroom apartment with two full bathrooms, clean and with a stunning view of Lagoa Rodrigo de Freitas! A postcard of Rio. Close to Copacabana and Ipanema. It has 2 smart TVs with no cable TV. Near the Cantagalo and General Osório subway stations. There is 1 parking space in the building. Wi-Fi speed: 500 Mb.</td><td>Lagoa is a very chic, safe, central neighborhood is beautiful. An important tourist spot in Rio. It is possible to walk to copacabana and Ipanema.</td><td>Valeria</td><td>2010-12-15</td><td>Rio, Rio de Janeiro, Brazil</td><td>Lagoa</td><td>-22.97542</td><td>-43.19857</td><td>Entire rental unit</td><td>Entire home/apt</td><td>1411.0</td><td>4.89</td><td>6</td><td>true</td><td>4.89</td></tr><tr><td>273496</td><td>Luxury Accommodation in Hip Leblon</td><td>In Rio's best location, this luxury and fully equipped apartment is your best option to stay at home or for sightseeing. <br /><br />Enjoy relaxing moments in this apartament and lots of fun in their surroundings.</td><td>Leblon is one of the most exclusive and safe neighborhoods in Rio. It is an affluent neighborhood just west from Ipanema. In the north it is bordered by Gávea and in the west by a towering hill (where people do hang gliding) which connects to São Conrado and Barra - where you can find the best spots for surfing and kite surfing in Rio. <br /><br />It´s very much like Ipanema but even more exclusive. In the opinion of most “cariocas” - term used for people that are born in Rio - Leblon is the Rio's best neighborhood with lots of restaurants and bars; some of them are open 24 hours a day. People use to go there to enjoy life and eat late at night. <br /><br />In a recent research for a big magazine, cariocas said that Leblon is the place where you find more pretty people per square foot.</td><td>Thea & Gui</td><td>2012-10-31</td><td>Rio de Janeiro, Brazil</td><td>Leblon</td><td>-22.98161</td><td>-43.22189</td><td>Entire rental unit</td><td>Entire home/apt</td><td>703.0</td><td>4.8</td><td>6</td><td>true</td><td>4.8</td></tr><tr><td>273753</td><td>Beautiful room for students</td><td>It's a comfortable room and is located on the terrace with a special feature: you can get out through the window directly on the terrace and see a beautiful view of downtown and the Guanabara Bay and enjoy our small pool to relax.</td><td>Santa Teresa is a unique and very interesting place in Rio de Janeiro. It is located in the central region and the hill offers a great view of the city of Guanabara Bay and Sugar Loaf. This neighborhood seems to have stopped in time, with its old houses, small palaces, narrow cobbled streets and the famous cable car that takes residents and tourists slope below.</td><td>Casa Da Carmen E</td><td>2011-05-04</td><td>Rio de Janeiro, Brazil</td><td>Santa Teresa</td><td>-22.91709</td><td>-43.18068</td><td>Private room in home</td><td>Private room</td><td>59.0</td><td>5.0</td><td>1</td><td>true</td><td>5.0</td></tr><tr><td>274116</td><td>Comfortable apart in Santa Teresa - Rio de Janeiro</td><td>Located on a quiet street in the charming neighborhood of Santa Teresa, very near the Largo dos Guimarães and Lapa.<br />Comfortably sleeps up to four people, two in the bedroom and two on a sofa bed in the lounge.<br />Fully equipped kitchen and bathroom.</td><td>Santa Teresa, historic district of a gastronomic center, mainly around the Largo dos Guimarães, bohemian area of the neighborhood. Santa Teresa has been establishing itself as one of Rio's main tourist attractions.</td><td>Norberto</td><td>2011-11-22</td><td>Rio de Janeiro, Brazil</td><td>Santa Teresa</td><td>-22.91984</td><td>-43.1865</td><td>Entire rental unit</td><td>Entire home/apt</td><td>225.0</td><td>4.94</td><td>3</td><td>true</td><td>4.94</td></tr><tr><td>278679</td><td>5 min a pé - Praia de Copacabana, Metrô, WiFi II</td><td>Independent studio c 30m2, private bathroom and kitchenette, in addition to a small balcony/front balcony, located on the first floor. Wifi approx. 100 Mbps). Air Conditioning, refrigerator, coffee maker, toaster, microwave, basic utensils, TV, sheets and towels. Located in front (or inside, depending on the perspective of each one) to the Pavão-Pavãozinho favela and close to Copacabana beach and Ipanema subway. Check out our GMaps location BEFORE YOU CONFIRM</td><td>We are in Copacabana on the border with Ipanema, 2 blocks away from the beach and a few steps from the subway and the main commercial avenue of the neighborhood, Avenida Nossa Senhora de Copacabana, with plenty of restaurants, bars, pharmacies, supermarkets (open until 10:00 PM), cinema and intense movement 24 hours a day.<br />Saint Roman Street is a special street because it is the main access to one of the favelas of Copacabana. The guest, in addition to the normal experiences of a tourist in the city, can live an additional and unique experience.</td><td>Renato / Louri</td><td>2011-03-18</td><td>Rio de Janeiro, Brazil</td><td>Copacabana</td><td>-22.98069</td><td>-43.19277</td><td>Entire rental unit</td><td>Entire home/apt</td><td>759.0</td><td>4.84</td><td>2</td><td>true</td><td>4.84</td></tr><tr><td>17878</td><td>Very Nice 2Br in Copacabana w. balcony, fast WiFi</td><td>Please note that elevated rates apply for New Years and Carnival. I will charge a fixed rate of US$1800  for 10 nights and a maximum of  5 people. There's some flexibility in the rate depending on the details. Pls contact me to discuss. <br />- Bright and sunny<br />- Large balcony (25 square meters) <br />- High speed WiFi (up to 500MB)<br />- Smart TV (you can watch Netflix etc. if you have an account)<br />- 24h doorman<br />- 1 minute to walk to Copacabana Beach<br />- Silent \"split\" air conditioning<br />- Best spot in Rio</td><td>This is the one of the bests spots in Rio. Because of the large balcony and proximity to the beach, it has huge advantages in the current situation.</td><td>Matthias</td><td>2010-01-08</td><td>Rio de Janeiro, Brazil</td><td>Copacabana</td><td>-22.96599</td><td>-43.1794</td><td>Entire condo</td><td>Entire home/apt</td><td>1471.0</td><td>4.76</td><td>5</td><td>true</td><td>4.76</td></tr><tr><td>25026</td><td>Beautiful Modern Decorated Studio in Copa</td><td>**Fully renovated  in Dec 2022, new kitchen, new bathroom, new flooring! **<br />** The apartment was all renovated, floor, bathroom and new kitchen in Dec 2022!**<br /><br />If you don't have any information on Airbnb and have never used it  before, please message them first to let them know who you are.<br /><br />Our apartment is a little gem, everyone loves staying there! Best location, 2 blocks to the subway, 3 blocks to the beach, close to bars, restaurants, supermarkets, subway! Wi-fi, cable TV, air con and fan!</td><td>Copacabana is a lively neighborhood and the apartment is located very close to an area in Copa full of bars, cafes and restaurants at Rua Bolivar and Domingos Ferreira. Copacabana never sleeps, there is always movement and it's a great mix of all kinds of people.</td><td>Viviane</td><td>2010-04-03</td><td>Rio de Janeiro, Brazil</td><td>Copacabana</td><td>-22.97649</td><td>-43.19122</td><td>Entire rental unit</td><td>Entire home/apt</td><td>850.0</td><td>4.73</td><td>3</td><td>true</td><td>4.73</td></tr><tr><td>35764</td><td>COPACABANA SEA BREEZE  -  RIO - 25  X Superhost</td><td>Our newly renovated studio is located in the best part of Copacabana - Between  Posto 5 and Posto 6 - 10 minutes from the Arpoador and Ipanema beach.   Security 24 hours a day.    Enjoy your stay in a family bulding  living as a local people.  Please check the possibility of flexible check-in and check-out times.</td><td>Our guests will experience living with a local peole \"Carioca\"  in a very friendly building with 24 hours a day security with all kind of stores, banks, transports, restaurants.</td><td>Patricia Miranda & Paulo</td><td>2010-06-27</td><td>Rio de Janeiro, Brazil</td><td>Copacabana</td><td>-22.98107</td><td>-43.19136</td><td>Entire loft</td><td>Entire home/apt</td><td>324.0</td><td>4.94</td><td>2</td><td>true</td><td>4.94</td></tr><tr><td>48305</td><td>Bright 6bed Penthouse Seconds from Beach</td><td>Enter Bossa Nova's history by staying in the very street real-life ‘Girl From Ipanema' used to \"each day walk to the sea\".<br /><br />» Penthouse with side ocean view<br /><br />» Six ensuite bedrooms<br /><br />» Prime location, first beach-block<br /><br />» Heart of Ipanema<br /><br />» Exceptional comfort<br /><br />» Beachy, modern mid-century style<br /><br />» Designed for digital nomads<br /><br />» Remote-work ready<br /><br />» Lightning-fast Internet 240m/s<br /><br />» Locally-rooted home<br /><br />» Experience-driven stay<br /><br />» Dedicated team<br /><br />» Authentic and unforgettable Rio story</td><td>Enter Bossa Nova history by staying in the very street where real-life 'Girl From Ipanema' inspired Vinicius de Moraes to write the worldwide famous song, \"each day when she walks to the sea\".<br /><br />Located seconds from Ipanema Beach's best spot Posto 9, on the first beach block in the heart of Ipanema’s very best neighbourhood, enjoy staying in this elegant and modern hideaway in a peaceful residential street.<br /><br />Ipanema and Leblon are by far the safest locations in Rio, with popular restaurants, cafes and boutique stores walking distance to the apartment.</td><td>Goitaca</td><td>2010-01-16</td><td>Ipanema, Rio de Janeiro, Brazil</td><td>Ipanema</td><td>-22.98591</td><td>-43.20302</td><td>Entire rental unit</td><td>Entire home/apt</td><td>3532.0</td><td>4.73</td><td>13</td><td>true</td><td>4.73</td></tr><tr><td>49179</td><td>Djalma Ocean View Studio with Amazing Views</td><td>Beautiful 12th Floor Ocean View Studio steps from Copacabana Beach.  Comfortable queen sized bed, HDTV with Cable & Netflix. High Speed Internet with WiFi. Kitchenette with electric stove top, refrigerator, and microwave, Full bathroom with shower.  Air Conditioner, Beach chair. Safe for your valuables. 24 hour doorman security. Towels and linens included.  Perfect location in Posto 5. Beach, delicious restaurants, bars, and shopping all very close. Just a short walk to Arpoador and Ipanema.</td><td>null</td><td>David</td><td>2010-09-05</td><td>null</td><td>Copacabana</td><td>-22.9791</td><td>-43.19008</td><td>Entire rental unit</td><td>Entire home/apt</td><td>580.0</td><td>4.88</td><td>3</td><td>true</td><td>4.88</td></tr><tr><td>50759</td><td>Casanova Residence great for shoots and events</td><td>A cinematographyc Villa, with 4 suites facing the lake. 100% refurbiched with trendy decor. Coolcierge service provide by our staff with Rio best tips. A secret spot location, Rio de Janeiro little Veneza, at the heart of the olympic neighboorhood.</td><td>A secret spot at Rio. Ilha da Gigoia, is a little island located at the olympic neighboorhood Barra da Tijuca. Know as the Rio Veneza, the iland has a few very charming restaurants and a magical little city style, at the same time is located jus in the center of Barra da Tijuca.</td><td>Felipe</td><td>2010-09-13</td><td>Rio de Janeiro, Brazil</td><td>Barra da Tijuca</td><td>-23.00451</td><td>-43.30873</td><td>Entire home</td><td>Entire home/apt</td><td>6000.0</td><td>4.86</td><td>14</td><td>true</td><td>4.86</td></tr><tr><td>51703</td><td>Ocean view, block of the beach, Copacabana,Ipanema</td><td>Oh....i love to host and to meet people interested in my beautiful city. I am always looking for how to be a better host, and makes me very happy when my guests have a nice and fun experience in my place!</td><td>It is located in the hotspot of Rio, wonderful view, all you need around!<br />Copacabana is the princess of the sea... we are in the hotspot of Rio, the best all around, and public transportation to everywhere, just a few steps from home. Supermarkets, bakeries, coffeshops, restaurants, shopps, banks, drugstores. The view...ohhhh...the view from my  windowis a blessing!</td><td>Dalia</td><td>2010-09-18</td><td>Rio de Janeiro, Brazil</td><td>Copacabana</td><td>-22.981731</td><td>-43.190571</td><td>Entire rental unit</td><td>Entire home/apt</td><td>759.0</td><td>4.75</td><td>2</td><td>true</td><td>4.75</td></tr><tr><td>278745</td><td>Luxury Apartment - in Ipanema</td><td>null</td><td>null</td><td>Alex</td><td>2011-04-23</td><td>null</td><td>Ipanema</td><td>-22.98141</td><td>-43.20911</td><td>Entire serviced apartment</td><td>Entire home/apt</td><td>5394.0</td><td>5.0</td><td>5</td><td>true</td><td>5.0</td></tr><tr><td>280625</td><td>Fascinating Rio, on the hills!</td><td>null</td><td>null</td><td>Marcia  Longras</td><td>2011-04-09</td><td>null</td><td>Botafogo</td><td>-22.94265</td><td>-43.18768</td><td>Private room in home</td><td>Private room</td><td>377.0</td><td>4.82</td><td>3</td><td>true</td><td>4.82</td></tr><tr><td>280765</td><td>STUDIO RIO LAPA CARNIVAL</td><td>The studio is in an excellent location ,  direct auobuses in 20 minutes from any tourist point,Christ Redentor,copacabana,praias,pao de açucar, etc. Obairro tem a melhor vida noturna de Rio, full of typical restaurants and bars,clubs</td><td>null</td><td>Erika</td><td>2011-12-02</td><td>null</td><td>Santa Teresa</td><td>-22.91543</td><td>-43.18419</td><td>Entire rental unit</td><td>Entire home/apt</td><td>140.0</td><td>5.0</td><td>3</td><td>true</td><td>5.0</td></tr><tr><td>281304</td><td>5 min a pé - Praia de Copacabana, Metrô, WiFi I</td><td>Bedroom and living room, with a private bathroom and a kitchenette. Wi-Fi, 50m2.<br />Kitchen with stove/oven, refrigerator, coffee maker, toaster, blender, microwave, basic utensils.<br />Room with a sofa, armchair, table for 4 people, a TV and a ceiling fan.<br />Air-conditioning in the bedroom only<br />Located in front (or inside, depending on the perspective of each one) to the Pavão-Pavãozinho favela and close to Copacabana beach and Ipanema subway.</td><td>We are in Copacabana on the border with Ipanema, 2 blocks away from the beach and a few steps from the subway and the main commercial avenue of the neighborhood, Avenida Nossa Senhora de Copacabana, with plenty of restaurants, bars, pharmacies, supermarkets (open until 10:00 PM), cinema and intense movement 24 hours a day.<br />Saint Roman Street is a special street because it is the main access to one of the favelas of Copacabana. The guest, in addition to the normal experiences of a tourist in the city, can live an additional and unique experience.</td><td>Renato / Louri</td><td>2011-03-18</td><td>Rio de Janeiro, Brazil</td><td>Copacabana</td><td>-22.98069</td><td>-43.19277</td><td>Entire rental unit</td><td>Entire home/apt</td><td>896.0</td><td>4.84</td><td>4</td><td>true</td><td>4.84</td></tr><tr><td>281459</td><td>Quintal do Rio - 2 Quartos/garagem quase Ipanema</td><td>Welcome to our charming and quiet 2 bedroom apartment with balcony and an amazing view of the Environmental Reserve in the Lagoon! <br /><br />Building in front of Lagoa, concierge 24hs and  garage. Cross the street and you'll find trendy restaurants and various leisure options; skating courts, tennis, baseball, bike rentals, pedalinho<br /><br />Near the best beaches and sights of the City and a short walk to Ipanema and the metro<br /><br />Distances on foot:<br />Orla Lagoa = > 5'<br />Metrô = > 15'<br />Ipanema = > 15 '</td><td>Lagoa is a charming neighborhood very close to nature, it is located between Copacabana and Ipanema.<br /><br /> In Lagoa you will find several options of sports activities, such as bicycle rentals, tennis courts, skating courts and volleyball.<br /><br />In addition, the district offers a variety of children's activities, kiosks with international food and has 2 exits close to the subway. <br />Because it is a place with less commerce, the Lagoa stands out for its tranquility and security, being ideal for families.<br /><br />It allows easy access to most of the sights:<br /><br />Rodrigo de Freitas Lagoon: 100 meters, 5 minutes walking,  just cross the street.<br />Beach of Ipanema: 2 km<br />Leblon Beach: 3.5 km<br />Parque Jardim Botânico: 4 km<br />Cristo Redentor:  6 km<br />Sugarloaf:  8 km<br />Lage Park: 3 km<br />Lapa: 9 km<br />Galeão Airport: 36 km<br />Santos Dumont Airport: 9 km<br /><br />Variety of easy and fast public transportation, subway, bus, Uber  and taxis in abu</td><td>Nilda</td><td>2011-09-06</td><td>Ipanema, Rio de Janeiro, Brazil</td><td>Lagoa</td><td>-22.97406</td><td>-43.20676</td><td>Entire rental unit</td><td>Entire home/apt</td><td>1372.0</td><td>4.95</td><td>4</td><td>true</td><td>4.95</td></tr><tr><td>282071</td><td>Rio, hospedagem e tranquilidade</td><td>null</td><td>Quiet neighbors, family building</td><td>Jaqueline</td><td>2011-12-04</td><td>Rio de Janeiro, Brazil</td><td>Flamengo</td><td>-22.9365</td><td>-43.17868</td><td>Entire rental unit</td><td>Entire home/apt</td><td>438.0</td><td>4.8</td><td>2</td><td>true</td><td>4.8</td></tr><tr><td>284762</td><td>10People Ipanema/Copa (Easter,AnoNovo, Feriado</td><td>Please ask for $$ Carnival PACKAGE, New Year's Eve, long term etc.    Pls ask PACKAGE $$ for CARNIVAL, N. Year´s, longer periods, etc..<br />STUDIO between IPANEMA  COPACABANA - small flat totally REMODELLED 4 years ago to create a microSuite, Mezanine & 2BATHS</td><td>null</td><td>Celina</td><td>2011-11-15</td><td>null</td><td>Copacabana</td><td>-22.98277</td><td>-43.1936</td><td>Entire rental unit</td><td>Entire home/apt</td><td>1200.0</td><td>3.5</td><td>10</td><td>true</td><td>3.5</td></tr><tr><td>284910</td><td>COPACABANA 2 BLOCKS FROM THE BEACH</td><td>Thank You for looking and possibly considering my apartment. Our apartment  located only 2 blocks from the beach. Apartment is full of sunlight and is facing away from the busy streets. We provide free worldwide calling, WIFI/Ethernet, laundry, ELECTRONIC LOCK ENTRY (No key needed, no need to meet the landlord)<br />------<br />If your reservation is few month ahead please contact me prior to making any reservation<br />------</td><td>Neighborhood is full of life. All around you would find abundance of restaurants. Right below our building we have an authentic German restaurant. Guests from Europe should have no problem withdrawing money via Euro supported ATM's. Also you would find a freshly squeezed juice bar right below our building. All around you would find public transportation (buses, 5 min walking to metro station). Please feel free to ask me any questions and I would be more then happy to answer them.</td><td>Fernanda</td><td>2011-10-03</td><td>Rio de Janeiro, Brazil</td><td>Copacabana</td><td>-22.961776553330363</td><td>-43.17607759712209</td><td>Entire rental unit</td><td>Entire home/apt</td><td>5054.0</td><td>4.15</td><td>4</td><td>true</td><td>4.15</td></tr><tr><td>285363</td><td>400 meters from Leme beach | Pi401</td><td>Welcome to Pineapples!<br><br><br>Discover this wonderful apartment in Copacabana, ideal for couples or friends, perfectly accommodating up to 2 guests!<br><br><br> Accommodation with a side sea view;<br><br><br> Full kitchen and washing machine;<br><br><br> Bedroom with queen size bed and air conditioning;<br><br><br> Complete bathroom;<br><br>Located 450 meters from Leme beach and 13 minutes from Copacabana beach, it is close to the best restaurants, markets and stores in the area!</td><td>null</td><td>Pineapples</td><td>2011-11-07</td><td>null</td><td>Copacabana</td><td>-22.9619</td><td>-43.1749</td><td>Entire rental unit</td><td>Entire home/apt</td><td>943.0</td><td>4.65</td><td>2</td><td>true</td><td>4.65</td></tr><tr><td>53533</td><td>Walk to Joatinga Beach/PedraDaGávea View Casa/Pool</td><td>This private 4 bedroom/4 bathroom home is located in the prestiges neighborhood of Joatinga.  This is considered the Beverly Hills of Rio de Janeiro.  It is a gated, 24 hour security neighborhood with it's own beach.  This home has a new pool and barbecue area. The kitchen has everything you need.  All appliances are imported from the US.  You will sleep well in high quality cotton sheets and enjoy the plush comfort of imported towels.  Come live like a Carioca in this beautiful home.</td><td>You are close, 3min drive to most everything you will need or want.<br /><br />-several simples restaurants<br />-juice places<br />-bakery<br />-taxi stand<br />-super market<br />-pharmacy<br />-bars<br />-live music<br />and more!</td><td>Sherri & Andre</td><td>2010-09-30</td><td>Joatinga, Rio de Janeiro, Brazil</td><td>Joá</td><td>-23.00809</td><td>-43.29113</td><td>Entire home</td><td>Entire home/apt</td><td>2697.0</td><td>4.86</td><td>10</td><td>true</td><td>4.86</td></tr><tr><td>60718</td><td>Wonderful loft at the heart of Rio de Janeiro</td><td>The apartment has 3 levels. In the first level there is  two connected living rooms, including 3 large sofas, a piano, a wine cave, a TV set, a film-projector and other commodities. . Also, a bathroom and a large and well-equipped kitchen,  refrigerator, a freeze and a dishwasher machine. On the second floor there is 4 bedrooms 1 with TV set, All rooms in both levels have air-conditioning. The third level is a terrace with a table, hammocks, beach chairs, shower and barbecue.</td><td>In the neighborhood, within walking distance, there are plenty of markets, shops, bars and restaurants for all tastes and budgets, from Chinese delivery and the famous kilo restaurants (you pay by weight) to some of the best restaurants in town, such as Alcaparra (around the corner), Majórica steakhouse and the French styled Paris, besides all budgets Portuguese, Northeastern, Amazon, Peruvian, Arabic, Japanese, Chinese and seafood restaurants and bars, like the famous Belmonte, at Praia do Flamengo.  For drinking, you should ask for the refreshing chope, our draft beer, or one of the many amazing fruit juices or coconut water.  <br />Buarque de Macedo street starts at Praia do Flamengo (Flamengo beach) just across Aterro do Flamengo, one of the largest and most beautiful city parks in the world. The street crosses Catete St., full of colonial houses and all kinds of shops and restaurants. On Catete St. there is the Museu da República (Republic Museum), with a movie theater, coffee sho</td><td>Tânia</td><td>2010-11-20</td><td>Rio de Janeiro, Brazil</td><td>Flamengo</td><td>-22.92972</td><td>-43.17488</td><td>Entire rental unit</td><td>Entire home/apt</td><td>1200.0</td><td>4.9</td><td>6</td><td>true</td><td>4.9</td></tr><tr><td>61661</td><td>Perfect Copacabana near Ipanema</td><td>null</td><td>null</td><td>Andrea</td><td>2010-09-21</td><td>null</td><td>Copacabana</td><td>-22.98453</td><td>-43.19248</td><td>Entire rental unit</td><td>Entire home/apt</td><td>280.0</td><td>4.84</td><td>4</td><td>true</td><td>4.84</td></tr><tr><td>64795</td><td>Ipanema amazing 3 bedrooms apartment</td><td>Great 3 bedrooms apartment (1 suite) with air conditioning. Very spacious and silent apartment, fully equipped kitchen and speed wifi. <br />Located in the heart of Ipanema close by all the best restaurants and only 3 minutes walking distance from Ipanema beach posto 9. Private building with 24h security.</td><td>null</td><td>Andrea</td><td>2010-03-14</td><td>null</td><td>Ipanema</td><td>-22.98169</td><td>-43.2028</td><td>Entire rental unit</td><td>Entire home/apt</td><td>1986.0</td><td>4.76</td><td>6</td><td>true</td><td>4.76</td></tr><tr><td>66797</td><td>Studio Apart  for rent in ipanema.</td><td>null</td><td>Ipanema is the most famous beach in Rio de Janeiro ,  an excellent trade <br /> with several bars and restaurants , subway , bus and transportation to anywhere in Rio . One of the safest and most charming neighborhoods in Rio .</td><td>Carlos</td><td>2010-12-27</td><td>Rio, Rio de Janeiro, Brazil</td><td>Copacabana</td><td>-22.9824</td><td>-43.19593</td><td>Entire rental unit</td><td>Entire home/apt</td><td>743.0</td><td>4.93</td><td>2</td><td>true</td><td>4.93</td></tr><tr><td>70080</td><td>Apart-hotel em Ipanema com garagem e  camareira</td><td>Apart-hotel in Ipanema with parking and daily cleaning service at no extra cost - the best place in Rio de Janeiro!<br /><br />One block from the metro; 2 blocks from Ipanema beach and 4 blocks from Copacabana beach. The flat has laundry facilities, pool and  sauna. Very safe and pleasant location. It is ideal for up to 4 guests, but I can accommodate up to 5 guests. It features 1 bedroom, 2 full bathrooms, and a living room with an American kitchen. It does not have cable TV, only smart TV. Book now!</td><td>Ipanema is the best neighborhood in Rio!</td><td>Valeria</td><td>2010-12-15</td><td>Rio, Rio de Janeiro, Brazil</td><td>Ipanema</td><td>-22.9854</td><td>-43.19602</td><td>Entire rental unit</td><td>Entire home/apt</td><td>1310.0</td><td>4.88</td><td>5</td><td>true</td><td>4.88</td></tr><tr><td>70547</td><td>37B&B - Santa Teresa Suite MOMA RIO</td><td>Our house is a small B&B localized in the smart, green and historical district of Santa Teresa, up on a hill 5 min. by walk from the Center of the city, Lapa and Gloria. <br /><br />Santa Teresa is surrounded by the greenery and we are close to the center and the south zone. <br />We await you, with bed and bath linens always clean, a room in a comfortable and cozy house, to relax and enjoy the delights of this effervescent city. <br />LGBTQIA+ , they're always welcome around here.</td><td>Santa Teresa, without a doubt, is the most picturesque, artistic neighborhood and with the richest historical and architectural heritage in Rio de Janeiro. , between the Tijuca Forest / Cristo Redentor, City Center, Flamengo Park, overlooking the Sugar Loaf, this neighborhood offers strategic viewpoints, which allow us to enjoy the Sun Rise and the Sun, for the arrival of the moon. This entire identity set makes this neighborhood a habitat, cosmopolitan, welcoming, friendly and friendly. We simply love Santa Teresa and its people. This was the place that definitely connected us with the Marvelous City and all its cultural and environmental power .Our Rio de Janeiro.</td><td>Isabele</td><td>2011-01-22</td><td>Rio de Janeiro, Brazil</td><td>Santa Teresa</td><td>-22.9172</td><td>-43.17812</td><td>Private room in townhouse</td><td>Private room</td><td>223.0</td><td>4.84</td><td>2</td><td>true</td><td>4.84</td></tr><tr><td>75148</td><td>Modern Copacabana near Ipanema</td><td>null</td><td>null</td><td>Andrea</td><td>2010-09-21</td><td>null</td><td>Copacabana</td><td>-22.98107</td><td>-43.19029</td><td>Entire rental unit</td><td>Entire home/apt</td><td>679.0</td><td>4.85</td><td>4</td><td>true</td><td>4.85</td></tr><tr><td>76245</td><td>Espaçosa Casa  no Coração do Rio 290m4QT.8camas</td><td>Building next to the beaches of Copacabana, Ipanema and Arpoador, with transports near the door ( Metro, Bus ). Supermarkets,Bars,Restaurants,Lojas of all kinds. Apartment with 290m2, 4 bedrooms, two of them are, suite + 2WC ( total 4WC ), Lounge, Dining room, TV room, Service Area, Kitchen, small room. There is a garage with a vacancy. Circular floor, one apartment per floor.</td><td>Ipanema and Copacabana the best location in Rio de Janeiro.<br />Beaches, Shops, Transportation, Everything.</td><td>Diogo</td><td>2011-02-23</td><td>Rio de Janeiro, Brazil</td><td>Copacabana</td><td>-22.98192</td><td>-43.19397</td><td>Entire rental unit</td><td>Entire home/apt</td><td>4567.0</td><td>4.58</td><td>12</td><td>true</td><td>4.58</td></tr><tr><td>286677</td><td>a ocean view quadruple room in copacabana</td><td>null</td><td>null</td><td>Samuel</td><td>2011-11-21</td><td>null</td><td>Copacabana</td><td>-22.96633</td><td>-43.17754</td><td>Private room in rental unit</td><td>Private room</td><td>864.0</td><td>4.85</td><td>4</td><td>true</td><td>4.85</td></tr><tr><td>286788</td><td>triple ocean view room in copacaban</td><td>its a room only not the entire flat before paying please contact the host informing the arrival and departure time, no visitors are allowed</td><td>null</td><td>Samuel</td><td>2011-11-21</td><td>null</td><td>Copacabana</td><td>-22.96633</td><td>-43.17754</td><td>Private room in rental unit</td><td>Private room</td><td>636.0</td><td>4.89</td><td>3</td><td>true</td><td>4.89</td></tr><tr><td>286792</td><td>triple ocean view room in copacaban</td><td>i am renting only one room not the entire apartment. When asking to book please inform the arrival and departure times,sometimes they are flexible and may be sooner or later, do not pay before receiving the invitation to book</td><td>null</td><td>Samuel</td><td>2011-11-21</td><td>null</td><td>Copacabana</td><td>-22.96745</td><td>-43.17654</td><td>Private room in rental unit</td><td>Private room</td><td>664.0</td><td>5.0</td><td>3</td><td>true</td><td>5.0</td></tr><tr><td>289898</td><td>double/twin ocean view room in copa</td><td>null</td><td>null</td><td>Samuel</td><td>2011-11-21</td><td>null</td><td>Copacabana</td><td>-22.96633</td><td>-43.17754</td><td>Private room in rental unit</td><td>Private room</td><td>640.0</td><td>5.0</td><td>2</td><td>true</td><td>5.0</td></tr><tr><td>76300</td><td>GREAT VIEW -Guesthouse \"CASA 48\"- Santa Teresa  #1</td><td>If you want to experience something different and more authentic than classical hotels during your stay in Rio : welcome in our GuestHouse \"Casa 48\" in Santa Teresa. Be ready for a unique relationship with the Sugar Loaf!</td><td>** THE NEIGHBORHOOD OF SANTA TERESA ** <br />Santa Teresa was the bourgeois neighborhood of Rio in the last century, which is why there are beautiful colorful houses with very eclectic colonial architecture. It is especially known for being the artistic district of Rio; indeed, there are many cultural events organized by the locals and there are a large number of small workshops. As the neighborhood is located on a hill, you will enjoy breathtaking views of the whole city, whether it is the North part (Maracana, Sambodrome ...) or the South part (Sugarloaf, Guanabara Bay... ). Being on the edge of the Tijuca forest, you will be surprised by its vegetation. It is a small village in the heart of the metropolis, like a small island. Everyone knows each other, it's a quiet and peaceful neighborhood, there are many bars and restaurants, you will find here a very unique spirit compared to the rest of the city,<br />- Largo dos Guimarães: 15min walk. It's the heart of the neighborhood where y</td><td>Casa 48 Guesthouse</td><td>2011-02-23</td><td>Rio de Janeiro, Brazil</td><td>Santa Teresa</td><td>-22.92742</td><td>-43.19464</td><td>Private room in bed and breakfast</td><td>Private room</td><td>203.0</td><td>4.84</td><td>3</td><td>true</td><td>4.84</td></tr><tr><td>86670</td><td>Fronteira Leblon/Ipanema - Vista fantástica!</td><td>Recently renovated, on the border between Leblon and Ipanema offers incredible views. Next to the Leblon Mall and Rodrigo de Freitas Lagoon, the location is perfect for enjoying the nightlife, restaurants and beaches of the area. Combining comfort and elegance, it is the ideal getaway for those who want to live the best of Rio de Janeiro. Make yourself at home, it will be a pleasure to welcome you!</td><td>The surroundings of the Leblon neighborhood provide a variety of experiences for locals and visitors!!<br /><br /><br /><br />Leblon Beach:<br /><br />This charming beach is the epicenter, providing a world-renowned stretch of sand. It is an ideal place for hiking, sporting activities, relaxation by the sea and a relaxed atmosphere.<br /><br /><br /><br />Avenida Ataulfo de Paiva:<br /><br />An important commercial thoroughfare, full of shops, cafés and restaurants. It offers a lively and social atmosphere, being a popular spot for night tours and appreciation of the ocean view.<br /><br /><br /><br />Local Merchants:<br /><br />Leblon is known for its vibrant commerce, including fashion shops, cafes, and boutiques. Busy streets such as Avenida Afrânio de Melo Franco are examples of shopping areas.<br /><br /><br /><br />Nightlife:<br /><br />The neighborhood offers a bustling nightlife with live music bars and concert halls along major thoroughfares and adjacent streets. Musical and c</td><td>June</td><td>2011-03-31</td><td>Rio de Janeiro, Brazil</td><td>Leblon</td><td>-22.9835398</td><td>-43.2160536</td><td>Entire rental unit</td><td>Entire home/apt</td><td>1258.0</td><td>4.65</td><td>4</td><td>true</td><td>4.65</td></tr><tr><td>86978</td><td>Room For a Rent : Rio de Janeiro</td><td>The Brazilian hospitality is known worldwide and we are always open arms like the Christ the Redeemer statue to receive people looking for a cozy place to stay and rest while traveling for leisure or business.</td><td>null</td><td>Antonio</td><td>2011-04-01</td><td>null</td><td>Jacarepaguá</td><td>-22.97293</td><td>-43.38321</td><td>Private room in rental unit</td><td>Private room</td><td>1011.0</td><td>null</td><td>2</td><td>true</td><td>0.0</td></tr><tr><td>87762</td><td>Apartamento Blue a 1 quadra da praia de Ipanema</td><td>Apartment in front of Jardim de Alah (border canal between Ipanema and Leblon), 1 block from the beach (150m) and 3 blocks from Lagoa Rodrigo de Freitas (300m). In the heart of Ipanema! It is close to several leisure options:  beach, lagoon, restaurants, pharmacies, banks, Shopping Leblon (200m), subway station 1 block away (120m), and so much more. From the back and quiet, it is ideal for those passing through RJ and want to stay at a fair price in one of the best locations in the South Zone of Rio.</td><td>null</td><td>Pablo</td><td>2011-04-03</td><td>null</td><td>Ipanema</td><td>-22.98339</td><td>-43.21436</td><td>Entire rental unit</td><td>Entire home/apt</td><td>671.0</td><td>4.72</td><td>4</td><td>true</td><td>4.72</td></tr><tr><td>88528</td><td>COPACABANA - Lindo apartamento na quadra da praia</td><td>Apartment all renovated with top quality materials!<br />Less than 30m from Copacabana Beach. Supermarkets, restaurants, bars, juice bars on the block.</td><td>null</td><td>June</td><td>2011-03-31</td><td>null</td><td>Copacabana</td><td>-22.97794</td><td>-43.18969</td><td>Entire rental unit</td><td>Entire home/apt</td><td>1635.0</td><td>4.79</td><td>3</td><td>true</td><td>4.79</td></tr><tr><td>88781</td><td>COPACABANA - ÓTIMA LOCALIZAÇÃO</td><td>Located 50 meters from the Copacabana Beach!<br /><br />24 hour concierge in an Safe n' Tranquil street !!<br /><br />Wi-Fi / Cable TV / Full Kitchen<br /><br />Metro > 5 min on foot.<br />Handicraft & Art fairs nearby.<br />Complete infrastructure, Up to 3 people.<br /><br />Welcome !!</td><td>null</td><td>June</td><td>2011-03-31</td><td>null</td><td>Copacabana</td><td>-22.9754828</td><td>-43.188548</td><td>Entire rental unit</td><td>Entire home/apt</td><td>1051.0</td><td>4.75</td><td>3</td><td>true</td><td>4.75</td></tr><tr><td>290503</td><td>5 min a pé - Praia de Copacabana, Metrô, WiFi III</td><td>Studio independent c 30m2, private bathroom, wifi approx. 100 Mbps). Refrigerator, coffee maker, toaster, microwave, basic utensils, TV, sheets and towels. Located in front (or inside, depending on the perspective of each one) to the Pavão-Pavãozinho favela and close to Copacabana beach and Ipanema subway. Check out our GMaps location BEFORE YOU confirm payment/reservation.</td><td>A traditional house from the 1950s in Copacabana has been renovated and converted into 7 fully independent and functional apartments. The studio of this ad is one of them.<br />The studio has a private bathroom and a compact kitchen with a refrigerator, microwave, coffee maker, toaster, blender and basic utensils necessary to prepare simple meals (breakfast and quick meals), there is no stove and no oven. The window faces a small green garden.<br />In the access room that leads to all the studios, located on the ground floor of the property the interior environment is relaxing, contrasting with the intense life of Saint Roman Street, which is the main access to the Pavão-Pavãozinho favela, one of the first favelas founded in Rio de Janeiro, 60 years ago, when Brazilians from North and Northeast Brazilians came to live in the city to work in the city's civil construction. It is common to listen to very loud music coming from the bars and restaurants of Saint Roman Street (mostly on week</td><td>Renato / Louri</td><td>2011-03-18</td><td>Rio de Janeiro, Brazil</td><td>Copacabana</td><td>-22.98069</td><td>-43.19277</td><td>Entire rental unit</td><td>Entire home/apt</td><td>796.0</td><td>4.94</td><td>4</td><td>true</td><td>4.94</td></tr><tr><td>290513</td><td>2 bedroom in Urca 300 meters from Sugarloaf.</td><td>The House is very comfortable, ventilated, bright, cozy and silent.<br /><br />Residential neighborhood with a lot of tranquility and security.<br /><br />Optical fiber high speed internet, smart tv, full kitchen and ar conditioner <br /><br />Close to the beach, walks in nature, restaurants, bars, sunsets and many tourists attractions with public transport at the door and rental bike stations.</td><td>Beautiful, charming, safe and very well located.</td><td>João</td><td>2011-12-15</td><td>Rio de Janeiro, Brazil</td><td>Urca</td><td>-22.952841</td><td>-43.168194</td><td>Entire rental unit</td><td>Entire home/apt</td><td>546.0</td><td>4.94</td><td>4</td><td>true</td><td>4.94</td></tr><tr><td>291290</td><td>Apartment in Copacabana / RIO with Fast Internet</td><td>I have a studio apartment in Copacabana for rent. It Is very near the Copacabana Beach in the middle of Copacabana. There is a supermarket at the corner. Subway is also very near, and there are busses to everywhere.</td><td>null</td><td>Sascha</td><td>2011-02-21</td><td>null</td><td>Copacabana</td><td>-22.97566</td><td>-43.18893</td><td>Entire rental unit</td><td>Entire home/apt</td><td>985.0</td><td>4.5</td><td>4</td><td>true</td><td>4.5</td></tr><tr><td>293166</td><td>A MELHOR LOCALIZAÇAO PARA AS SUAS FÉRIAS</td><td>Please not make reservation before confirming availability or tariffs  !!!!<br />Porfavor no booking sin before confirm availability rates !!!<br />please book only after confirm availability and rates!!<br /><br />Wonderful location,<br />o, bus at door ,20 minuts in onibus para copacabana,pao de sugar,christ redentor, <br />the district has the best nightlife in the city, full of bars, rstaurantes,dicotecas-</td><td>null</td><td>Erika</td><td>2011-12-02</td><td>null</td><td>Santa Teresa</td><td>-22.9144</td><td>-43.18163</td><td>Entire rental unit</td><td>Entire home/apt</td><td>522.0</td><td>5.0</td><td>2</td><td>true</td><td>5.0</td></tr><tr><td>293171</td><td>Precioso apartamento  en el centro , todo nuevo !</td><td>THE BEST LOCATION TO SPEND THE BEST CARNIVAL IN RIO DE JANEIRO.<br />15-MINUTE WALK FROM SAMODRAMOS, PARADES,TYPICAL FESTIVIDADE, DANCING AND EVERYTHING ELSE THAT RIO LIVES INTENSELY IN THESE 4 DAYS OF CARNIVAL.</td><td>null</td><td>Erika</td><td>2011-12-02</td><td>null</td><td>Santa Teresa</td><td>-22.9155</td><td>-43.18423</td><td>Entire rental unit</td><td>Entire home/apt</td><td>281.0</td><td>null</td><td>3</td><td>true</td><td>0.0</td></tr></tbody></table></div>"
      ]
     },
     "metadata": {
      "application/vnd.databricks.v1+output": {
       "addedWidgets": {},
       "aggData": [],
       "aggError": "",
       "aggOverflow": false,
       "aggSchema": [],
       "aggSeriesLimitReached": false,
       "aggType": "",
       "arguments": {},
       "columnCustomDisplayInfos": {},
       "data": [
        [
         271975,
         "Unbelievable Ocean View Apartment",
         null,
         "If you like hiking, you have to get on this track to the top of \"Dois Irmãos\" hill, one of Rio's most beautiful view. It's not difficult and not a long way up there.<br />http://rioforyou.com/<br /><br />If you like trails, Vidigal is the place to stay. One of the most spectacular views of Rio is on the trail to the top of \"Dois Irmãos\", that mountain that seems inaccessible that you see from the beach of arpoador, ipanema and leblon is not as difficult to access as it seems. Staying in the neighborhood of Vidigal you already have access to the trail much easier and even without a guide, asked the friendly residents of the community you will come to the top with ease.<br />http://trilhadoisirmaos.com.br/<br /><br />Public and beautiful Park in Vidigal:<br />Sitiê<br />http://www.parquesitie.org/<br /><br />Restaurants in Vidigal:<br />Barlacubaco Restaurant<br />Av. Presidente João Goulart, 686.<br /><br />Art and Theatre:<br />Nós do Morro<br />www.nosdomorro.com.br",
         "Maria",
         "2011-11-19",
         "Rio de Janeiro, Brazil",
         "Vidigal",
         -22.99508,
         -43.23604,
         "Entire rental unit",
         "Entire home/apt",
         236.0,
         4.33,
         4,
         true,
         4.33
        ],
        [
         272335,
         "EXCELENTE APARTAMENTO EM COPACABANA",
         "The apartment has 30m2 with connecting bedroom/living room, full bathroom and small kitchen fully  equipped. Air conditioning, wi-fi internet,  1 double bed, 1 double sofa bed, 2 blocks from Copacabana beach.",
         "The beauty of my Copacabana beach.  This needs no further comment.",
         "Vitor",
         "2013-07-15",
         "Rio de Janeiro, Brazil",
         "Copacabana",
         -22.9623,
         -43.17389,
         "Entire rental unit",
         "Entire home/apt",
         723.0,
         4.91,
         4,
         true,
         4.91
        ],
        [
         272631,
         "Comfort em Copacabana",
         "The apartment is located in the Shopping dos Antiqueários in Copacabana and has total 24h security.<br />The rooms are cozy and airy with beautiful views of the green, double box bed, fan, air conditioning, cable TV. Bathroom may be shared . In the kitchen, the microwave oven and the refrigerator can be used. <br />Breakfast is served from 8:30 am to 11am.<br />Available: internet , bed linen and towels every 5 days. We offer transfers for payment.",
         null,
         "Neyde",
         "2011-11-20",
         null,
         "Copacabana",
         -22.9675,
         -43.18666,
         "Private room in rental unit",
         "Private room",
         1146.0,
         5.0,
         2,
         true,
         5.0
        ],
        [
         273261,
         "Amazing Huge Apartment in Leblon",
         "spacious apartment, with ocean view, super well furnished, 49 inches flat TV,  TV in suite 42 inches, wifi throughout the apartment, two refrigerators, laundry machine, fully equipped kitchen,three bedrooms, three bathrooms. Impeccable!",
         null,
         "Lucas",
         "2011-04-25",
         null,
         "Leblon",
         -22.98632,
         -43.22936,
         "Entire rental unit",
         "Entire home/apt",
         6742.0,
         null,
         6,
         true,
         0.0
        ],
        [
         273363,
         "Lindo quarto sossegado para temporada",
         "We are happy to share our home with all those who arrive<br />Our daily exercise is empathy for respect for differences!<br />We're so grateful to meet people from all over the world",
         "Santa Teresa is a unique and very interesting place in Rio. It is situated in the central region and high on a hill offering a privileged view of the city, Guanabara Bay and Pāo de Açúcar. This neighborhood seems to have stopped in time, with its old houses, mansions, narrow cobbled streets and the famous cable car that takes locals and tourists downhill.",
         "Casa Da Carmen E",
         "2011-05-04",
         "Rio de Janeiro, Brazil",
         "Santa Teresa",
         -22.91825,
         -43.17872,
         "Private room in home",
         "Private room",
         61.0,
         5.0,
         1,
         true,
         5.0
        ],
        [
         273463,
         "Apto de 2 qtos com vista para Lagoa e  garagem",
         "Two-bedroom apartment with two full bathrooms, clean and with a stunning view of Lagoa Rodrigo de Freitas! A postcard of Rio. Close to Copacabana and Ipanema. It has 2 smart TVs with no cable TV. Near the Cantagalo and General Osório subway stations. There is 1 parking space in the building. Wi-Fi speed: 500 Mb.",
         "Lagoa is a very chic, safe, central neighborhood is beautiful. An important tourist spot in Rio. It is possible to walk to copacabana and Ipanema.",
         "Valeria",
         "2010-12-15",
         "Rio, Rio de Janeiro, Brazil",
         "Lagoa",
         -22.97542,
         -43.19857,
         "Entire rental unit",
         "Entire home/apt",
         1411.0,
         4.89,
         6,
         true,
         4.89
        ],
        [
         273496,
         "Luxury Accommodation in Hip Leblon",
         "In Rio's best location, this luxury and fully equipped apartment is your best option to stay at home or for sightseeing. <br /><br />Enjoy relaxing moments in this apartament and lots of fun in their surroundings.",
         "Leblon is one of the most exclusive and safe neighborhoods in Rio. It is an affluent neighborhood just west from Ipanema. In the north it is bordered by Gávea and in the west by a towering hill (where people do hang gliding) which connects to São Conrado and Barra - where you can find the best spots for surfing and kite surfing in Rio. <br /><br />It´s very much like Ipanema but even more exclusive. In the opinion of most “cariocas” - term used for people that are born in Rio - Leblon is the Rio's best neighborhood with lots of restaurants and bars; some of them are open 24 hours a day. People use to go there to enjoy life and eat late at night. <br /><br />In a recent research for a big magazine, cariocas said that Leblon is the place where you find more pretty people per square foot.",
         "Thea & Gui",
         "2012-10-31",
         "Rio de Janeiro, Brazil",
         "Leblon",
         -22.98161,
         -43.22189,
         "Entire rental unit",
         "Entire home/apt",
         703.0,
         4.8,
         6,
         true,
         4.8
        ],
        [
         273753,
         "Beautiful room for students",
         "It's a comfortable room and is located on the terrace with a special feature: you can get out through the window directly on the terrace and see a beautiful view of downtown and the Guanabara Bay and enjoy our small pool to relax.",
         "Santa Teresa is a unique and very interesting place in Rio de Janeiro. It is located in the central region and the hill offers a great view of the city of Guanabara Bay and Sugar Loaf. This neighborhood seems to have stopped in time, with its old houses, small palaces, narrow cobbled streets and the famous cable car that takes residents and tourists slope below.",
         "Casa Da Carmen E",
         "2011-05-04",
         "Rio de Janeiro, Brazil",
         "Santa Teresa",
         -22.91709,
         -43.18068,
         "Private room in home",
         "Private room",
         59.0,
         5.0,
         1,
         true,
         5.0
        ],
        [
         274116,
         "Comfortable apart in Santa Teresa - Rio de Janeiro",
         "Located on a quiet street in the charming neighborhood of Santa Teresa, very near the Largo dos Guimarães and Lapa.<br />Comfortably sleeps up to four people, two in the bedroom and two on a sofa bed in the lounge.<br />Fully equipped kitchen and bathroom.",
         "Santa Teresa, historic district of a gastronomic center, mainly around the Largo dos Guimarães, bohemian area of the neighborhood. Santa Teresa has been establishing itself as one of Rio's main tourist attractions.",
         "Norberto",
         "2011-11-22",
         "Rio de Janeiro, Brazil",
         "Santa Teresa",
         -22.91984,
         -43.1865,
         "Entire rental unit",
         "Entire home/apt",
         225.0,
         4.94,
         3,
         true,
         4.94
        ],
        [
         278679,
         "5 min a pé - Praia de Copacabana, Metrô, WiFi II",
         "Independent studio c 30m2, private bathroom and kitchenette, in addition to a small balcony/front balcony, located on the first floor. Wifi approx. 100 Mbps). Air Conditioning, refrigerator, coffee maker, toaster, microwave, basic utensils, TV, sheets and towels. Located in front (or inside, depending on the perspective of each one) to the Pavão-Pavãozinho favela and close to Copacabana beach and Ipanema subway. Check out our GMaps location BEFORE YOU CONFIRM",
         "We are in Copacabana on the border with Ipanema, 2 blocks away from the beach and a few steps from the subway and the main commercial avenue of the neighborhood, Avenida Nossa Senhora de Copacabana, with plenty of restaurants, bars, pharmacies, supermarkets (open until 10:00 PM), cinema and intense movement 24 hours a day.<br />Saint Roman Street is a special street because it is the main access to one of the favelas of Copacabana. The guest, in addition to the normal experiences of a tourist in the city, can live an additional and unique experience.",
         "Renato / Louri",
         "2011-03-18",
         "Rio de Janeiro, Brazil",
         "Copacabana",
         -22.98069,
         -43.19277,
         "Entire rental unit",
         "Entire home/apt",
         759.0,
         4.84,
         2,
         true,
         4.84
        ],
        [
         17878,
         "Very Nice 2Br in Copacabana w. balcony, fast WiFi",
         "Please note that elevated rates apply for New Years and Carnival. I will charge a fixed rate of US$1800  for 10 nights and a maximum of  5 people. There's some flexibility in the rate depending on the details. Pls contact me to discuss. <br />- Bright and sunny<br />- Large balcony (25 square meters) <br />- High speed WiFi (up to 500MB)<br />- Smart TV (you can watch Netflix etc. if you have an account)<br />- 24h doorman<br />- 1 minute to walk to Copacabana Beach<br />- Silent \"split\" air conditioning<br />- Best spot in Rio",
         "This is the one of the bests spots in Rio. Because of the large balcony and proximity to the beach, it has huge advantages in the current situation.",
         "Matthias",
         "2010-01-08",
         "Rio de Janeiro, Brazil",
         "Copacabana",
         -22.96599,
         -43.1794,
         "Entire condo",
         "Entire home/apt",
         1471.0,
         4.76,
         5,
         true,
         4.76
        ],
        [
         25026,
         "Beautiful Modern Decorated Studio in Copa",
         "**Fully renovated  in Dec 2022, new kitchen, new bathroom, new flooring! **<br />** The apartment was all renovated, floor, bathroom and new kitchen in Dec 2022!**<br /><br />If you don't have any information on Airbnb and have never used it  before, please message them first to let them know who you are.<br /><br />Our apartment is a little gem, everyone loves staying there! Best location, 2 blocks to the subway, 3 blocks to the beach, close to bars, restaurants, supermarkets, subway! Wi-fi, cable TV, air con and fan!",
         "Copacabana is a lively neighborhood and the apartment is located very close to an area in Copa full of bars, cafes and restaurants at Rua Bolivar and Domingos Ferreira. Copacabana never sleeps, there is always movement and it's a great mix of all kinds of people.",
         "Viviane",
         "2010-04-03",
         "Rio de Janeiro, Brazil",
         "Copacabana",
         -22.97649,
         -43.19122,
         "Entire rental unit",
         "Entire home/apt",
         850.0,
         4.73,
         3,
         true,
         4.73
        ],
        [
         35764,
         "COPACABANA SEA BREEZE  -  RIO - 25  X Superhost",
         "Our newly renovated studio is located in the best part of Copacabana - Between  Posto 5 and Posto 6 - 10 minutes from the Arpoador and Ipanema beach.   Security 24 hours a day.    Enjoy your stay in a family bulding  living as a local people.  Please check the possibility of flexible check-in and check-out times.",
         "Our guests will experience living with a local peole \"Carioca\"  in a very friendly building with 24 hours a day security with all kind of stores, banks, transports, restaurants.",
         "Patricia Miranda & Paulo",
         "2010-06-27",
         "Rio de Janeiro, Brazil",
         "Copacabana",
         -22.98107,
         -43.19136,
         "Entire loft",
         "Entire home/apt",
         324.0,
         4.94,
         2,
         true,
         4.94
        ],
        [
         48305,
         "Bright 6bed Penthouse Seconds from Beach",
         "Enter Bossa Nova's history by staying in the very street real-life ‘Girl From Ipanema' used to \"each day walk to the sea\".<br /><br />» Penthouse with side ocean view<br /><br />» Six ensuite bedrooms<br /><br />» Prime location, first beach-block<br /><br />» Heart of Ipanema<br /><br />» Exceptional comfort<br /><br />» Beachy, modern mid-century style<br /><br />» Designed for digital nomads<br /><br />» Remote-work ready<br /><br />» Lightning-fast Internet 240m/s<br /><br />» Locally-rooted home<br /><br />» Experience-driven stay<br /><br />» Dedicated team<br /><br />» Authentic and unforgettable Rio story",
         "Enter Bossa Nova history by staying in the very street where real-life 'Girl From Ipanema' inspired Vinicius de Moraes to write the worldwide famous song, \"each day when she walks to the sea\".<br /><br />Located seconds from Ipanema Beach's best spot Posto 9, on the first beach block in the heart of Ipanema’s very best neighbourhood, enjoy staying in this elegant and modern hideaway in a peaceful residential street.<br /><br />Ipanema and Leblon are by far the safest locations in Rio, with popular restaurants, cafes and boutique stores walking distance to the apartment.",
         "Goitaca",
         "2010-01-16",
         "Ipanema, Rio de Janeiro, Brazil",
         "Ipanema",
         -22.98591,
         -43.20302,
         "Entire rental unit",
         "Entire home/apt",
         3532.0,
         4.73,
         13,
         true,
         4.73
        ],
        [
         49179,
         "Djalma Ocean View Studio with Amazing Views",
         "Beautiful 12th Floor Ocean View Studio steps from Copacabana Beach.  Comfortable queen sized bed, HDTV with Cable & Netflix. High Speed Internet with WiFi. Kitchenette with electric stove top, refrigerator, and microwave, Full bathroom with shower.  Air Conditioner, Beach chair. Safe for your valuables. 24 hour doorman security. Towels and linens included.  Perfect location in Posto 5. Beach, delicious restaurants, bars, and shopping all very close. Just a short walk to Arpoador and Ipanema.",
         null,
         "David",
         "2010-09-05",
         null,
         "Copacabana",
         -22.9791,
         -43.19008,
         "Entire rental unit",
         "Entire home/apt",
         580.0,
         4.88,
         3,
         true,
         4.88
        ],
        [
         50759,
         "Casanova Residence great for shoots and events",
         "A cinematographyc Villa, with 4 suites facing the lake. 100% refurbiched with trendy decor. Coolcierge service provide by our staff with Rio best tips. A secret spot location, Rio de Janeiro little Veneza, at the heart of the olympic neighboorhood.",
         "A secret spot at Rio. Ilha da Gigoia, is a little island located at the olympic neighboorhood Barra da Tijuca. Know as the Rio Veneza, the iland has a few very charming restaurants and a magical little city style, at the same time is located jus in the center of Barra da Tijuca.",
         "Felipe",
         "2010-09-13",
         "Rio de Janeiro, Brazil",
         "Barra da Tijuca",
         -23.00451,
         -43.30873,
         "Entire home",
         "Entire home/apt",
         6000.0,
         4.86,
         14,
         true,
         4.86
        ],
        [
         51703,
         "Ocean view, block of the beach, Copacabana,Ipanema",
         "Oh....i love to host and to meet people interested in my beautiful city. I am always looking for how to be a better host, and makes me very happy when my guests have a nice and fun experience in my place!",
         "It is located in the hotspot of Rio, wonderful view, all you need around!<br />Copacabana is the princess of the sea... we are in the hotspot of Rio, the best all around, and public transportation to everywhere, just a few steps from home. Supermarkets, bakeries, coffeshops, restaurants, shopps, banks, drugstores. The view...ohhhh...the view from my  windowis a blessing!",
         "Dalia",
         "2010-09-18",
         "Rio de Janeiro, Brazil",
         "Copacabana",
         -22.981731,
         -43.190571,
         "Entire rental unit",
         "Entire home/apt",
         759.0,
         4.75,
         2,
         true,
         4.75
        ],
        [
         278745,
         "Luxury Apartment - in Ipanema",
         null,
         null,
         "Alex",
         "2011-04-23",
         null,
         "Ipanema",
         -22.98141,
         -43.20911,
         "Entire serviced apartment",
         "Entire home/apt",
         5394.0,
         5.0,
         5,
         true,
         5.0
        ],
        [
         280625,
         "Fascinating Rio, on the hills!",
         null,
         null,
         "Marcia  Longras",
         "2011-04-09",
         null,
         "Botafogo",
         -22.94265,
         -43.18768,
         "Private room in home",
         "Private room",
         377.0,
         4.82,
         3,
         true,
         4.82
        ],
        [
         280765,
         "STUDIO RIO LAPA CARNIVAL",
         "The studio is in an excellent location ,  direct auobuses in 20 minutes from any tourist point,Christ Redentor,copacabana,praias,pao de açucar, etc. Obairro tem a melhor vida noturna de Rio, full of typical restaurants and bars,clubs",
         null,
         "Erika",
         "2011-12-02",
         null,
         "Santa Teresa",
         -22.91543,
         -43.18419,
         "Entire rental unit",
         "Entire home/apt",
         140.0,
         5.0,
         3,
         true,
         5.0
        ],
        [
         281304,
         "5 min a pé - Praia de Copacabana, Metrô, WiFi I",
         "Bedroom and living room, with a private bathroom and a kitchenette. Wi-Fi, 50m2.<br />Kitchen with stove/oven, refrigerator, coffee maker, toaster, blender, microwave, basic utensils.<br />Room with a sofa, armchair, table for 4 people, a TV and a ceiling fan.<br />Air-conditioning in the bedroom only<br />Located in front (or inside, depending on the perspective of each one) to the Pavão-Pavãozinho favela and close to Copacabana beach and Ipanema subway.",
         "We are in Copacabana on the border with Ipanema, 2 blocks away from the beach and a few steps from the subway and the main commercial avenue of the neighborhood, Avenida Nossa Senhora de Copacabana, with plenty of restaurants, bars, pharmacies, supermarkets (open until 10:00 PM), cinema and intense movement 24 hours a day.<br />Saint Roman Street is a special street because it is the main access to one of the favelas of Copacabana. The guest, in addition to the normal experiences of a tourist in the city, can live an additional and unique experience.",
         "Renato / Louri",
         "2011-03-18",
         "Rio de Janeiro, Brazil",
         "Copacabana",
         -22.98069,
         -43.19277,
         "Entire rental unit",
         "Entire home/apt",
         896.0,
         4.84,
         4,
         true,
         4.84
        ],
        [
         281459,
         "Quintal do Rio - 2 Quartos/garagem quase Ipanema",
         "Welcome to our charming and quiet 2 bedroom apartment with balcony and an amazing view of the Environmental Reserve in the Lagoon! <br /><br />Building in front of Lagoa, concierge 24hs and  garage. Cross the street and you'll find trendy restaurants and various leisure options; skating courts, tennis, baseball, bike rentals, pedalinho<br /><br />Near the best beaches and sights of the City and a short walk to Ipanema and the metro<br /><br />Distances on foot:<br />Orla Lagoa = > 5'<br />Metrô = > 15'<br />Ipanema = > 15 '",
         "Lagoa is a charming neighborhood very close to nature, it is located between Copacabana and Ipanema.<br /><br /> In Lagoa you will find several options of sports activities, such as bicycle rentals, tennis courts, skating courts and volleyball.<br /><br />In addition, the district offers a variety of children's activities, kiosks with international food and has 2 exits close to the subway. <br />Because it is a place with less commerce, the Lagoa stands out for its tranquility and security, being ideal for families.<br /><br />It allows easy access to most of the sights:<br /><br />Rodrigo de Freitas Lagoon: 100 meters, 5 minutes walking,  just cross the street.<br />Beach of Ipanema: 2 km<br />Leblon Beach: 3.5 km<br />Parque Jardim Botânico: 4 km<br />Cristo Redentor:  6 km<br />Sugarloaf:  8 km<br />Lage Park: 3 km<br />Lapa: 9 km<br />Galeão Airport: 36 km<br />Santos Dumont Airport: 9 km<br /><br />Variety of easy and fast public transportation, subway, bus, Uber  and taxis in abu",
         "Nilda",
         "2011-09-06",
         "Ipanema, Rio de Janeiro, Brazil",
         "Lagoa",
         -22.97406,
         -43.20676,
         "Entire rental unit",
         "Entire home/apt",
         1372.0,
         4.95,
         4,
         true,
         4.95
        ],
        [
         282071,
         "Rio, hospedagem e tranquilidade",
         null,
         "Quiet neighbors, family building",
         "Jaqueline",
         "2011-12-04",
         "Rio de Janeiro, Brazil",
         "Flamengo",
         -22.9365,
         -43.17868,
         "Entire rental unit",
         "Entire home/apt",
         438.0,
         4.8,
         2,
         true,
         4.8
        ],
        [
         284762,
         "10People Ipanema/Copa (Easter,AnoNovo, Feriado",
         "Please ask for $$ Carnival PACKAGE, New Year's Eve, long term etc.    Pls ask PACKAGE $$ for CARNIVAL, N. Year´s, longer periods, etc..<br />STUDIO between IPANEMA  COPACABANA - small flat totally REMODELLED 4 years ago to create a microSuite, Mezanine & 2BATHS",
         null,
         "Celina",
         "2011-11-15",
         null,
         "Copacabana",
         -22.98277,
         -43.1936,
         "Entire rental unit",
         "Entire home/apt",
         1200.0,
         3.5,
         10,
         true,
         3.5
        ],
        [
         284910,
         "COPACABANA 2 BLOCKS FROM THE BEACH",
         "Thank You for looking and possibly considering my apartment. Our apartment  located only 2 blocks from the beach. Apartment is full of sunlight and is facing away from the busy streets. We provide free worldwide calling, WIFI/Ethernet, laundry, ELECTRONIC LOCK ENTRY (No key needed, no need to meet the landlord)<br />------<br />If your reservation is few month ahead please contact me prior to making any reservation<br />------",
         "Neighborhood is full of life. All around you would find abundance of restaurants. Right below our building we have an authentic German restaurant. Guests from Europe should have no problem withdrawing money via Euro supported ATM's. Also you would find a freshly squeezed juice bar right below our building. All around you would find public transportation (buses, 5 min walking to metro station). Please feel free to ask me any questions and I would be more then happy to answer them.",
         "Fernanda",
         "2011-10-03",
         "Rio de Janeiro, Brazil",
         "Copacabana",
         -22.961776553330363,
         -43.17607759712209,
         "Entire rental unit",
         "Entire home/apt",
         5054.0,
         4.15,
         4,
         true,
         4.15
        ],
        [
         285363,
         "400 meters from Leme beach | Pi401",
         "Welcome to Pineapples!<br><br><br>Discover this wonderful apartment in Copacabana, ideal for couples or friends, perfectly accommodating up to 2 guests!<br><br><br> Accommodation with a side sea view;<br><br><br> Full kitchen and washing machine;<br><br><br> Bedroom with queen size bed and air conditioning;<br><br><br> Complete bathroom;<br><br>Located 450 meters from Leme beach and 13 minutes from Copacabana beach, it is close to the best restaurants, markets and stores in the area!",
         null,
         "Pineapples",
         "2011-11-07",
         null,
         "Copacabana",
         -22.9619,
         -43.1749,
         "Entire rental unit",
         "Entire home/apt",
         943.0,
         4.65,
         2,
         true,
         4.65
        ],
        [
         53533,
         "Walk to Joatinga Beach/PedraDaGávea View Casa/Pool",
         "This private 4 bedroom/4 bathroom home is located in the prestiges neighborhood of Joatinga.  This is considered the Beverly Hills of Rio de Janeiro.  It is a gated, 24 hour security neighborhood with it's own beach.  This home has a new pool and barbecue area. The kitchen has everything you need.  All appliances are imported from the US.  You will sleep well in high quality cotton sheets and enjoy the plush comfort of imported towels.  Come live like a Carioca in this beautiful home.",
         "You are close, 3min drive to most everything you will need or want.<br /><br />-several simples restaurants<br />-juice places<br />-bakery<br />-taxi stand<br />-super market<br />-pharmacy<br />-bars<br />-live music<br />and more!",
         "Sherri & Andre",
         "2010-09-30",
         "Joatinga, Rio de Janeiro, Brazil",
         "Joá",
         -23.00809,
         -43.29113,
         "Entire home",
         "Entire home/apt",
         2697.0,
         4.86,
         10,
         true,
         4.86
        ],
        [
         60718,
         "Wonderful loft at the heart of Rio de Janeiro",
         "The apartment has 3 levels. In the first level there is  two connected living rooms, including 3 large sofas, a piano, a wine cave, a TV set, a film-projector and other commodities. . Also, a bathroom and a large and well-equipped kitchen,  refrigerator, a freeze and a dishwasher machine. On the second floor there is 4 bedrooms 1 with TV set, All rooms in both levels have air-conditioning. The third level is a terrace with a table, hammocks, beach chairs, shower and barbecue.",
         "In the neighborhood, within walking distance, there are plenty of markets, shops, bars and restaurants for all tastes and budgets, from Chinese delivery and the famous kilo restaurants (you pay by weight) to some of the best restaurants in town, such as Alcaparra (around the corner), Majórica steakhouse and the French styled Paris, besides all budgets Portuguese, Northeastern, Amazon, Peruvian, Arabic, Japanese, Chinese and seafood restaurants and bars, like the famous Belmonte, at Praia do Flamengo.  For drinking, you should ask for the refreshing chope, our draft beer, or one of the many amazing fruit juices or coconut water.  <br />Buarque de Macedo street starts at Praia do Flamengo (Flamengo beach) just across Aterro do Flamengo, one of the largest and most beautiful city parks in the world. The street crosses Catete St., full of colonial houses and all kinds of shops and restaurants. On Catete St. there is the Museu da República (Republic Museum), with a movie theater, coffee sho",
         "Tânia",
         "2010-11-20",
         "Rio de Janeiro, Brazil",
         "Flamengo",
         -22.92972,
         -43.17488,
         "Entire rental unit",
         "Entire home/apt",
         1200.0,
         4.9,
         6,
         true,
         4.9
        ],
        [
         61661,
         "Perfect Copacabana near Ipanema",
         null,
         null,
         "Andrea",
         "2010-09-21",
         null,
         "Copacabana",
         -22.98453,
         -43.19248,
         "Entire rental unit",
         "Entire home/apt",
         280.0,
         4.84,
         4,
         true,
         4.84
        ],
        [
         64795,
         "Ipanema amazing 3 bedrooms apartment",
         "Great 3 bedrooms apartment (1 suite) with air conditioning. Very spacious and silent apartment, fully equipped kitchen and speed wifi. <br />Located in the heart of Ipanema close by all the best restaurants and only 3 minutes walking distance from Ipanema beach posto 9. Private building with 24h security.",
         null,
         "Andrea",
         "2010-03-14",
         null,
         "Ipanema",
         -22.98169,
         -43.2028,
         "Entire rental unit",
         "Entire home/apt",
         1986.0,
         4.76,
         6,
         true,
         4.76
        ],
        [
         66797,
         "Studio Apart  for rent in ipanema.",
         null,
         "Ipanema is the most famous beach in Rio de Janeiro ,  an excellent trade <br /> with several bars and restaurants , subway , bus and transportation to anywhere in Rio . One of the safest and most charming neighborhoods in Rio .",
         "Carlos",
         "2010-12-27",
         "Rio, Rio de Janeiro, Brazil",
         "Copacabana",
         -22.9824,
         -43.19593,
         "Entire rental unit",
         "Entire home/apt",
         743.0,
         4.93,
         2,
         true,
         4.93
        ],
        [
         70080,
         "Apart-hotel em Ipanema com garagem e  camareira",
         "Apart-hotel in Ipanema with parking and daily cleaning service at no extra cost - the best place in Rio de Janeiro!<br /><br />One block from the metro; 2 blocks from Ipanema beach and 4 blocks from Copacabana beach. The flat has laundry facilities, pool and  sauna. Very safe and pleasant location. It is ideal for up to 4 guests, but I can accommodate up to 5 guests. It features 1 bedroom, 2 full bathrooms, and a living room with an American kitchen. It does not have cable TV, only smart TV. Book now!",
         "Ipanema is the best neighborhood in Rio!",
         "Valeria",
         "2010-12-15",
         "Rio, Rio de Janeiro, Brazil",
         "Ipanema",
         -22.9854,
         -43.19602,
         "Entire rental unit",
         "Entire home/apt",
         1310.0,
         4.88,
         5,
         true,
         4.88
        ],
        [
         70547,
         "37B&B - Santa Teresa Suite MOMA RIO",
         "Our house is a small B&B localized in the smart, green and historical district of Santa Teresa, up on a hill 5 min. by walk from the Center of the city, Lapa and Gloria. <br /><br />Santa Teresa is surrounded by the greenery and we are close to the center and the south zone. <br />We await you, with bed and bath linens always clean, a room in a comfortable and cozy house, to relax and enjoy the delights of this effervescent city. <br />LGBTQIA+ , they're always welcome around here.",
         "Santa Teresa, without a doubt, is the most picturesque, artistic neighborhood and with the richest historical and architectural heritage in Rio de Janeiro. , between the Tijuca Forest / Cristo Redentor, City Center, Flamengo Park, overlooking the Sugar Loaf, this neighborhood offers strategic viewpoints, which allow us to enjoy the Sun Rise and the Sun, for the arrival of the moon. This entire identity set makes this neighborhood a habitat, cosmopolitan, welcoming, friendly and friendly. We simply love Santa Teresa and its people. This was the place that definitely connected us with the Marvelous City and all its cultural and environmental power .Our Rio de Janeiro.",
         "Isabele",
         "2011-01-22",
         "Rio de Janeiro, Brazil",
         "Santa Teresa",
         -22.9172,
         -43.17812,
         "Private room in townhouse",
         "Private room",
         223.0,
         4.84,
         2,
         true,
         4.84
        ],
        [
         75148,
         "Modern Copacabana near Ipanema",
         null,
         null,
         "Andrea",
         "2010-09-21",
         null,
         "Copacabana",
         -22.98107,
         -43.19029,
         "Entire rental unit",
         "Entire home/apt",
         679.0,
         4.85,
         4,
         true,
         4.85
        ],
        [
         76245,
         "Espaçosa Casa  no Coração do Rio 290m4QT.8camas",
         "Building next to the beaches of Copacabana, Ipanema and Arpoador, with transports near the door ( Metro, Bus ). Supermarkets,Bars,Restaurants,Lojas of all kinds. Apartment with 290m2, 4 bedrooms, two of them are, suite + 2WC ( total 4WC ), Lounge, Dining room, TV room, Service Area, Kitchen, small room. There is a garage with a vacancy. Circular floor, one apartment per floor.",
         "Ipanema and Copacabana the best location in Rio de Janeiro.<br />Beaches, Shops, Transportation, Everything.",
         "Diogo",
         "2011-02-23",
         "Rio de Janeiro, Brazil",
         "Copacabana",
         -22.98192,
         -43.19397,
         "Entire rental unit",
         "Entire home/apt",
         4567.0,
         4.58,
         12,
         true,
         4.58
        ],
        [
         286677,
         "a ocean view quadruple room in copacabana",
         null,
         null,
         "Samuel",
         "2011-11-21",
         null,
         "Copacabana",
         -22.96633,
         -43.17754,
         "Private room in rental unit",
         "Private room",
         864.0,
         4.85,
         4,
         true,
         4.85
        ],
        [
         286788,
         "triple ocean view room in copacaban",
         "its a room only not the entire flat before paying please contact the host informing the arrival and departure time, no visitors are allowed",
         null,
         "Samuel",
         "2011-11-21",
         null,
         "Copacabana",
         -22.96633,
         -43.17754,
         "Private room in rental unit",
         "Private room",
         636.0,
         4.89,
         3,
         true,
         4.89
        ],
        [
         286792,
         "triple ocean view room in copacaban",
         "i am renting only one room not the entire apartment. When asking to book please inform the arrival and departure times,sometimes they are flexible and may be sooner or later, do not pay before receiving the invitation to book",
         null,
         "Samuel",
         "2011-11-21",
         null,
         "Copacabana",
         -22.96745,
         -43.17654,
         "Private room in rental unit",
         "Private room",
         664.0,
         5.0,
         3,
         true,
         5.0
        ],
        [
         289898,
         "double/twin ocean view room in copa",
         null,
         null,
         "Samuel",
         "2011-11-21",
         null,
         "Copacabana",
         -22.96633,
         -43.17754,
         "Private room in rental unit",
         "Private room",
         640.0,
         5.0,
         2,
         true,
         5.0
        ],
        [
         76300,
         "GREAT VIEW -Guesthouse \"CASA 48\"- Santa Teresa  #1",
         "If you want to experience something different and more authentic than classical hotels during your stay in Rio : welcome in our GuestHouse \"Casa 48\" in Santa Teresa. Be ready for a unique relationship with the Sugar Loaf!",
         "** THE NEIGHBORHOOD OF SANTA TERESA ** <br />Santa Teresa was the bourgeois neighborhood of Rio in the last century, which is why there are beautiful colorful houses with very eclectic colonial architecture. It is especially known for being the artistic district of Rio; indeed, there are many cultural events organized by the locals and there are a large number of small workshops. As the neighborhood is located on a hill, you will enjoy breathtaking views of the whole city, whether it is the North part (Maracana, Sambodrome ...) or the South part (Sugarloaf, Guanabara Bay... ). Being on the edge of the Tijuca forest, you will be surprised by its vegetation. It is a small village in the heart of the metropolis, like a small island. Everyone knows each other, it's a quiet and peaceful neighborhood, there are many bars and restaurants, you will find here a very unique spirit compared to the rest of the city,<br />- Largo dos Guimarães: 15min walk. It's the heart of the neighborhood where y",
         "Casa 48 Guesthouse",
         "2011-02-23",
         "Rio de Janeiro, Brazil",
         "Santa Teresa",
         -22.92742,
         -43.19464,
         "Private room in bed and breakfast",
         "Private room",
         203.0,
         4.84,
         3,
         true,
         4.84
        ],
        [
         86670,
         "Fronteira Leblon/Ipanema - Vista fantástica!",
         "Recently renovated, on the border between Leblon and Ipanema offers incredible views. Next to the Leblon Mall and Rodrigo de Freitas Lagoon, the location is perfect for enjoying the nightlife, restaurants and beaches of the area. Combining comfort and elegance, it is the ideal getaway for those who want to live the best of Rio de Janeiro. Make yourself at home, it will be a pleasure to welcome you!",
         "The surroundings of the Leblon neighborhood provide a variety of experiences for locals and visitors!!<br /><br /><br /><br />Leblon Beach:<br /><br />This charming beach is the epicenter, providing a world-renowned stretch of sand. It is an ideal place for hiking, sporting activities, relaxation by the sea and a relaxed atmosphere.<br /><br /><br /><br />Avenida Ataulfo de Paiva:<br /><br />An important commercial thoroughfare, full of shops, cafés and restaurants. It offers a lively and social atmosphere, being a popular spot for night tours and appreciation of the ocean view.<br /><br /><br /><br />Local Merchants:<br /><br />Leblon is known for its vibrant commerce, including fashion shops, cafes, and boutiques. Busy streets such as Avenida Afrânio de Melo Franco are examples of shopping areas.<br /><br /><br /><br />Nightlife:<br /><br />The neighborhood offers a bustling nightlife with live music bars and concert halls along major thoroughfares and adjacent streets. Musical and c",
         "June",
         "2011-03-31",
         "Rio de Janeiro, Brazil",
         "Leblon",
         -22.9835398,
         -43.2160536,
         "Entire rental unit",
         "Entire home/apt",
         1258.0,
         4.65,
         4,
         true,
         4.65
        ],
        [
         86978,
         "Room For a Rent : Rio de Janeiro",
         "The Brazilian hospitality is known worldwide and we are always open arms like the Christ the Redeemer statue to receive people looking for a cozy place to stay and rest while traveling for leisure or business.",
         null,
         "Antonio",
         "2011-04-01",
         null,
         "Jacarepaguá",
         -22.97293,
         -43.38321,
         "Private room in rental unit",
         "Private room",
         1011.0,
         null,
         2,
         true,
         0.0
        ],
        [
         87762,
         "Apartamento Blue a 1 quadra da praia de Ipanema",
         "Apartment in front of Jardim de Alah (border canal between Ipanema and Leblon), 1 block from the beach (150m) and 3 blocks from Lagoa Rodrigo de Freitas (300m). In the heart of Ipanema! It is close to several leisure options:  beach, lagoon, restaurants, pharmacies, banks, Shopping Leblon (200m), subway station 1 block away (120m), and so much more. From the back and quiet, it is ideal for those passing through RJ and want to stay at a fair price in one of the best locations in the South Zone of Rio.",
         null,
         "Pablo",
         "2011-04-03",
         null,
         "Ipanema",
         -22.98339,
         -43.21436,
         "Entire rental unit",
         "Entire home/apt",
         671.0,
         4.72,
         4,
         true,
         4.72
        ],
        [
         88528,
         "COPACABANA - Lindo apartamento na quadra da praia",
         "Apartment all renovated with top quality materials!<br />Less than 30m from Copacabana Beach. Supermarkets, restaurants, bars, juice bars on the block.",
         null,
         "June",
         "2011-03-31",
         null,
         "Copacabana",
         -22.97794,
         -43.18969,
         "Entire rental unit",
         "Entire home/apt",
         1635.0,
         4.79,
         3,
         true,
         4.79
        ],
        [
         88781,
         "COPACABANA - ÓTIMA LOCALIZAÇÃO",
         "Located 50 meters from the Copacabana Beach!<br /><br />24 hour concierge in an Safe n' Tranquil street !!<br /><br />Wi-Fi / Cable TV / Full Kitchen<br /><br />Metro > 5 min on foot.<br />Handicraft & Art fairs nearby.<br />Complete infrastructure, Up to 3 people.<br /><br />Welcome !!",
         null,
         "June",
         "2011-03-31",
         null,
         "Copacabana",
         -22.9754828,
         -43.188548,
         "Entire rental unit",
         "Entire home/apt",
         1051.0,
         4.75,
         3,
         true,
         4.75
        ],
        [
         290503,
         "5 min a pé - Praia de Copacabana, Metrô, WiFi III",
         "Studio independent c 30m2, private bathroom, wifi approx. 100 Mbps). Refrigerator, coffee maker, toaster, microwave, basic utensils, TV, sheets and towels. Located in front (or inside, depending on the perspective of each one) to the Pavão-Pavãozinho favela and close to Copacabana beach and Ipanema subway. Check out our GMaps location BEFORE YOU confirm payment/reservation.",
         "A traditional house from the 1950s in Copacabana has been renovated and converted into 7 fully independent and functional apartments. The studio of this ad is one of them.<br />The studio has a private bathroom and a compact kitchen with a refrigerator, microwave, coffee maker, toaster, blender and basic utensils necessary to prepare simple meals (breakfast and quick meals), there is no stove and no oven. The window faces a small green garden.<br />In the access room that leads to all the studios, located on the ground floor of the property the interior environment is relaxing, contrasting with the intense life of Saint Roman Street, which is the main access to the Pavão-Pavãozinho favela, one of the first favelas founded in Rio de Janeiro, 60 years ago, when Brazilians from North and Northeast Brazilians came to live in the city to work in the city's civil construction. It is common to listen to very loud music coming from the bars and restaurants of Saint Roman Street (mostly on week",
         "Renato / Louri",
         "2011-03-18",
         "Rio de Janeiro, Brazil",
         "Copacabana",
         -22.98069,
         -43.19277,
         "Entire rental unit",
         "Entire home/apt",
         796.0,
         4.94,
         4,
         true,
         4.94
        ],
        [
         290513,
         "2 bedroom in Urca 300 meters from Sugarloaf.",
         "The House is very comfortable, ventilated, bright, cozy and silent.<br /><br />Residential neighborhood with a lot of tranquility and security.<br /><br />Optical fiber high speed internet, smart tv, full kitchen and ar conditioner <br /><br />Close to the beach, walks in nature, restaurants, bars, sunsets and many tourists attractions with public transport at the door and rental bike stations.",
         "Beautiful, charming, safe and very well located.",
         "João",
         "2011-12-15",
         "Rio de Janeiro, Brazil",
         "Urca",
         -22.952841,
         -43.168194,
         "Entire rental unit",
         "Entire home/apt",
         546.0,
         4.94,
         4,
         true,
         4.94
        ],
        [
         291290,
         "Apartment in Copacabana / RIO with Fast Internet",
         "I have a studio apartment in Copacabana for rent. It Is very near the Copacabana Beach in the middle of Copacabana. There is a supermarket at the corner. Subway is also very near, and there are busses to everywhere.",
         null,
         "Sascha",
         "2011-02-21",
         null,
         "Copacabana",
         -22.97566,
         -43.18893,
         "Entire rental unit",
         "Entire home/apt",
         985.0,
         4.5,
         4,
         true,
         4.5
        ],
        [
         293166,
         "A MELHOR LOCALIZAÇAO PARA AS SUAS FÉRIAS",
         "Please not make reservation before confirming availability or tariffs  !!!!<br />Porfavor no booking sin before confirm availability rates !!!<br />please book only after confirm availability and rates!!<br /><br />Wonderful location,<br />o, bus at door ,20 minuts in onibus para copacabana,pao de sugar,christ redentor, <br />the district has the best nightlife in the city, full of bars, rstaurantes,dicotecas-",
         null,
         "Erika",
         "2011-12-02",
         null,
         "Santa Teresa",
         -22.9144,
         -43.18163,
         "Entire rental unit",
         "Entire home/apt",
         522.0,
         5.0,
         2,
         true,
         5.0
        ],
        [
         293171,
         "Precioso apartamento  en el centro , todo nuevo !",
         "THE BEST LOCATION TO SPEND THE BEST CARNIVAL IN RIO DE JANEIRO.<br />15-MINUTE WALK FROM SAMODRAMOS, PARADES,TYPICAL FESTIVIDADE, DANCING AND EVERYTHING ELSE THAT RIO LIVES INTENSELY IN THESE 4 DAYS OF CARNIVAL.",
         null,
         "Erika",
         "2011-12-02",
         null,
         "Santa Teresa",
         -22.9155,
         -43.18423,
         "Entire rental unit",
         "Entire home/apt",
         281.0,
         null,
         3,
         true,
         0.0
        ]
       ],
       "datasetInfos": [],
       "dbfsResultPath": null,
       "isJsonSchema": true,
       "metadata": {},
       "overflow": false,
       "plotOptions": {
        "customPlotOptions": {},
        "displayType": "table",
        "pivotAggregation": null,
        "pivotColumns": null,
        "xColumns": null,
        "yColumns": null
       },
       "removedWidgets": [],
       "schema": [
        {
         "metadata": "{}",
         "name": "id",
         "type": "\"long\""
        },
        {
         "metadata": "{}",
         "name": "name",
         "type": "\"string\""
        },
        {
         "metadata": "{}",
         "name": "description",
         "type": "\"string\""
        },
        {
         "metadata": "{}",
         "name": "neighborhood_overview",
         "type": "\"string\""
        },
        {
         "metadata": "{}",
         "name": "host_name",
         "type": "\"string\""
        },
        {
         "metadata": "{\"__detected_date_formats\":\"yyyy-M-d\"}",
         "name": "host_since",
         "type": "\"date\""
        },
        {
         "metadata": "{}",
         "name": "neighbourhood",
         "type": "\"string\""
        },
        {
         "metadata": "{}",
         "name": "neighbourhood_cleansed",
         "type": "\"string\""
        },
        {
         "metadata": "{}",
         "name": "latitude",
         "type": "\"double\""
        },
        {
         "metadata": "{}",
         "name": "longitude",
         "type": "\"double\""
        },
        {
         "metadata": "{}",
         "name": "property_type",
         "type": "\"string\""
        },
        {
         "metadata": "{}",
         "name": "room_type",
         "type": "\"string\""
        },
        {
         "metadata": "{}",
         "name": "price",
         "type": "\"double\""
        },
        {
         "metadata": "{}",
         "name": "review_scores_accuracy",
         "type": "\"double\""
        },
        {
         "metadata": "{}",
         "name": "accommodates",
         "type": "\"integer\""
        },
        {
         "metadata": "{}",
         "name": "has_availability",
         "type": "\"boolean\""
        },
        {
         "metadata": "{}",
         "name": "reviews",
         "type": "\"double\""
        }
       ],
       "type": "table"
      }
     },
     "output_type": "display_data"
    }
   ],
   "source": [
    "%sql \n",
    "SELECT * FROM airbnb.listings LIMIT 50;"
   ]
  },
  {
   "cell_type": "code",
   "execution_count": 0,
   "metadata": {
    "application/vnd.databricks.v1+cell": {
     "cellMetadata": {
      "byteLimit": 2048000,
      "implicitDf": true,
      "rowLimit": 10000
     },
     "inputWidgets": {},
     "nuid": "3e631517-8938-4778-893e-1b9abccb1674",
     "showTitle": false,
     "tableResultSettingsMap": {},
     "title": ""
    }
   },
   "outputs": [
    {
     "output_type": "display_data",
     "data": {
      "text/html": [
       "<style scoped>\n",
       "  .table-result-container {\n",
       "    max-height: 300px;\n",
       "    overflow: auto;\n",
       "  }\n",
       "  table, th, td {\n",
       "    border: 1px solid black;\n",
       "    border-collapse: collapse;\n",
       "  }\n",
       "  th, td {\n",
       "    padding: 5px;\n",
       "  }\n",
       "  th {\n",
       "    text-align: left;\n",
       "  }\n",
       "</style><div class='table-result-container'><table class='table-result'><thead style='background-color: white'><tr><th>TotalListings</th><th>has_availability</th></tr></thead><tbody><tr><td>36205</td><td>true</td></tr><tr><td>1</td><td>false</td></tr></tbody></table></div>"
      ]
     },
     "metadata": {
      "application/vnd.databricks.v1+output": {
       "addedWidgets": {},
       "aggData": [],
       "aggError": "",
       "aggOverflow": false,
       "aggSchema": [],
       "aggSeriesLimitReached": false,
       "aggType": "",
       "arguments": {},
       "columnCustomDisplayInfos": {},
       "data": [
        [
         36205,
         true
        ],
        [
         1,
         false
        ]
       ],
       "datasetInfos": [],
       "dbfsResultPath": null,
       "isJsonSchema": true,
       "metadata": {},
       "overflow": false,
       "plotOptions": {
        "customPlotOptions": {},
        "displayType": "table",
        "pivotAggregation": null,
        "pivotColumns": null,
        "xColumns": null,
        "yColumns": null
       },
       "removedWidgets": [],
       "schema": [
        {
         "metadata": "{}",
         "name": "TotalListings",
         "type": "\"long\""
        },
        {
         "metadata": "{}",
         "name": "has_availability",
         "type": "\"boolean\""
        }
       ],
       "type": "table"
      }
     },
     "output_type": "display_data"
    }
   ],
   "source": [
    "%sql\n",
    "SELECT count(*) AS TotalListings,\n",
    "has_availability\n",
    "FROM airbnb.listings\n",
    "GROUP BY has_availability; "
   ]
  },
  {
   "cell_type": "markdown",
   "metadata": {
    "application/vnd.databricks.v1+cell": {
     "cellMetadata": {
      "byteLimit": 2048000,
      "rowLimit": 10000
     },
     "inputWidgets": {},
     "nuid": "393cf938-d5a4-4608-aeab-42abcccb104c",
     "showTitle": false,
     "tableResultSettingsMap": {},
     "title": ""
    }
   },
   "source": [
    "The query below indicates the proportion of room types in Rio de janeiro. The most common, (80%) are entire room rentals.\n",
    "\n",
    "Private rooms are little guestrooms separte from the main house."
   ]
  },
  {
   "cell_type": "code",
   "execution_count": 0,
   "metadata": {
    "application/vnd.databricks.v1+cell": {
     "cellMetadata": {
      "byteLimit": 2048000,
      "implicitDf": true,
      "rowLimit": 10000
     },
     "inputWidgets": {},
     "nuid": "41fc15de-8505-4112-ae3e-2c854abcbfa9",
     "showTitle": true,
     "tableResultSettingsMap": {},
     "title": "Room Types in Rio de Janeiro"
    }
   },
   "outputs": [
    {
     "output_type": "display_data",
     "data": {
      "text/html": [
       "<style scoped>\n",
       "  .table-result-container {\n",
       "    max-height: 300px;\n",
       "    overflow: auto;\n",
       "  }\n",
       "  table, th, td {\n",
       "    border: 1px solid black;\n",
       "    border-collapse: collapse;\n",
       "  }\n",
       "  th, td {\n",
       "    padding: 5px;\n",
       "  }\n",
       "  th {\n",
       "    text-align: left;\n",
       "  }\n",
       "</style><div class='table-result-container'><table class='table-result'><thead style='background-color: white'><tr><th>TotalRoomTypes</th><th>Percentage</th><th>RoomTypes</th></tr></thead><tbody><tr><td>29267</td><td>80.83%</td><td>Entire home/apt</td></tr><tr><td>6663</td><td>18.4%</td><td>Private room</td></tr><tr><td>256</td><td>0.71%</td><td>Shared room</td></tr><tr><td>20</td><td>0.06%</td><td>Hotel room</td></tr></tbody></table></div>"
      ]
     },
     "metadata": {
      "application/vnd.databricks.v1+output": {
       "addedWidgets": {},
       "aggData": [],
       "aggError": "",
       "aggOverflow": false,
       "aggSchema": [],
       "aggSeriesLimitReached": false,
       "aggType": "",
       "arguments": {},
       "columnCustomDisplayInfos": {},
       "data": [
        [
         29267,
         "80.83%",
         "Entire home/apt"
        ],
        [
         6663,
         "18.4%",
         "Private room"
        ],
        [
         256,
         "0.71%",
         "Shared room"
        ],
        [
         20,
         "0.06%",
         "Hotel room"
        ]
       ],
       "datasetInfos": [],
       "dbfsResultPath": null,
       "isJsonSchema": true,
       "metadata": {},
       "overflow": false,
       "plotOptions": {
        "customPlotOptions": {},
        "displayType": "table",
        "pivotAggregation": null,
        "pivotColumns": null,
        "xColumns": null,
        "yColumns": null
       },
       "removedWidgets": [],
       "schema": [
        {
         "metadata": "{}",
         "name": "TotalRoomTypes",
         "type": "\"long\""
        },
        {
         "metadata": "{}",
         "name": "Percentage",
         "type": "\"string\""
        },
        {
         "metadata": "{}",
         "name": "RoomTypes",
         "type": "\"string\""
        }
       ],
       "type": "table"
      }
     },
     "output_type": "display_data"
    },
    {
     "output_type": "display_data",
     "data": {
      "text/plain": [
       "Databricks visualization. Run in Databricks to view."
      ]
     },
     "metadata": {
      "application/vnd.databricks.v1.subcommand+json": {
       "baseErrorDetails": null,
       "bindings": {},
       "collapsed": false,
       "command": "%sql WITH q AS (SELECT count(id) as TotalRoomTypes, \nconcat(round((TotalRoomTypes/(select count(id) from airbnb.listings) * 100),2), \"%\") as Percentage, \nroom_type as RoomTypes \nFROM airbnb.listings \nGROUP BY room_type \nORDER BY TotalRoomTypes DESC) SELECT `Percentage`,`RoomTypes`,SUM(`TotalRoomTypes`) `column_5bf63bf133` FROM q GROUP BY `Percentage`,`RoomTypes`",
       "commandTitle": "Visualization 1",
       "commandType": "auto",
       "commandVersion": 0,
       "commentThread": [],
       "commentsVisible": false,
       "contentSha256Hex": null,
       "customPlotOptions": {
        "redashChart": [
         {
          "key": "type",
          "value": "CHART"
         },
         {
          "key": "options",
          "value": {
           "alignYAxesAtZero": true,
           "coefficient": 1,
           "columnConfigurationMap": {
            "series": {
             "column": "RoomTypes",
             "id": "column_5bf63bf132"
            },
            "x": {
             "column": "Percentage",
             "id": "column_5bf63bf131"
            },
            "y": [
             {
              "column": "TotalRoomTypes",
              "id": "column_5bf63bf133",
              "transform": "SUM"
             }
            ]
           },
           "dateTimeFormat": "DD/MM/YYYY HH:mm",
           "direction": {
            "type": "counterclockwise"
           },
           "error_y": {
            "type": "data",
            "visible": true
           },
           "globalSeriesType": "column",
           "isAggregationOn": true,
           "legend": {
            "traceorder": "normal"
           },
           "missingValuesAsZero": true,
           "numberFormat": "0,0.[00000]",
           "percentFormat": "0[.]00%",
           "reverseX": true,
           "series": {
            "error_y": {
             "type": "data",
             "visible": true
            },
            "stacking": "stack"
           },
           "seriesOptions": {
            "Entire home/apt": {
             "color": "#50F5ED"
            },
            "Hotel room": {
             "color": "#17BF51"
            },
            "column_5bf63bf133": {
             "name": "TotalRoomTypes",
             "yAxis": 0
            }
           },
           "showDataLabels": false,
           "sizemode": "diameter",
           "sortX": true,
           "sortY": true,
           "swappedAxes": true,
           "textFormat": "",
           "useAggregationsUi": true,
           "valuesOptions": {},
           "version": 2,
           "xAxis": {
            "labels": {
             "enabled": true
            },
            "type": "-"
           },
           "yAxis": [
            {
             "type": "-"
            },
            {
             "opposite": true,
             "type": "-"
            }
           ]
          }
         }
        ]
       },
       "datasetPreviewNameToCmdIdMap": {},
       "diffDeletes": [],
       "diffInserts": [],
       "displayType": "redashChart",
       "error": null,
       "errorDetails": null,
       "errorSummary": null,
       "errorTraceType": null,
       "finishTime": 0,
       "globalVars": {},
       "guid": "",
       "height": "auto",
       "hideCommandCode": false,
       "hideCommandResult": false,
       "iPythonMetadata": null,
       "inputWidgets": {},
       "isLockedInExamMode": false,
       "latestUser": "a user",
       "latestUserId": null,
       "listResultMetadata": null,
       "metadata": {
        "byteLimit": 2048000,
        "implicitDf": true,
        "rowLimit": 10000
       },
       "nuid": "3c38ce96-27f7-4d8f-9380-f2d81e994c17",
       "origId": 0,
       "parentHierarchy": [],
       "pivotAggregation": null,
       "pivotColumns": null,
       "position": 8.0,
       "resultDbfsErrorMessage": null,
       "resultDbfsStatus": "INLINED_IN_TREE",
       "results": null,
       "showCommandTitle": false,
       "startTime": 0,
       "state": "input",
       "streamStates": {},
       "subcommandOptions": {
        "queryPlan": {
         "groups": [
          {
           "column": "Percentage",
           "type": "column"
          },
          {
           "column": "RoomTypes",
           "type": "column"
          }
         ],
         "selects": [
          {
           "column": "Percentage",
           "type": "column"
          },
          {
           "column": "RoomTypes",
           "type": "column"
          },
          {
           "alias": "column_5bf63bf133",
           "args": [
            {
             "column": "TotalRoomTypes",
             "type": "column"
            }
           ],
           "function": "SUM",
           "type": "function"
          }
         ]
        }
       },
       "submitTime": 0,
       "subtype": "tableResultSubCmd.visualization",
       "tableResultIndex": 0,
       "tableResultSettingsMap": {},
       "useConsistentColors": false,
       "version": "CommandV1",
       "width": "auto",
       "workflows": [],
       "xColumns": null,
       "yColumns": null
      }
     },
     "output_type": "display_data"
    }
   ],
   "source": [
    "%sql\n",
    "SELECT count(id) as TotalRoomTypes, \n",
    "concat(round((TotalRoomTypes/(select count(id) from airbnb.listings) * 100),2), \"%\") as Percentage, \n",
    "room_type as RoomTypes \n",
    "FROM airbnb.listings \n",
    "GROUP BY room_type \n",
    "ORDER BY TotalRoomTypes DESC;"
   ]
  },
  {
   "cell_type": "markdown",
   "metadata": {
    "application/vnd.databricks.v1+cell": {
     "cellMetadata": {
      "byteLimit": 2048000,
      "rowLimit": 10000
     },
     "inputWidgets": {},
     "nuid": "3b894280-c6ca-4603-bc6b-ae462ac74972",
     "showTitle": false,
     "tableResultSettingsMap": {},
     "title": ""
    }
   },
   "source": [
    "The query below indicates the proportion of listings in each neighbourhood in Rio de janeiro. \n",
    "\n",
    "Copacabana outstands as the place where there more listings in Rio. It almost the same amount of the next 5 neighbourhoods added together."
   ]
  },
  {
   "cell_type": "code",
   "execution_count": 0,
   "metadata": {
    "application/vnd.databricks.v1+cell": {
     "cellMetadata": {
      "byteLimit": 2048000,
      "implicitDf": true,
      "rowLimit": 10000
     },
     "inputWidgets": {},
     "nuid": "8bee7364-e27b-4cfe-866b-471b59b9ee70",
     "showTitle": true,
     "tableResultSettingsMap": {},
     "title": "Outstading Neighbourhoods"
    }
   },
   "outputs": [
    {
     "output_type": "display_data",
     "data": {
      "text/html": [
       "<style scoped>\n",
       "  .table-result-container {\n",
       "    max-height: 300px;\n",
       "    overflow: auto;\n",
       "  }\n",
       "  table, th, td {\n",
       "    border: 1px solid black;\n",
       "    border-collapse: collapse;\n",
       "  }\n",
       "  th, td {\n",
       "    padding: 5px;\n",
       "  }\n",
       "  th {\n",
       "    text-align: left;\n",
       "  }\n",
       "</style><div class='table-result-container'><table class='table-result'><thead style='background-color: white'><tr><th>TotalInNeighbourhoods</th><th>Percentage</th><th>Neighbourhood</th></tr></thead><tbody><tr><td>11421</td><td>31.54%</td><td>Copacabana</td></tr><tr><td>3342</td><td>9.23%</td><td>Barra da Tijuca</td></tr><tr><td>3332</td><td>9.2%</td><td>Ipanema</td></tr><tr><td>1894</td><td>5.23%</td><td>Recreio dos Bandeirantes</td></tr><tr><td>1704</td><td>4.71%</td><td>Jacarepaguá</td></tr><tr><td>1638</td><td>4.52%</td><td>Leblon</td></tr><tr><td>1539</td><td>4.25%</td><td>Centro</td></tr><tr><td>1521</td><td>4.2%</td><td>Botafogo</td></tr><tr><td>1150</td><td>3.18%</td><td>Santa Teresa</td></tr><tr><td>793</td><td>2.19%</td><td>Flamengo</td></tr></tbody></table></div>"
      ]
     },
     "metadata": {
      "application/vnd.databricks.v1+output": {
       "addedWidgets": {},
       "aggData": [],
       "aggError": "",
       "aggOverflow": false,
       "aggSchema": [],
       "aggSeriesLimitReached": false,
       "aggType": "",
       "arguments": {},
       "columnCustomDisplayInfos": {},
       "data": [
        [
         11421,
         "31.54%",
         "Copacabana"
        ],
        [
         3342,
         "9.23%",
         "Barra da Tijuca"
        ],
        [
         3332,
         "9.2%",
         "Ipanema"
        ],
        [
         1894,
         "5.23%",
         "Recreio dos Bandeirantes"
        ],
        [
         1704,
         "4.71%",
         "Jacarepaguá"
        ],
        [
         1638,
         "4.52%",
         "Leblon"
        ],
        [
         1539,
         "4.25%",
         "Centro"
        ],
        [
         1521,
         "4.2%",
         "Botafogo"
        ],
        [
         1150,
         "3.18%",
         "Santa Teresa"
        ],
        [
         793,
         "2.19%",
         "Flamengo"
        ]
       ],
       "datasetInfos": [],
       "dbfsResultPath": null,
       "isJsonSchema": true,
       "metadata": {},
       "overflow": false,
       "plotOptions": {
        "customPlotOptions": {},
        "displayType": "table",
        "pivotAggregation": null,
        "pivotColumns": null,
        "xColumns": null,
        "yColumns": null
       },
       "removedWidgets": [],
       "schema": [
        {
         "metadata": "{}",
         "name": "TotalInNeighbourhoods",
         "type": "\"long\""
        },
        {
         "metadata": "{}",
         "name": "Percentage",
         "type": "\"string\""
        },
        {
         "metadata": "{}",
         "name": "Neighbourhood",
         "type": "\"string\""
        }
       ],
       "type": "table"
      }
     },
     "output_type": "display_data"
    },
    {
     "output_type": "display_data",
     "data": {
      "text/plain": [
       "Databricks visualization. Run in Databricks to view."
      ]
     },
     "metadata": {
      "application/vnd.databricks.v1.subcommand+json": {
       "baseErrorDetails": null,
       "bindings": {},
       "collapsed": false,
       "command": "%sql WITH q AS (SELECT count(id) as TotalInNeighbourhoods, \nconcat(round((TotalInNeighbourhoods/(select count(id) from airbnb.listings) * 100),2), \"%\") as Percentage,\nneighbourhood_cleansed as Neighbourhood\nFROM airbnb.listings \nGROUP BY neighbourhood_cleansed\nORDER BY TotalInNeighbourhoods DESC\nLIMIT 10) SELECT `Percentage`,`Neighbourhood`,SUM(`TotalInNeighbourhoods`) `column_2fb88f4125` FROM q GROUP BY `Neighbourhood`,`Percentage`",
       "commandTitle": "Visualization 1",
       "commandType": "auto",
       "commandVersion": 0,
       "commentThread": [],
       "commentsVisible": false,
       "contentSha256Hex": null,
       "customPlotOptions": {
        "redashChart": [
         {
          "key": "type",
          "value": "CHART"
         },
         {
          "key": "options",
          "value": {
           "alignYAxesAtZero": true,
           "coefficient": 1,
           "columnConfigurationMap": {
            "series": {
             "column": "Neighbourhood",
             "id": "column_2fb88f4124"
            },
            "x": {
             "column": "Percentage",
             "id": "column_2fb88f4123"
            },
            "y": [
             {
              "column": "TotalInNeighbourhoods",
              "id": "column_2fb88f4125",
              "transform": "SUM"
             }
            ]
           },
           "dateTimeFormat": "DD/MM/YYYY HH:mm",
           "direction": {
            "type": "counterclockwise"
           },
           "error_y": {
            "type": "data",
            "visible": true
           },
           "globalSeriesType": "column",
           "isAggregationOn": true,
           "legend": {
            "traceorder": "normal"
           },
           "missingValuesAsZero": true,
           "numberFormat": "0,0.[00000]",
           "percentFormat": "0[.]00%",
           "reverseX": false,
           "series": {
            "error_y": {
             "type": "data",
             "visible": true
            },
            "stacking": "stack"
           },
           "seriesOptions": {
            "Copacabana": {
             "color": "#8CFFB4"
            },
            "Leblon": {
             "color": "#FB8D3D"
            },
            "column_2fb88f4125": {
             "name": "TotalInNeighbourhoods",
             "yAxis": 0
            }
           },
           "showDataLabels": false,
           "sizemode": "diameter",
           "sortX": false,
           "sortY": true,
           "swappedAxes": true,
           "textFormat": "",
           "useAggregationsUi": true,
           "valuesOptions": {},
           "version": 2,
           "xAxis": {
            "labels": {
             "enabled": true
            },
            "type": "-"
           },
           "yAxis": [
            {
             "type": "-"
            },
            {
             "opposite": true,
             "type": "-"
            }
           ]
          }
         }
        ]
       },
       "datasetPreviewNameToCmdIdMap": {},
       "diffDeletes": [],
       "diffInserts": [],
       "displayType": "redashChart",
       "error": null,
       "errorDetails": null,
       "errorSummary": null,
       "errorTraceType": null,
       "finishTime": 0,
       "globalVars": {},
       "guid": "",
       "height": "auto",
       "hideCommandCode": false,
       "hideCommandResult": false,
       "iPythonMetadata": null,
       "inputWidgets": {},
       "isLockedInExamMode": false,
       "latestUser": "a user",
       "latestUserId": null,
       "listResultMetadata": null,
       "metadata": {
        "byteLimit": 2048000,
        "implicitDf": true,
        "rowLimit": 10000
       },
       "nuid": "35f290ea-c4ac-47f1-9dca-18e641f43539",
       "origId": 0,
       "parentHierarchy": [],
       "pivotAggregation": null,
       "pivotColumns": null,
       "position": 8.5,
       "resultDbfsErrorMessage": null,
       "resultDbfsStatus": "INLINED_IN_TREE",
       "results": null,
       "showCommandTitle": false,
       "startTime": 0,
       "state": "input",
       "streamStates": {},
       "subcommandOptions": {
        "queryPlan": {
         "groups": [
          {
           "column": "Percentage",
           "type": "column"
          },
          {
           "column": "Neighbourhood",
           "type": "column"
          }
         ],
         "selects": [
          {
           "column": "Percentage",
           "type": "column"
          },
          {
           "column": "Neighbourhood",
           "type": "column"
          },
          {
           "alias": "column_2fb88f4125",
           "args": [
            {
             "column": "TotalInNeighbourhoods",
             "type": "column"
            }
           ],
           "function": "SUM",
           "type": "function"
          }
         ]
        }
       },
       "submitTime": 0,
       "subtype": "tableResultSubCmd.visualization",
       "tableResultIndex": 0,
       "tableResultSettingsMap": {},
       "useConsistentColors": false,
       "version": "CommandV1",
       "width": "auto",
       "workflows": [],
       "xColumns": null,
       "yColumns": null
      }
     },
     "output_type": "display_data"
    }
   ],
   "source": [
    "%sql\n",
    "SELECT count(id) as TotalInNeighbourhoods, \n",
    "concat(round((TotalInNeighbourhoods/(select count(id) from airbnb.listings) * 100),2), \"%\") as Percentage,\n",
    "neighbourhood_cleansed as Neighbourhood\n",
    "FROM airbnb.listings \n",
    "GROUP BY neighbourhood_cleansed\n",
    "ORDER BY TotalInNeighbourhoods DESC\n",
    "LIMIT 10;"
   ]
  },
  {
   "cell_type": "markdown",
   "metadata": {
    "application/vnd.databricks.v1+cell": {
     "cellMetadata": {
      "byteLimit": 2048000,
      "rowLimit": 10000
     },
     "inputWidgets": {},
     "nuid": "8f2d0b09-4bd3-47f3-af35-20148aa8c3ea",
     "showTitle": false,
     "tableResultSettingsMap": {},
     "title": ""
    }
   },
   "source": [
    "The amount of each room type under he same neighborhood"
   ]
  },
  {
   "cell_type": "code",
   "execution_count": 0,
   "metadata": {
    "application/vnd.databricks.v1+cell": {
     "cellMetadata": {
      "byteLimit": 2048000,
      "implicitDf": true,
      "rowLimit": 10000
     },
     "inputWidgets": {},
     "nuid": "c00e3cc4-96cb-4775-9469-09dfcd78bc99",
     "showTitle": true,
     "tableResultSettingsMap": {},
     "title": "Room Types under each Neighbourhood"
    }
   },
   "outputs": [
    {
     "output_type": "display_data",
     "data": {
      "text/html": [
       "<style scoped>\n",
       "  .table-result-container {\n",
       "    max-height: 300px;\n",
       "    overflow: auto;\n",
       "  }\n",
       "  table, th, td {\n",
       "    border: 1px solid black;\n",
       "    border-collapse: collapse;\n",
       "  }\n",
       "  th, td {\n",
       "    padding: 5px;\n",
       "  }\n",
       "  th {\n",
       "    text-align: left;\n",
       "  }\n",
       "</style><div class='table-result-container'><table class='table-result'><thead style='background-color: white'><tr><th>neighbourhood_cleansed</th><th>room_type</th><th>subgroup_count</th></tr></thead><tbody><tr><td>Abolição</td><td>Private room</td><td>1</td></tr><tr><td>Abolição</td><td>Entire home/apt</td><td>4</td></tr><tr><td>Alto da Boa Vista</td><td>Private room</td><td>14</td></tr><tr><td>Alto da Boa Vista</td><td>Entire home/apt</td><td>26</td></tr><tr><td>Anchieta</td><td>Entire home/apt</td><td>1</td></tr><tr><td>Andaraí</td><td>Private room</td><td>15</td></tr><tr><td>Andaraí</td><td>Entire home/apt</td><td>21</td></tr><tr><td>Andaraí</td><td>Shared room</td><td>2</td></tr><tr><td>Anil</td><td>Entire home/apt</td><td>38</td></tr><tr><td>Anil</td><td>Private room</td><td>18</td></tr><tr><td>Bancários</td><td>Private room</td><td>1</td></tr><tr><td>Bancários</td><td>Entire home/apt</td><td>12</td></tr><tr><td>Bangu</td><td>Entire home/apt</td><td>18</td></tr><tr><td>Bangu</td><td>Private room</td><td>1</td></tr><tr><td>Barra da Tijuca</td><td>Shared room</td><td>2</td></tr><tr><td>Barra da Tijuca</td><td>Entire home/apt</td><td>2845</td></tr><tr><td>Barra da Tijuca</td><td>Private room</td><td>493</td></tr><tr><td>Barra da Tijuca</td><td>Hotel room</td><td>2</td></tr><tr><td>Barra de Guaratiba</td><td>Entire home/apt</td><td>126</td></tr><tr><td>Barra de Guaratiba</td><td>Private room</td><td>41</td></tr><tr><td>Barros Filho</td><td>Entire home/apt</td><td>2</td></tr><tr><td>Benfica</td><td>Entire home/apt</td><td>5</td></tr><tr><td>Benfica</td><td>Private room</td><td>3</td></tr><tr><td>Bento Ribeiro</td><td>Entire home/apt</td><td>10</td></tr><tr><td>Bento Ribeiro</td><td>Private room</td><td>2</td></tr><tr><td>Bonsucesso</td><td>Entire home/apt</td><td>2</td></tr><tr><td>Bonsucesso</td><td>Private room</td><td>12</td></tr><tr><td>Botafogo</td><td>Shared room</td><td>10</td></tr><tr><td>Botafogo</td><td>Entire home/apt</td><td>1117</td></tr><tr><td>Botafogo</td><td>Private room</td><td>390</td></tr><tr><td>Botafogo</td><td>Hotel room</td><td>4</td></tr><tr><td>Brás de Pina</td><td>Entire home/apt</td><td>8</td></tr><tr><td>Brás de Pina</td><td>Private room</td><td>10</td></tr><tr><td>Cachambi</td><td>Entire home/apt</td><td>16</td></tr><tr><td>Cachambi</td><td>Private room</td><td>9</td></tr><tr><td>Cacuia</td><td>Private room</td><td>6</td></tr><tr><td>Cacuia</td><td>Entire home/apt</td><td>6</td></tr><tr><td>Camorim</td><td>Entire home/apt</td><td>597</td></tr><tr><td>Camorim</td><td>Private room</td><td>105</td></tr><tr><td>Campinho</td><td>Entire home/apt</td><td>7</td></tr><tr><td>Campinho</td><td>Private room</td><td>4</td></tr><tr><td>Campo Grande</td><td>Entire home/apt</td><td>101</td></tr><tr><td>Campo Grande</td><td>Shared room</td><td>2</td></tr><tr><td>Campo Grande</td><td>Private room</td><td>18</td></tr><tr><td>Cascadura</td><td>Private room</td><td>3</td></tr><tr><td>Cascadura</td><td>Entire home/apt</td><td>4</td></tr><tr><td>Catete</td><td>Private room</td><td>48</td></tr><tr><td>Catete</td><td>Entire home/apt</td><td>275</td></tr><tr><td>Catumbi</td><td>Entire home/apt</td><td>3</td></tr><tr><td>Catumbi</td><td>Private room</td><td>7</td></tr><tr><td>Cavalcanti</td><td>Entire home/apt</td><td>7</td></tr><tr><td>Cavalcanti</td><td>Private room</td><td>1</td></tr><tr><td>Centro</td><td>Entire home/apt</td><td>1343</td></tr><tr><td>Centro</td><td>Hotel room</td><td>3</td></tr><tr><td>Centro</td><td>Private room</td><td>186</td></tr><tr><td>Centro</td><td>Shared room</td><td>7</td></tr><tr><td>Cidade Nova</td><td>Entire home/apt</td><td>13</td></tr><tr><td>Cidade Nova</td><td>Private room</td><td>4</td></tr><tr><td>Cidade Universitária</td><td>Private room</td><td>1</td></tr><tr><td>Cidade Universitária</td><td>Entire home/apt</td><td>1</td></tr><tr><td>Cidade de Deus</td><td>Private room</td><td>5</td></tr><tr><td>Cidade de Deus</td><td>Entire home/apt</td><td>4</td></tr><tr><td>Cocotá</td><td>Entire home/apt</td><td>1</td></tr><tr><td>Cocotá</td><td>Private room</td><td>3</td></tr><tr><td>Coelho Neto</td><td>Entire home/apt</td><td>1</td></tr><tr><td>Coelho Neto</td><td>Private room</td><td>3</td></tr><tr><td>Colégio</td><td>Entire home/apt</td><td>5</td></tr><tr><td>Complexo do Alemão</td><td>Private room</td><td>1</td></tr><tr><td>Copacabana</td><td>Shared room</td><td>65</td></tr><tr><td>Copacabana</td><td>Entire home/apt</td><td>9800</td></tr><tr><td>Copacabana</td><td>Hotel room</td><td>2</td></tr><tr><td>Copacabana</td><td>Private room</td><td>1554</td></tr><tr><td>Cordovil</td><td>Private room</td><td>2</td></tr><tr><td>Cosme Velho</td><td>Shared room</td><td>6</td></tr><tr><td>Cosme Velho</td><td>Private room</td><td>28</td></tr><tr><td>Cosme Velho</td><td>Entire home/apt</td><td>52</td></tr><tr><td>Cosmos</td><td>Shared room</td><td>2</td></tr><tr><td>Cosmos</td><td>Entire home/apt</td><td>8</td></tr><tr><td>Cosmos</td><td>Private room</td><td>3</td></tr><tr><td>Curicica</td><td>Private room</td><td>24</td></tr><tr><td>Curicica</td><td>Entire home/apt</td><td>43</td></tr><tr><td>Del Castilho</td><td>Entire home/apt</td><td>12</td></tr><tr><td>Del Castilho</td><td>Private room</td><td>4</td></tr><tr><td>Deodoro</td><td>Entire home/apt</td><td>1</td></tr><tr><td>Encantado</td><td>Private room</td><td>18</td></tr><tr><td>Encantado</td><td>Entire home/apt</td><td>11</td></tr><tr><td>Engenheiro Leal</td><td>Entire home/apt</td><td>2</td></tr><tr><td>Engenho Novo</td><td>Shared room</td><td>9</td></tr><tr><td>Engenho Novo</td><td>Entire home/apt</td><td>15</td></tr><tr><td>Engenho Novo</td><td>Private room</td><td>12</td></tr><tr><td>Engenho da Rainha</td><td>Private room</td><td>1</td></tr><tr><td>Engenho da Rainha</td><td>Entire home/apt</td><td>2</td></tr><tr><td>Engenho da Rainha</td><td>Shared room</td><td>2</td></tr><tr><td>Engenho de Dentro</td><td>Entire home/apt</td><td>35</td></tr><tr><td>Engenho de Dentro</td><td>Private room</td><td>23</td></tr><tr><td>Estácio</td><td>Entire home/apt</td><td>21</td></tr><tr><td>Estácio</td><td>Shared room</td><td>2</td></tr><tr><td>Estácio</td><td>Private room</td><td>31</td></tr><tr><td>Flamengo</td><td>Shared room</td><td>1</td></tr><tr><td>Flamengo</td><td>Private room</td><td>157</td></tr><tr><td>Flamengo</td><td>Entire home/apt</td><td>635</td></tr><tr><td>Freguesia (Ilha)</td><td>Entire home/apt</td><td>3</td></tr><tr><td>Freguesia (Ilha)</td><td>Private room</td><td>1</td></tr><tr><td>Freguesia (Jacarepaguá)</td><td>Entire home/apt</td><td>81</td></tr><tr><td>Freguesia (Jacarepaguá)</td><td>Private room</td><td>41</td></tr><tr><td>Galeão</td><td>Entire home/apt</td><td>2</td></tr><tr><td>Gamboa</td><td>Entire home/apt</td><td>17</td></tr><tr><td>Gamboa</td><td>Private room</td><td>11</td></tr><tr><td>Gardênia Azul</td><td>Private room</td><td>6</td></tr><tr><td>Gardênia Azul</td><td>Entire home/apt</td><td>25</td></tr><tr><td>Gericinó</td><td>Private room</td><td>1</td></tr><tr><td>Glória</td><td>Shared room</td><td>2</td></tr><tr><td>Glória</td><td>Private room</td><td>61</td></tr><tr><td>Glória</td><td>Entire home/apt</td><td>207</td></tr><tr><td>Grajaú</td><td>Entire home/apt</td><td>21</td></tr><tr><td>Grajaú</td><td>Shared room</td><td>1</td></tr><tr><td>Grajaú</td><td>Private room</td><td>27</td></tr><tr><td>Grumari</td><td>Private room</td><td>1</td></tr><tr><td>Grumari</td><td>Entire home/apt</td><td>6</td></tr><tr><td>Guadalupe</td><td>Entire home/apt</td><td>3</td></tr><tr><td>Guaratiba</td><td>Shared room</td><td>1</td></tr><tr><td>Guaratiba</td><td>Entire home/apt</td><td>106</td></tr><tr><td>Guaratiba</td><td>Private room</td><td>22</td></tr><tr><td>Gávea</td><td>Entire home/apt</td><td>168</td></tr><tr><td>Gávea</td><td>Private room</td><td>37</td></tr><tr><td>Higienópolis</td><td>Private room</td><td>2</td></tr><tr><td>Higienópolis</td><td>Entire home/apt</td><td>3</td></tr><tr><td>Honório Gurgel</td><td>Entire home/apt</td><td>2</td></tr><tr><td>Humaitá</td><td>Entire home/apt</td><td>106</td></tr><tr><td>Humaitá</td><td>Private room</td><td>38</td></tr><tr><td>Inhaúma</td><td>Entire home/apt</td><td>2</td></tr><tr><td>Inhaúma</td><td>Private room</td><td>4</td></tr><tr><td>Inhaúma</td><td>Shared room</td><td>1</td></tr><tr><td>Inhoaíba</td><td>Entire home/apt</td><td>5</td></tr><tr><td>Inhoaíba</td><td>Private room</td><td>3</td></tr><tr><td>Ipanema</td><td>Hotel room</td><td>1</td></tr><tr><td>Ipanema</td><td>Entire home/apt</td><td>2945</td></tr><tr><td>Ipanema</td><td>Shared room</td><td>8</td></tr><tr><td>Ipanema</td><td>Private room</td><td>378</td></tr><tr><td>Irajá</td><td>Entire home/apt</td><td>14</td></tr><tr><td>Irajá</td><td>Private room</td><td>13</td></tr><tr><td>Itanhangá</td><td>Entire home/apt</td><td>96</td></tr><tr><td>Itanhangá</td><td>Private room</td><td>62</td></tr><tr><td>Jacarepaguá</td><td>Entire home/apt</td><td>1364</td></tr><tr><td>Jacarepaguá</td><td>Hotel room</td><td>2</td></tr><tr><td>Jacarepaguá</td><td>Private room</td><td>319</td></tr><tr><td>Jacarepaguá</td><td>Shared room</td><td>19</td></tr><tr><td>Jacarezinho</td><td>Entire home/apt</td><td>1</td></tr><tr><td>Jacaré</td><td>Entire home/apt</td><td>1</td></tr><tr><td>Jardim América</td><td>Private room</td><td>2</td></tr><tr><td>Jardim Botânico</td><td>Entire home/apt</td><td>125</td></tr><tr><td>Jardim Botânico</td><td>Private room</td><td>59</td></tr><tr><td>Jardim Carioca</td><td>Private room</td><td>4</td></tr><tr><td>Jardim Carioca</td><td>Entire home/apt</td><td>7</td></tr><tr><td>Jardim Guanabara</td><td>Private room</td><td>29</td></tr><tr><td>Jardim Guanabara</td><td>Entire home/apt</td><td>26</td></tr><tr><td>Jardim Sulacap</td><td>Private room</td><td>2</td></tr><tr><td>Jardim Sulacap</td><td>Entire home/apt</td><td>4</td></tr><tr><td>Joá</td><td>Entire home/apt</td><td>137</td></tr><tr><td>Joá</td><td>Private room</td><td>18</td></tr><tr><td>Lagoa</td><td>Shared room</td><td>1</td></tr><tr><td>Lagoa</td><td>Entire home/apt</td><td>210</td></tr><tr><td>Lagoa</td><td>Private room</td><td>46</td></tr><tr><td>Laranjeiras</td><td>Shared room</td><td>3</td></tr><tr><td>Laranjeiras</td><td>Private room</td><td>135</td></tr><tr><td>Laranjeiras</td><td>Entire home/apt</td><td>331</td></tr><tr><td>Leblon</td><td>Hotel room</td><td>2</td></tr><tr><td>Leblon</td><td>Private room</td><td>129</td></tr><tr><td>Leblon</td><td>Entire home/apt</td><td>1506</td></tr><tr><td>Leblon</td><td>Shared room</td><td>1</td></tr><tr><td>Leme</td><td>Entire home/apt</td><td>575</td></tr><tr><td>Leme</td><td>Shared room</td><td>8</td></tr><tr><td>Leme</td><td>Private room</td><td>135</td></tr><tr><td>Lins de Vasconcelos</td><td>Private room</td><td>6</td></tr><tr><td>Lins de Vasconcelos</td><td>Entire home/apt</td><td>4</td></tr><tr><td>Madureira</td><td>Entire home/apt</td><td>10</td></tr><tr><td>Madureira</td><td>Private room</td><td>7</td></tr><tr><td>Mangueira</td><td>Private room</td><td>1</td></tr><tr><td>Manguinhos</td><td>Private room</td><td>1</td></tr><tr><td>Maracanã</td><td>Shared room</td><td>4</td></tr><tr><td>Maracanã</td><td>Entire home/apt</td><td>69</td></tr><tr><td>Maracanã</td><td>Private room</td><td>43</td></tr><tr><td>Maracanã</td><td>Hotel room</td><td>2</td></tr><tr><td>Marechal Hermes</td><td>Private room</td><td>3</td></tr><tr><td>Marechal Hermes</td><td>Entire home/apt</td><td>18</td></tr><tr><td>Maria da Graça</td><td>Entire home/apt</td><td>3</td></tr><tr><td>Maria da Graça</td><td>Private room</td><td>1</td></tr><tr><td>Maré</td><td>Entire home/apt</td><td>2</td></tr><tr><td>Moneró</td><td>Private room</td><td>2</td></tr><tr><td>Moneró</td><td>Entire home/apt</td><td>1</td></tr><tr><td>Méier</td><td>Private room</td><td>20</td></tr><tr><td>Méier</td><td>Entire home/apt</td><td>18</td></tr><tr><td>Méier</td><td>Shared room</td><td>14</td></tr><tr><td>Olaria</td><td>Entire home/apt</td><td>8</td></tr><tr><td>Olaria</td><td>Private room</td><td>3</td></tr><tr><td>Osvaldo Cruz</td><td>Private room</td><td>10</td></tr><tr><td>Osvaldo Cruz</td><td>Entire home/apt</td><td>8</td></tr><tr><td>Paciência</td><td>Private room</td><td>1</td></tr><tr><td>Paciência</td><td>Entire home/apt</td><td>11</td></tr><tr><td>Padre Miguel</td><td>Entire home/apt</td><td>3</td></tr><tr><td>Paquetá</td><td>Entire home/apt</td><td>42</td></tr><tr><td>Paquetá</td><td>Private room</td><td>5</td></tr><tr><td>Parada de Lucas</td><td>Entire home/apt</td><td>2</td></tr><tr><td>Parque Anchieta</td><td>Entire home/apt</td><td>11</td></tr><tr><td>Pavuna</td><td>Entire home/apt</td><td>5</td></tr><tr><td>Pavuna</td><td>Private room</td><td>2</td></tr><tr><td>Pechincha</td><td>Entire home/apt</td><td>42</td></tr><tr><td>Pechincha</td><td>Private room</td><td>23</td></tr><tr><td>Pedra de Guaratiba</td><td>Shared room</td><td>1</td></tr><tr><td>Pedra de Guaratiba</td><td>Private room</td><td>11</td></tr><tr><td>Pedra de Guaratiba</td><td>Entire home/apt</td><td>12</td></tr><tr><td>Penha</td><td>Entire home/apt</td><td>8</td></tr><tr><td>Penha</td><td>Private room</td><td>3</td></tr><tr><td>Penha Circular</td><td>Entire home/apt</td><td>5</td></tr><tr><td>Penha Circular</td><td>Private room</td><td>2</td></tr><tr><td>Piedade</td><td>Entire home/apt</td><td>7</td></tr><tr><td>Piedade</td><td>Private room</td><td>1</td></tr><tr><td>Pilares</td><td>Private room</td><td>1</td></tr><tr><td>Pilares</td><td>Entire home/apt</td><td>3</td></tr><tr><td>Pitangueiras</td><td>Entire home/apt</td><td>2</td></tr><tr><td>Pitangueiras</td><td>Private room</td><td>2</td></tr><tr><td>Portuguesa</td><td>Private room</td><td>37</td></tr><tr><td>Portuguesa</td><td>Entire home/apt</td><td>8</td></tr><tr><td>Portuguesa</td><td>Shared room</td><td>1</td></tr><tr><td>Praia da Bandeira</td><td>Entire home/apt</td><td>1</td></tr><tr><td>Praça Seca</td><td>Private room</td><td>8</td></tr><tr><td>Praça Seca</td><td>Entire home/apt</td><td>14</td></tr><tr><td>Praça da Bandeira</td><td>Shared room</td><td>1</td></tr><tr><td>Praça da Bandeira</td><td>Entire home/apt</td><td>38</td></tr><tr><td>Praça da Bandeira</td><td>Private room</td><td>18</td></tr><tr><td>Quintino Bocaiúva</td><td>Private room</td><td>1</td></tr><tr><td>Quintino Bocaiúva</td><td>Entire home/apt</td><td>1</td></tr><tr><td>Ramos</td><td>Private room</td><td>3</td></tr><tr><td>Ramos</td><td>Entire home/apt</td><td>5</td></tr><tr><td>Realengo</td><td>Entire home/apt</td><td>9</td></tr><tr><td>Realengo</td><td>Private room</td><td>1</td></tr><tr><td>Recreio dos Bandeirantes</td><td>Private room</td><td>313</td></tr><tr><td>Recreio dos Bandeirantes</td><td>Entire home/apt</td><td>1576</td></tr><tr><td>Recreio dos Bandeirantes</td><td>Shared room</td><td>5</td></tr><tr><td>Riachuelo</td><td>Private room</td><td>1</td></tr><tr><td>Riachuelo</td><td>Entire home/apt</td><td>9</td></tr><tr><td>Ribeira</td><td>Private room</td><td>2</td></tr><tr><td>Ribeira</td><td>Entire home/apt</td><td>1</td></tr><tr><td>Ricardo de Albuquerque</td><td>Entire home/apt</td><td>6</td></tr><tr><td>Ricardo de Albuquerque</td><td>Private room</td><td>1</td></tr><tr><td>Rio Comprido</td><td>Shared room</td><td>13</td></tr><tr><td>Rio Comprido</td><td>Private room</td><td>64</td></tr><tr><td>Rio Comprido</td><td>Entire home/apt</td><td>46</td></tr><tr><td>Rocha</td><td>Entire home/apt</td><td>6</td></tr><tr><td>Rocha</td><td>Private room</td><td>2</td></tr><tr><td>Rocha Miranda</td><td>Entire home/apt</td><td>2</td></tr><tr><td>Rocha Miranda</td><td>Private room</td><td>6</td></tr><tr><td>Rocinha</td><td>Private room</td><td>6</td></tr><tr><td>Rocinha</td><td>Entire home/apt</td><td>18</td></tr><tr><td>Rocinha</td><td>Shared room</td><td>3</td></tr><tr><td>Sampaio</td><td>Entire home/apt</td><td>4</td></tr><tr><td>Sampaio</td><td>Private room</td><td>2</td></tr><tr><td>Santa Cruz</td><td>Private room</td><td>2</td></tr><tr><td>Santa Cruz</td><td>Entire home/apt</td><td>26</td></tr><tr><td>Santa Teresa</td><td>Shared room</td><td>25</td></tr><tr><td>Santa Teresa</td><td>Private room</td><td>433</td></tr><tr><td>Santa Teresa</td><td>Hotel room</td><td>2</td></tr><tr><td>Santa Teresa</td><td>Entire home/apt</td><td>690</td></tr><tr><td>Santo Cristo</td><td>Entire home/apt</td><td>48</td></tr><tr><td>Santo Cristo</td><td>Private room</td><td>6</td></tr><tr><td>Santo Cristo</td><td>Shared room</td><td>8</td></tr><tr><td>Santíssimo</td><td>Private room</td><td>3</td></tr><tr><td>Santíssimo</td><td>Entire home/apt</td><td>6</td></tr><tr><td>Saúde</td><td>Private room</td><td>15</td></tr><tr><td>Saúde</td><td>Entire home/apt</td><td>24</td></tr><tr><td>Senador Camará</td><td>Entire home/apt</td><td>1</td></tr><tr><td>Senador Camará</td><td>Private room</td><td>1</td></tr><tr><td>Senador Vasconcelos</td><td>Entire home/apt</td><td>6</td></tr><tr><td>Sepetiba</td><td>Entire home/apt</td><td>7</td></tr><tr><td>Sepetiba</td><td>Private room</td><td>1</td></tr><tr><td>São Conrado</td><td>Shared room</td><td>1</td></tr><tr><td>São Conrado</td><td>Private room</td><td>138</td></tr><tr><td>São Conrado</td><td>Entire home/apt</td><td>175</td></tr><tr><td>São Cristóvão</td><td>Private room</td><td>35</td></tr><tr><td>São Cristóvão</td><td>Shared room</td><td>2</td></tr><tr><td>São Cristóvão</td><td>Entire home/apt</td><td>62</td></tr><tr><td>São Francisco Xavier</td><td>Private room</td><td>3</td></tr><tr><td>São Francisco Xavier</td><td>Entire home/apt</td><td>11</td></tr><tr><td>Tanque</td><td>Entire home/apt</td><td>5</td></tr><tr><td>Tanque</td><td>Private room</td><td>8</td></tr><tr><td>Taquara</td><td>Entire home/apt</td><td>76</td></tr><tr><td>Taquara</td><td>Private room</td><td>69</td></tr><tr><td>Taquara</td><td>Shared room</td><td>1</td></tr><tr><td>Tauá</td><td>Entire home/apt</td><td>10</td></tr><tr><td>Tauá</td><td>Private room</td><td>4</td></tr><tr><td>Tijuca</td><td>Shared room</td><td>8</td></tr><tr><td>Tijuca</td><td>Entire home/apt</td><td>159</td></tr><tr><td>Tijuca</td><td>Private room</td><td>192</td></tr><tr><td>Todos os Santos</td><td>Private room</td><td>9</td></tr><tr><td>Todos os Santos</td><td>Entire home/apt</td><td>11</td></tr><tr><td>Tomás Coelho</td><td>Private room</td><td>2</td></tr><tr><td>Tomás Coelho</td><td>Entire home/apt</td><td>3</td></tr><tr><td>Turiaçú</td><td>Entire home/apt</td><td>1</td></tr><tr><td>Turiaçú</td><td>Private room</td><td>1</td></tr><tr><td>Urca</td><td>Entire home/apt</td><td>120</td></tr><tr><td>Urca</td><td>Private room</td><td>30</td></tr><tr><td>Vargem Grande</td><td>Private room</td><td>31</td></tr><tr><td>Vargem Grande</td><td>Entire home/apt</td><td>104</td></tr><tr><td>Vargem Pequena</td><td>Entire home/apt</td><td>83</td></tr><tr><td>Vargem Pequena</td><td>Shared room</td><td>2</td></tr><tr><td>Vargem Pequena</td><td>Private room</td><td>63</td></tr><tr><td>Vasco da Gama</td><td>Entire home/apt</td><td>7</td></tr><tr><td>Vasco da Gama</td><td>Private room</td><td>5</td></tr><tr><td>Vaz Lobo</td><td>Private room</td><td>1</td></tr><tr><td>Vaz Lobo</td><td>Entire home/apt</td><td>4</td></tr><tr><td>Vicente de Carvalho</td><td>Entire home/apt</td><td>3</td></tr><tr><td>Vicente de Carvalho</td><td>Private room</td><td>1</td></tr><tr><td>Vidigal</td><td>Private room</td><td>84</td></tr><tr><td>Vidigal</td><td>Shared room</td><td>11</td></tr><tr><td>Vidigal</td><td>Entire home/apt</td><td>152</td></tr><tr><td>Vigário Geral</td><td>Entire home/apt</td><td>4</td></tr><tr><td>Vila Isabel</td><td>Shared room</td><td>1</td></tr><tr><td>Vila Isabel</td><td>Entire home/apt</td><td>56</td></tr><tr><td>Vila Isabel</td><td>Private room</td><td>50</td></tr><tr><td>Vila Kosmos</td><td>Private room</td><td>1</td></tr><tr><td>Vila Kosmos</td><td>Entire home/apt</td><td>1</td></tr><tr><td>Vila Militar</td><td>Entire home/apt</td><td>4</td></tr><tr><td>Vila Valqueire</td><td>Entire home/apt</td><td>7</td></tr><tr><td>Vila Valqueire</td><td>Private room</td><td>6</td></tr><tr><td>Vila da Penha</td><td>Entire home/apt</td><td>6</td></tr><tr><td>Vila da Penha</td><td>Private room</td><td>7</td></tr><tr><td>Zumbi</td><td>Private room</td><td>1</td></tr><tr><td>Água Santa</td><td>Entire home/apt</td><td>2</td></tr></tbody></table></div>"
      ]
     },
     "metadata": {
      "application/vnd.databricks.v1+output": {
       "addedWidgets": {},
       "aggData": [],
       "aggError": "",
       "aggOverflow": false,
       "aggSchema": [],
       "aggSeriesLimitReached": false,
       "aggType": "",
       "arguments": {},
       "columnCustomDisplayInfos": {},
       "data": [
        [
         "Abolição",
         "Private room",
         1
        ],
        [
         "Abolição",
         "Entire home/apt",
         4
        ],
        [
         "Alto da Boa Vista",
         "Private room",
         14
        ],
        [
         "Alto da Boa Vista",
         "Entire home/apt",
         26
        ],
        [
         "Anchieta",
         "Entire home/apt",
         1
        ],
        [
         "Andaraí",
         "Private room",
         15
        ],
        [
         "Andaraí",
         "Entire home/apt",
         21
        ],
        [
         "Andaraí",
         "Shared room",
         2
        ],
        [
         "Anil",
         "Entire home/apt",
         38
        ],
        [
         "Anil",
         "Private room",
         18
        ],
        [
         "Bancários",
         "Private room",
         1
        ],
        [
         "Bancários",
         "Entire home/apt",
         12
        ],
        [
         "Bangu",
         "Entire home/apt",
         18
        ],
        [
         "Bangu",
         "Private room",
         1
        ],
        [
         "Barra da Tijuca",
         "Shared room",
         2
        ],
        [
         "Barra da Tijuca",
         "Entire home/apt",
         2845
        ],
        [
         "Barra da Tijuca",
         "Private room",
         493
        ],
        [
         "Barra da Tijuca",
         "Hotel room",
         2
        ],
        [
         "Barra de Guaratiba",
         "Entire home/apt",
         126
        ],
        [
         "Barra de Guaratiba",
         "Private room",
         41
        ],
        [
         "Barros Filho",
         "Entire home/apt",
         2
        ],
        [
         "Benfica",
         "Entire home/apt",
         5
        ],
        [
         "Benfica",
         "Private room",
         3
        ],
        [
         "Bento Ribeiro",
         "Entire home/apt",
         10
        ],
        [
         "Bento Ribeiro",
         "Private room",
         2
        ],
        [
         "Bonsucesso",
         "Entire home/apt",
         2
        ],
        [
         "Bonsucesso",
         "Private room",
         12
        ],
        [
         "Botafogo",
         "Shared room",
         10
        ],
        [
         "Botafogo",
         "Entire home/apt",
         1117
        ],
        [
         "Botafogo",
         "Private room",
         390
        ],
        [
         "Botafogo",
         "Hotel room",
         4
        ],
        [
         "Brás de Pina",
         "Entire home/apt",
         8
        ],
        [
         "Brás de Pina",
         "Private room",
         10
        ],
        [
         "Cachambi",
         "Entire home/apt",
         16
        ],
        [
         "Cachambi",
         "Private room",
         9
        ],
        [
         "Cacuia",
         "Private room",
         6
        ],
        [
         "Cacuia",
         "Entire home/apt",
         6
        ],
        [
         "Camorim",
         "Entire home/apt",
         597
        ],
        [
         "Camorim",
         "Private room",
         105
        ],
        [
         "Campinho",
         "Entire home/apt",
         7
        ],
        [
         "Campinho",
         "Private room",
         4
        ],
        [
         "Campo Grande",
         "Entire home/apt",
         101
        ],
        [
         "Campo Grande",
         "Shared room",
         2
        ],
        [
         "Campo Grande",
         "Private room",
         18
        ],
        [
         "Cascadura",
         "Private room",
         3
        ],
        [
         "Cascadura",
         "Entire home/apt",
         4
        ],
        [
         "Catete",
         "Private room",
         48
        ],
        [
         "Catete",
         "Entire home/apt",
         275
        ],
        [
         "Catumbi",
         "Entire home/apt",
         3
        ],
        [
         "Catumbi",
         "Private room",
         7
        ],
        [
         "Cavalcanti",
         "Entire home/apt",
         7
        ],
        [
         "Cavalcanti",
         "Private room",
         1
        ],
        [
         "Centro",
         "Entire home/apt",
         1343
        ],
        [
         "Centro",
         "Hotel room",
         3
        ],
        [
         "Centro",
         "Private room",
         186
        ],
        [
         "Centro",
         "Shared room",
         7
        ],
        [
         "Cidade Nova",
         "Entire home/apt",
         13
        ],
        [
         "Cidade Nova",
         "Private room",
         4
        ],
        [
         "Cidade Universitária",
         "Private room",
         1
        ],
        [
         "Cidade Universitária",
         "Entire home/apt",
         1
        ],
        [
         "Cidade de Deus",
         "Private room",
         5
        ],
        [
         "Cidade de Deus",
         "Entire home/apt",
         4
        ],
        [
         "Cocotá",
         "Entire home/apt",
         1
        ],
        [
         "Cocotá",
         "Private room",
         3
        ],
        [
         "Coelho Neto",
         "Entire home/apt",
         1
        ],
        [
         "Coelho Neto",
         "Private room",
         3
        ],
        [
         "Colégio",
         "Entire home/apt",
         5
        ],
        [
         "Complexo do Alemão",
         "Private room",
         1
        ],
        [
         "Copacabana",
         "Shared room",
         65
        ],
        [
         "Copacabana",
         "Entire home/apt",
         9800
        ],
        [
         "Copacabana",
         "Hotel room",
         2
        ],
        [
         "Copacabana",
         "Private room",
         1554
        ],
        [
         "Cordovil",
         "Private room",
         2
        ],
        [
         "Cosme Velho",
         "Shared room",
         6
        ],
        [
         "Cosme Velho",
         "Private room",
         28
        ],
        [
         "Cosme Velho",
         "Entire home/apt",
         52
        ],
        [
         "Cosmos",
         "Shared room",
         2
        ],
        [
         "Cosmos",
         "Entire home/apt",
         8
        ],
        [
         "Cosmos",
         "Private room",
         3
        ],
        [
         "Curicica",
         "Private room",
         24
        ],
        [
         "Curicica",
         "Entire home/apt",
         43
        ],
        [
         "Del Castilho",
         "Entire home/apt",
         12
        ],
        [
         "Del Castilho",
         "Private room",
         4
        ],
        [
         "Deodoro",
         "Entire home/apt",
         1
        ],
        [
         "Encantado",
         "Private room",
         18
        ],
        [
         "Encantado",
         "Entire home/apt",
         11
        ],
        [
         "Engenheiro Leal",
         "Entire home/apt",
         2
        ],
        [
         "Engenho Novo",
         "Shared room",
         9
        ],
        [
         "Engenho Novo",
         "Entire home/apt",
         15
        ],
        [
         "Engenho Novo",
         "Private room",
         12
        ],
        [
         "Engenho da Rainha",
         "Private room",
         1
        ],
        [
         "Engenho da Rainha",
         "Entire home/apt",
         2
        ],
        [
         "Engenho da Rainha",
         "Shared room",
         2
        ],
        [
         "Engenho de Dentro",
         "Entire home/apt",
         35
        ],
        [
         "Engenho de Dentro",
         "Private room",
         23
        ],
        [
         "Estácio",
         "Entire home/apt",
         21
        ],
        [
         "Estácio",
         "Shared room",
         2
        ],
        [
         "Estácio",
         "Private room",
         31
        ],
        [
         "Flamengo",
         "Shared room",
         1
        ],
        [
         "Flamengo",
         "Private room",
         157
        ],
        [
         "Flamengo",
         "Entire home/apt",
         635
        ],
        [
         "Freguesia (Ilha)",
         "Entire home/apt",
         3
        ],
        [
         "Freguesia (Ilha)",
         "Private room",
         1
        ],
        [
         "Freguesia (Jacarepaguá)",
         "Entire home/apt",
         81
        ],
        [
         "Freguesia (Jacarepaguá)",
         "Private room",
         41
        ],
        [
         "Galeão",
         "Entire home/apt",
         2
        ],
        [
         "Gamboa",
         "Entire home/apt",
         17
        ],
        [
         "Gamboa",
         "Private room",
         11
        ],
        [
         "Gardênia Azul",
         "Private room",
         6
        ],
        [
         "Gardênia Azul",
         "Entire home/apt",
         25
        ],
        [
         "Gericinó",
         "Private room",
         1
        ],
        [
         "Glória",
         "Shared room",
         2
        ],
        [
         "Glória",
         "Private room",
         61
        ],
        [
         "Glória",
         "Entire home/apt",
         207
        ],
        [
         "Grajaú",
         "Entire home/apt",
         21
        ],
        [
         "Grajaú",
         "Shared room",
         1
        ],
        [
         "Grajaú",
         "Private room",
         27
        ],
        [
         "Grumari",
         "Private room",
         1
        ],
        [
         "Grumari",
         "Entire home/apt",
         6
        ],
        [
         "Guadalupe",
         "Entire home/apt",
         3
        ],
        [
         "Guaratiba",
         "Shared room",
         1
        ],
        [
         "Guaratiba",
         "Entire home/apt",
         106
        ],
        [
         "Guaratiba",
         "Private room",
         22
        ],
        [
         "Gávea",
         "Entire home/apt",
         168
        ],
        [
         "Gávea",
         "Private room",
         37
        ],
        [
         "Higienópolis",
         "Private room",
         2
        ],
        [
         "Higienópolis",
         "Entire home/apt",
         3
        ],
        [
         "Honório Gurgel",
         "Entire home/apt",
         2
        ],
        [
         "Humaitá",
         "Entire home/apt",
         106
        ],
        [
         "Humaitá",
         "Private room",
         38
        ],
        [
         "Inhaúma",
         "Entire home/apt",
         2
        ],
        [
         "Inhaúma",
         "Private room",
         4
        ],
        [
         "Inhaúma",
         "Shared room",
         1
        ],
        [
         "Inhoaíba",
         "Entire home/apt",
         5
        ],
        [
         "Inhoaíba",
         "Private room",
         3
        ],
        [
         "Ipanema",
         "Hotel room",
         1
        ],
        [
         "Ipanema",
         "Entire home/apt",
         2945
        ],
        [
         "Ipanema",
         "Shared room",
         8
        ],
        [
         "Ipanema",
         "Private room",
         378
        ],
        [
         "Irajá",
         "Entire home/apt",
         14
        ],
        [
         "Irajá",
         "Private room",
         13
        ],
        [
         "Itanhangá",
         "Entire home/apt",
         96
        ],
        [
         "Itanhangá",
         "Private room",
         62
        ],
        [
         "Jacarepaguá",
         "Entire home/apt",
         1364
        ],
        [
         "Jacarepaguá",
         "Hotel room",
         2
        ],
        [
         "Jacarepaguá",
         "Private room",
         319
        ],
        [
         "Jacarepaguá",
         "Shared room",
         19
        ],
        [
         "Jacarezinho",
         "Entire home/apt",
         1
        ],
        [
         "Jacaré",
         "Entire home/apt",
         1
        ],
        [
         "Jardim América",
         "Private room",
         2
        ],
        [
         "Jardim Botânico",
         "Entire home/apt",
         125
        ],
        [
         "Jardim Botânico",
         "Private room",
         59
        ],
        [
         "Jardim Carioca",
         "Private room",
         4
        ],
        [
         "Jardim Carioca",
         "Entire home/apt",
         7
        ],
        [
         "Jardim Guanabara",
         "Private room",
         29
        ],
        [
         "Jardim Guanabara",
         "Entire home/apt",
         26
        ],
        [
         "Jardim Sulacap",
         "Private room",
         2
        ],
        [
         "Jardim Sulacap",
         "Entire home/apt",
         4
        ],
        [
         "Joá",
         "Entire home/apt",
         137
        ],
        [
         "Joá",
         "Private room",
         18
        ],
        [
         "Lagoa",
         "Shared room",
         1
        ],
        [
         "Lagoa",
         "Entire home/apt",
         210
        ],
        [
         "Lagoa",
         "Private room",
         46
        ],
        [
         "Laranjeiras",
         "Shared room",
         3
        ],
        [
         "Laranjeiras",
         "Private room",
         135
        ],
        [
         "Laranjeiras",
         "Entire home/apt",
         331
        ],
        [
         "Leblon",
         "Hotel room",
         2
        ],
        [
         "Leblon",
         "Private room",
         129
        ],
        [
         "Leblon",
         "Entire home/apt",
         1506
        ],
        [
         "Leblon",
         "Shared room",
         1
        ],
        [
         "Leme",
         "Entire home/apt",
         575
        ],
        [
         "Leme",
         "Shared room",
         8
        ],
        [
         "Leme",
         "Private room",
         135
        ],
        [
         "Lins de Vasconcelos",
         "Private room",
         6
        ],
        [
         "Lins de Vasconcelos",
         "Entire home/apt",
         4
        ],
        [
         "Madureira",
         "Entire home/apt",
         10
        ],
        [
         "Madureira",
         "Private room",
         7
        ],
        [
         "Mangueira",
         "Private room",
         1
        ],
        [
         "Manguinhos",
         "Private room",
         1
        ],
        [
         "Maracanã",
         "Shared room",
         4
        ],
        [
         "Maracanã",
         "Entire home/apt",
         69
        ],
        [
         "Maracanã",
         "Private room",
         43
        ],
        [
         "Maracanã",
         "Hotel room",
         2
        ],
        [
         "Marechal Hermes",
         "Private room",
         3
        ],
        [
         "Marechal Hermes",
         "Entire home/apt",
         18
        ],
        [
         "Maria da Graça",
         "Entire home/apt",
         3
        ],
        [
         "Maria da Graça",
         "Private room",
         1
        ],
        [
         "Maré",
         "Entire home/apt",
         2
        ],
        [
         "Moneró",
         "Private room",
         2
        ],
        [
         "Moneró",
         "Entire home/apt",
         1
        ],
        [
         "Méier",
         "Private room",
         20
        ],
        [
         "Méier",
         "Entire home/apt",
         18
        ],
        [
         "Méier",
         "Shared room",
         14
        ],
        [
         "Olaria",
         "Entire home/apt",
         8
        ],
        [
         "Olaria",
         "Private room",
         3
        ],
        [
         "Osvaldo Cruz",
         "Private room",
         10
        ],
        [
         "Osvaldo Cruz",
         "Entire home/apt",
         8
        ],
        [
         "Paciência",
         "Private room",
         1
        ],
        [
         "Paciência",
         "Entire home/apt",
         11
        ],
        [
         "Padre Miguel",
         "Entire home/apt",
         3
        ],
        [
         "Paquetá",
         "Entire home/apt",
         42
        ],
        [
         "Paquetá",
         "Private room",
         5
        ],
        [
         "Parada de Lucas",
         "Entire home/apt",
         2
        ],
        [
         "Parque Anchieta",
         "Entire home/apt",
         11
        ],
        [
         "Pavuna",
         "Entire home/apt",
         5
        ],
        [
         "Pavuna",
         "Private room",
         2
        ],
        [
         "Pechincha",
         "Entire home/apt",
         42
        ],
        [
         "Pechincha",
         "Private room",
         23
        ],
        [
         "Pedra de Guaratiba",
         "Shared room",
         1
        ],
        [
         "Pedra de Guaratiba",
         "Private room",
         11
        ],
        [
         "Pedra de Guaratiba",
         "Entire home/apt",
         12
        ],
        [
         "Penha",
         "Entire home/apt",
         8
        ],
        [
         "Penha",
         "Private room",
         3
        ],
        [
         "Penha Circular",
         "Entire home/apt",
         5
        ],
        [
         "Penha Circular",
         "Private room",
         2
        ],
        [
         "Piedade",
         "Entire home/apt",
         7
        ],
        [
         "Piedade",
         "Private room",
         1
        ],
        [
         "Pilares",
         "Private room",
         1
        ],
        [
         "Pilares",
         "Entire home/apt",
         3
        ],
        [
         "Pitangueiras",
         "Entire home/apt",
         2
        ],
        [
         "Pitangueiras",
         "Private room",
         2
        ],
        [
         "Portuguesa",
         "Private room",
         37
        ],
        [
         "Portuguesa",
         "Entire home/apt",
         8
        ],
        [
         "Portuguesa",
         "Shared room",
         1
        ],
        [
         "Praia da Bandeira",
         "Entire home/apt",
         1
        ],
        [
         "Praça Seca",
         "Private room",
         8
        ],
        [
         "Praça Seca",
         "Entire home/apt",
         14
        ],
        [
         "Praça da Bandeira",
         "Shared room",
         1
        ],
        [
         "Praça da Bandeira",
         "Entire home/apt",
         38
        ],
        [
         "Praça da Bandeira",
         "Private room",
         18
        ],
        [
         "Quintino Bocaiúva",
         "Private room",
         1
        ],
        [
         "Quintino Bocaiúva",
         "Entire home/apt",
         1
        ],
        [
         "Ramos",
         "Private room",
         3
        ],
        [
         "Ramos",
         "Entire home/apt",
         5
        ],
        [
         "Realengo",
         "Entire home/apt",
         9
        ],
        [
         "Realengo",
         "Private room",
         1
        ],
        [
         "Recreio dos Bandeirantes",
         "Private room",
         313
        ],
        [
         "Recreio dos Bandeirantes",
         "Entire home/apt",
         1576
        ],
        [
         "Recreio dos Bandeirantes",
         "Shared room",
         5
        ],
        [
         "Riachuelo",
         "Private room",
         1
        ],
        [
         "Riachuelo",
         "Entire home/apt",
         9
        ],
        [
         "Ribeira",
         "Private room",
         2
        ],
        [
         "Ribeira",
         "Entire home/apt",
         1
        ],
        [
         "Ricardo de Albuquerque",
         "Entire home/apt",
         6
        ],
        [
         "Ricardo de Albuquerque",
         "Private room",
         1
        ],
        [
         "Rio Comprido",
         "Shared room",
         13
        ],
        [
         "Rio Comprido",
         "Private room",
         64
        ],
        [
         "Rio Comprido",
         "Entire home/apt",
         46
        ],
        [
         "Rocha",
         "Entire home/apt",
         6
        ],
        [
         "Rocha",
         "Private room",
         2
        ],
        [
         "Rocha Miranda",
         "Entire home/apt",
         2
        ],
        [
         "Rocha Miranda",
         "Private room",
         6
        ],
        [
         "Rocinha",
         "Private room",
         6
        ],
        [
         "Rocinha",
         "Entire home/apt",
         18
        ],
        [
         "Rocinha",
         "Shared room",
         3
        ],
        [
         "Sampaio",
         "Entire home/apt",
         4
        ],
        [
         "Sampaio",
         "Private room",
         2
        ],
        [
         "Santa Cruz",
         "Private room",
         2
        ],
        [
         "Santa Cruz",
         "Entire home/apt",
         26
        ],
        [
         "Santa Teresa",
         "Shared room",
         25
        ],
        [
         "Santa Teresa",
         "Private room",
         433
        ],
        [
         "Santa Teresa",
         "Hotel room",
         2
        ],
        [
         "Santa Teresa",
         "Entire home/apt",
         690
        ],
        [
         "Santo Cristo",
         "Entire home/apt",
         48
        ],
        [
         "Santo Cristo",
         "Private room",
         6
        ],
        [
         "Santo Cristo",
         "Shared room",
         8
        ],
        [
         "Santíssimo",
         "Private room",
         3
        ],
        [
         "Santíssimo",
         "Entire home/apt",
         6
        ],
        [
         "Saúde",
         "Private room",
         15
        ],
        [
         "Saúde",
         "Entire home/apt",
         24
        ],
        [
         "Senador Camará",
         "Entire home/apt",
         1
        ],
        [
         "Senador Camará",
         "Private room",
         1
        ],
        [
         "Senador Vasconcelos",
         "Entire home/apt",
         6
        ],
        [
         "Sepetiba",
         "Entire home/apt",
         7
        ],
        [
         "Sepetiba",
         "Private room",
         1
        ],
        [
         "São Conrado",
         "Shared room",
         1
        ],
        [
         "São Conrado",
         "Private room",
         138
        ],
        [
         "São Conrado",
         "Entire home/apt",
         175
        ],
        [
         "São Cristóvão",
         "Private room",
         35
        ],
        [
         "São Cristóvão",
         "Shared room",
         2
        ],
        [
         "São Cristóvão",
         "Entire home/apt",
         62
        ],
        [
         "São Francisco Xavier",
         "Private room",
         3
        ],
        [
         "São Francisco Xavier",
         "Entire home/apt",
         11
        ],
        [
         "Tanque",
         "Entire home/apt",
         5
        ],
        [
         "Tanque",
         "Private room",
         8
        ],
        [
         "Taquara",
         "Entire home/apt",
         76
        ],
        [
         "Taquara",
         "Private room",
         69
        ],
        [
         "Taquara",
         "Shared room",
         1
        ],
        [
         "Tauá",
         "Entire home/apt",
         10
        ],
        [
         "Tauá",
         "Private room",
         4
        ],
        [
         "Tijuca",
         "Shared room",
         8
        ],
        [
         "Tijuca",
         "Entire home/apt",
         159
        ],
        [
         "Tijuca",
         "Private room",
         192
        ],
        [
         "Todos os Santos",
         "Private room",
         9
        ],
        [
         "Todos os Santos",
         "Entire home/apt",
         11
        ],
        [
         "Tomás Coelho",
         "Private room",
         2
        ],
        [
         "Tomás Coelho",
         "Entire home/apt",
         3
        ],
        [
         "Turiaçú",
         "Entire home/apt",
         1
        ],
        [
         "Turiaçú",
         "Private room",
         1
        ],
        [
         "Urca",
         "Entire home/apt",
         120
        ],
        [
         "Urca",
         "Private room",
         30
        ],
        [
         "Vargem Grande",
         "Private room",
         31
        ],
        [
         "Vargem Grande",
         "Entire home/apt",
         104
        ],
        [
         "Vargem Pequena",
         "Entire home/apt",
         83
        ],
        [
         "Vargem Pequena",
         "Shared room",
         2
        ],
        [
         "Vargem Pequena",
         "Private room",
         63
        ],
        [
         "Vasco da Gama",
         "Entire home/apt",
         7
        ],
        [
         "Vasco da Gama",
         "Private room",
         5
        ],
        [
         "Vaz Lobo",
         "Private room",
         1
        ],
        [
         "Vaz Lobo",
         "Entire home/apt",
         4
        ],
        [
         "Vicente de Carvalho",
         "Entire home/apt",
         3
        ],
        [
         "Vicente de Carvalho",
         "Private room",
         1
        ],
        [
         "Vidigal",
         "Private room",
         84
        ],
        [
         "Vidigal",
         "Shared room",
         11
        ],
        [
         "Vidigal",
         "Entire home/apt",
         152
        ],
        [
         "Vigário Geral",
         "Entire home/apt",
         4
        ],
        [
         "Vila Isabel",
         "Shared room",
         1
        ],
        [
         "Vila Isabel",
         "Entire home/apt",
         56
        ],
        [
         "Vila Isabel",
         "Private room",
         50
        ],
        [
         "Vila Kosmos",
         "Private room",
         1
        ],
        [
         "Vila Kosmos",
         "Entire home/apt",
         1
        ],
        [
         "Vila Militar",
         "Entire home/apt",
         4
        ],
        [
         "Vila Valqueire",
         "Entire home/apt",
         7
        ],
        [
         "Vila Valqueire",
         "Private room",
         6
        ],
        [
         "Vila da Penha",
         "Entire home/apt",
         6
        ],
        [
         "Vila da Penha",
         "Private room",
         7
        ],
        [
         "Zumbi",
         "Private room",
         1
        ],
        [
         "Água Santa",
         "Entire home/apt",
         2
        ]
       ],
       "datasetInfos": [],
       "dbfsResultPath": null,
       "isJsonSchema": true,
       "metadata": {},
       "overflow": false,
       "plotOptions": {
        "customPlotOptions": {},
        "displayType": "table",
        "pivotAggregation": null,
        "pivotColumns": null,
        "xColumns": null,
        "yColumns": null
       },
       "removedWidgets": [],
       "schema": [
        {
         "metadata": "{}",
         "name": "neighbourhood_cleansed",
         "type": "\"string\""
        },
        {
         "metadata": "{}",
         "name": "room_type",
         "type": "\"string\""
        },
        {
         "metadata": "{}",
         "name": "subgroup_count",
         "type": "\"long\""
        }
       ],
       "type": "table"
      }
     },
     "output_type": "display_data"
    }
   ],
   "source": [
    "%sql\n",
    "SELECT\n",
    "    neighbourhood_cleansed,\n",
    "    room_type,\n",
    "    count(*) AS subgroup_count\n",
    "FROM\n",
    "    airbnb.listings\n",
    "GROUP BY\n",
    "    neighbourhood_cleansed,\n",
    "    room_type\n",
    "ORDER BY\n",
    "   neighbourhood_cleansed"
   ]
  },
  {
   "cell_type": "markdown",
   "metadata": {
    "application/vnd.databricks.v1+cell": {
     "cellMetadata": {
      "byteLimit": 2048000,
      "rowLimit": 10000
     },
     "inputWidgets": {},
     "nuid": "d1c081ce-5225-47f9-8f65-cb19ae02faa3",
     "showTitle": false,
     "tableResultSettingsMap": {},
     "title": ""
    }
   },
   "source": [
    "Evaluate the porperty sizes correlation with prices.\n",
    "Usually, high property prices corresponds the capability to accommodate more people. \n",
    "THere are some outliers, like Anchieta that have only 1 listing."
   ]
  },
  {
   "cell_type": "code",
   "execution_count": 0,
   "metadata": {
    "application/vnd.databricks.v1+cell": {
     "cellMetadata": {
      "byteLimit": 2048000,
      "implicitDf": true,
      "rowLimit": 10000
     },
     "inputWidgets": {},
     "nuid": "7aaf8522-34e4-4ee8-87da-8ffdd2375cd1",
     "showTitle": true,
     "tableResultSettingsMap": {},
     "title": "Accommodation vs Price Per Person"
    }
   },
   "outputs": [
    {
     "output_type": "display_data",
     "data": {
      "text/html": [
       "<style scoped>\n",
       "  .table-result-container {\n",
       "    max-height: 300px;\n",
       "    overflow: auto;\n",
       "  }\n",
       "  table, th, td {\n",
       "    border: 1px solid black;\n",
       "    border-collapse: collapse;\n",
       "  }\n",
       "  th, td {\n",
       "    padding: 5px;\n",
       "  }\n",
       "  th {\n",
       "    text-align: left;\n",
       "  }\n",
       "</style><div class='table-result-container'><table class='table-result'><thead style='background-color: white'><tr><th>AveragePrice</th><th>Accomodates</th><th>PricePerPerson</th><th>Neighbourhood</th><th>TotalListings</th></tr></thead><tbody><tr><td>9073.54</td><td>8.7</td><td>1042.94</td><td>Joá</td><td>155</td></tr><tr><td>3581.89</td><td>5.11</td><td>700.96</td><td>São Conrado</td><td>314</td></tr><tr><td>6068.0</td><td>10.0</td><td>606.8</td><td>Anchieta</td><td>1</td></tr><tr><td>1878.61</td><td>3.52</td><td>533.7</td><td>Curicica</td><td>67</td></tr><tr><td>3000.23</td><td>5.64</td><td>531.96</td><td>Itanhangá</td><td>158</td></tr><tr><td>2032.96</td><td>4.12</td><td>493.44</td><td>Lagoa</td><td>257</td></tr><tr><td>1890.02</td><td>4.08</td><td>463.24</td><td>Ipanema</td><td>3332</td></tr><tr><td>1751.0</td><td>4.0</td><td>437.75</td><td>Leblon</td><td>1638</td></tr><tr><td>1607.08</td><td>3.84</td><td>418.51</td><td>Cachambi</td><td>25</td></tr><tr><td>1599.79</td><td>4.13</td><td>387.36</td><td>Gávea</td><td>205</td></tr><tr><td>1356.28</td><td>4.08</td><td>332.42</td><td>Copacabana</td><td>11421</td></tr><tr><td>1179.73</td><td>3.6</td><td>327.7</td><td>Vidigal</td><td>247</td></tr><tr><td>1389.8</td><td>4.38</td><td>317.31</td><td>Barra da Tijuca</td><td>3342</td></tr><tr><td>1224.24</td><td>3.93</td><td>311.51</td><td>Leme</td><td>718</td></tr><tr><td>1127.47</td><td>3.66</td><td>308.05</td><td>Taquara</td><td>146</td></tr><tr><td>1020.44</td><td>3.39</td><td>301.01</td><td>Jardim Botânico</td><td>184</td></tr><tr><td>703.35</td><td>2.54</td><td>276.91</td><td>Portuguesa</td><td>46</td></tr><tr><td>1010.76</td><td>3.73</td><td>270.98</td><td>Urca</td><td>150</td></tr><tr><td>876.22</td><td>3.44</td><td>254.72</td><td>Cidade de Deus</td><td>9</td></tr><tr><td>887.39</td><td>3.62</td><td>245.14</td><td>Humaitá</td><td>144</td></tr></tbody></table></div>"
      ]
     },
     "metadata": {
      "application/vnd.databricks.v1+output": {
       "addedWidgets": {},
       "aggData": [],
       "aggError": "",
       "aggOverflow": false,
       "aggSchema": [],
       "aggSeriesLimitReached": false,
       "aggType": "",
       "arguments": {},
       "columnCustomDisplayInfos": {},
       "data": [
        [
         9073.54,
         8.7,
         1042.94,
         "Joá",
         155
        ],
        [
         3581.89,
         5.11,
         700.96,
         "São Conrado",
         314
        ],
        [
         6068.0,
         10.0,
         606.8,
         "Anchieta",
         1
        ],
        [
         1878.61,
         3.52,
         533.7,
         "Curicica",
         67
        ],
        [
         3000.23,
         5.64,
         531.96,
         "Itanhangá",
         158
        ],
        [
         2032.96,
         4.12,
         493.44,
         "Lagoa",
         257
        ],
        [
         1890.02,
         4.08,
         463.24,
         "Ipanema",
         3332
        ],
        [
         1751.0,
         4.0,
         437.75,
         "Leblon",
         1638
        ],
        [
         1607.08,
         3.84,
         418.51,
         "Cachambi",
         25
        ],
        [
         1599.79,
         4.13,
         387.36,
         "Gávea",
         205
        ],
        [
         1356.28,
         4.08,
         332.42,
         "Copacabana",
         11421
        ],
        [
         1179.73,
         3.6,
         327.7,
         "Vidigal",
         247
        ],
        [
         1389.8,
         4.38,
         317.31,
         "Barra da Tijuca",
         3342
        ],
        [
         1224.24,
         3.93,
         311.51,
         "Leme",
         718
        ],
        [
         1127.47,
         3.66,
         308.05,
         "Taquara",
         146
        ],
        [
         1020.44,
         3.39,
         301.01,
         "Jardim Botânico",
         184
        ],
        [
         703.35,
         2.54,
         276.91,
         "Portuguesa",
         46
        ],
        [
         1010.76,
         3.73,
         270.98,
         "Urca",
         150
        ],
        [
         876.22,
         3.44,
         254.72,
         "Cidade de Deus",
         9
        ],
        [
         887.39,
         3.62,
         245.14,
         "Humaitá",
         144
        ]
       ],
       "datasetInfos": [],
       "dbfsResultPath": null,
       "isJsonSchema": true,
       "metadata": {},
       "overflow": false,
       "plotOptions": {
        "customPlotOptions": {},
        "displayType": "table",
        "pivotAggregation": null,
        "pivotColumns": null,
        "xColumns": null,
        "yColumns": null
       },
       "removedWidgets": [],
       "schema": [
        {
         "metadata": "{}",
         "name": "AveragePrice",
         "type": "\"double\""
        },
        {
         "metadata": "{}",
         "name": "Accomodates",
         "type": "\"double\""
        },
        {
         "metadata": "{}",
         "name": "PricePerPerson",
         "type": "\"double\""
        },
        {
         "metadata": "{}",
         "name": "Neighbourhood",
         "type": "\"string\""
        },
        {
         "metadata": "{}",
         "name": "TotalListings",
         "type": "\"long\""
        }
       ],
       "type": "table"
      }
     },
     "output_type": "display_data"
    }
   ],
   "source": [
    "%sql\n",
    "SELECT round(avg(price), 2) as AveragePrice,\n",
    "round(avg(accommodates),2) as Accomodates,\n",
    "round((AveragePrice/Accomodates), 2) as PricePerPerson,\n",
    "neighbourhood_cleansed as Neighbourhood,\n",
    "count(id) as TotalListings\n",
    "FROM airbnb.listings\n",
    "GROUP BY neighbourhood_cleansed\n",
    "ORDER BY PricePerPerson DESC\n",
    "LIMIT 20;"
   ]
  },
  {
   "cell_type": "markdown",
   "metadata": {
    "application/vnd.databricks.v1+cell": {
     "cellMetadata": {
      "byteLimit": 2048000,
      "rowLimit": 10000
     },
     "inputWidgets": {},
     "nuid": "3ce076cf-37d0-43cc-a590-24c5004dac0a",
     "showTitle": false,
     "tableResultSettingsMap": {},
     "title": ""
    }
   },
   "source": [
    "RevPar (Revenue per Available Room) is a metric used in hospitality to measure the occupancy rate.\n",
    "\n",
    "it devides the total **room revenue** by the **total number of rooms available** in the period being measured. This indicator brings how much revenue each listing generates in a certain period of time, whether occupied or not.\n",
    "\n",
    "In order to avoid any distorcions, it was selected only regions of the city of Rio de Janeiro that have more than 500 listings. For the sake of the study of the assignment, each reagion is being regarded as a hotel which all listing available represent the total number of rooms avaible."
   ]
  },
  {
   "cell_type": "code",
   "execution_count": 0,
   "metadata": {
    "application/vnd.databricks.v1+cell": {
     "cellMetadata": {
      "byteLimit": 2048000,
      "implicitDf": true,
      "rowLimit": 10000
     },
     "inputWidgets": {},
     "nuid": "43a729c4-74d9-48fa-8080-f2ec871fc608",
     "showTitle": true,
     "tableResultSettingsMap": {},
     "title": "RevPAR"
    }
   },
   "outputs": [
    {
     "output_type": "display_data",
     "data": {
      "text/html": [
       "<style scoped>\n",
       "  .table-result-container {\n",
       "    max-height: 300px;\n",
       "    overflow: auto;\n",
       "  }\n",
       "  table, th, td {\n",
       "    border: 1px solid black;\n",
       "    border-collapse: collapse;\n",
       "  }\n",
       "  th, td {\n",
       "    padding: 5px;\n",
       "  }\n",
       "  th {\n",
       "    text-align: left;\n",
       "  }\n",
       "</style><div class='table-result-container'><table class='table-result'><thead style='background-color: white'><tr><th>RevPAR</th><th>TotalListings</th><th>Neighbourhood</th></tr></thead><tbody><tr><td>1890.02</td><td>3332</td><td>Ipanema</td></tr><tr><td>1751.0</td><td>1638</td><td>Leblon</td></tr><tr><td>1389.8</td><td>3342</td><td>Barra da Tijuca</td></tr><tr><td>1356.27</td><td>11420</td><td>Copacabana</td></tr><tr><td>1224.24</td><td>718</td><td>Leme</td></tr><tr><td>908.44</td><td>1894</td><td>Recreio dos Bandeirantes</td></tr><tr><td>779.7</td><td>1704</td><td>Jacarepaguá</td></tr><tr><td>762.9</td><td>1150</td><td>Santa Teresa</td></tr><tr><td>715.44</td><td>793</td><td>Flamengo</td></tr><tr><td>703.65</td><td>1521</td><td>Botafogo</td></tr><tr><td>586.27</td><td>702</td><td>Camorim</td></tr><tr><td>499.2</td><td>1539</td><td>Centro</td></tr></tbody></table></div>"
      ]
     },
     "metadata": {
      "application/vnd.databricks.v1+output": {
       "addedWidgets": {},
       "aggData": [],
       "aggError": "",
       "aggOverflow": false,
       "aggSchema": [],
       "aggSeriesLimitReached": false,
       "aggType": "",
       "arguments": {},
       "columnCustomDisplayInfos": {},
       "data": [
        [
         1890.02,
         3332,
         "Ipanema"
        ],
        [
         1751.0,
         1638,
         "Leblon"
        ],
        [
         1389.8,
         3342,
         "Barra da Tijuca"
        ],
        [
         1356.27,
         11420,
         "Copacabana"
        ],
        [
         1224.24,
         718,
         "Leme"
        ],
        [
         908.44,
         1894,
         "Recreio dos Bandeirantes"
        ],
        [
         779.7,
         1704,
         "Jacarepaguá"
        ],
        [
         762.9,
         1150,
         "Santa Teresa"
        ],
        [
         715.44,
         793,
         "Flamengo"
        ],
        [
         703.65,
         1521,
         "Botafogo"
        ],
        [
         586.27,
         702,
         "Camorim"
        ],
        [
         499.2,
         1539,
         "Centro"
        ]
       ],
       "datasetInfos": [],
       "dbfsResultPath": null,
       "isJsonSchema": true,
       "metadata": {},
       "overflow": false,
       "plotOptions": {
        "customPlotOptions": {},
        "displayType": "table",
        "pivotAggregation": null,
        "pivotColumns": null,
        "xColumns": null,
        "yColumns": null
       },
       "removedWidgets": [],
       "schema": [
        {
         "metadata": "{}",
         "name": "RevPAR",
         "type": "\"double\""
        },
        {
         "metadata": "{}",
         "name": "TotalListings",
         "type": "\"long\""
        },
        {
         "metadata": "{}",
         "name": "Neighbourhood",
         "type": "\"string\""
        }
       ],
       "type": "table"
      }
     },
     "output_type": "display_data"
    }
   ],
   "source": [
    "%sql\n",
    "SELECT round((sum(price)/count(id)), 2) as RevPAR,\n",
    "count(id) as TotalListings,\n",
    "neighbourhood_cleansed as Neighbourhood\n",
    "FROM airbnb.listings\n",
    "WHERE has_availability = TRUE\n",
    "GROUP BY neighbourhood_cleansed\n",
    "HAVING count(id) > 500\n",
    "ORDER BY RevPAR DESC\n",
    "LIMIT 50;"
   ]
  },
  {
   "cell_type": "markdown",
   "metadata": {
    "application/vnd.databricks.v1+cell": {
     "cellMetadata": {
      "byteLimit": 2048000,
      "rowLimit": 10000
     },
     "inputWidgets": {},
     "nuid": "86b1f13f-c3b9-455a-b95e-420c5bcb07e3",
     "showTitle": false,
     "tableResultSettingsMap": {},
     "title": ""
    }
   },
   "source": [
    "Group each review range and evaluate whether there is an impact on price (revenue). \n",
    "\n",
    "Zero replaces all listings with NULL in the CSV file.\n",
    "\n",
    "The query shows there is a weak relationship between prices and review ratings. The correlation is higher on the occommodation sizes and neighbourhood. "
   ]
  },
  {
   "cell_type": "code",
   "execution_count": 0,
   "metadata": {
    "application/vnd.databricks.v1+cell": {
     "cellMetadata": {
      "byteLimit": 2048000,
      "implicitDf": true,
      "rowLimit": 10000
     },
     "inputWidgets": {},
     "nuid": "5857b43f-289a-4c36-9f7d-36516983de1c",
     "showTitle": true,
     "tableResultSettingsMap": {},
     "title": "Reviews vs Price"
    }
   },
   "outputs": [
    {
     "output_type": "display_data",
     "data": {
      "text/html": [
       "<style scoped>\n",
       "  .table-result-container {\n",
       "    max-height: 300px;\n",
       "    overflow: auto;\n",
       "  }\n",
       "  table, th, td {\n",
       "    border: 1px solid black;\n",
       "    border-collapse: collapse;\n",
       "  }\n",
       "  th, td {\n",
       "    padding: 5px;\n",
       "  }\n",
       "  th {\n",
       "    text-align: left;\n",
       "  }\n",
       "</style><div class='table-result-container'><table class='table-result'><thead style='background-color: white'><tr><th>ReviewRange</th><th>TotalProperties</th><th>AvgPrice</th></tr></thead><tbody><tr><td>not defined</td><td>13954</td><td>1516.35</td></tr><tr><td>1-1.9</td><td>53</td><td>1480.0</td></tr><tr><td>5</td><td>10451</td><td>1055.57</td></tr><tr><td>4-4.9</td><td>11365</td><td>1047.5</td></tr><tr><td>3-3.9</td><td>326</td><td>999.05</td></tr><tr><td>2-2.9</td><td>57</td><td>734.93</td></tr></tbody></table></div>"
      ]
     },
     "metadata": {
      "application/vnd.databricks.v1+output": {
       "addedWidgets": {},
       "aggData": [],
       "aggError": "",
       "aggOverflow": false,
       "aggSchema": [],
       "aggSeriesLimitReached": false,
       "aggType": "",
       "arguments": {},
       "columnCustomDisplayInfos": {},
       "data": [
        [
         "not defined",
         13954,
         1516.35
        ],
        [
         "1-1.9",
         53,
         1480.0
        ],
        [
         "5",
         10451,
         1055.57
        ],
        [
         "4-4.9",
         11365,
         1047.5
        ],
        [
         "3-3.9",
         326,
         999.05
        ],
        [
         "2-2.9",
         57,
         734.93
        ]
       ],
       "datasetInfos": [],
       "dbfsResultPath": null,
       "isJsonSchema": true,
       "metadata": {},
       "overflow": false,
       "plotOptions": {
        "customPlotOptions": {},
        "displayType": "table",
        "pivotAggregation": null,
        "pivotColumns": null,
        "xColumns": null,
        "yColumns": null
       },
       "removedWidgets": [],
       "schema": [
        {
         "metadata": "{}",
         "name": "ReviewRange",
         "type": "\"string\""
        },
        {
         "metadata": "{}",
         "name": "TotalProperties",
         "type": "\"long\""
        },
        {
         "metadata": "{}",
         "name": "AvgPrice",
         "type": "\"double\""
        }
       ],
       "type": "table"
      }
     },
     "output_type": "display_data"
    }
   ],
   "source": [
    "%sql\n",
    "select t.range as ReviewRange, count(*) as TotalProperties, round(avg(t.price), 2) as AvgPrice\n",
    "from (\n",
    "  select case  \n",
    "    when reviews between 4.0 and 4.9 then '4-4.9'\n",
    "    when reviews between 3.0 and 3.9 then '3-3.9'\n",
    "    when reviews between 2.0 and 2.9 then '2-2.9'\n",
    "    when reviews between 1.0 and 1.9 then '1-1.9'\n",
    "    when reviews between 0.1 and 0.9 then '0-0.9'\n",
    "    when reviews == 5 then '5'\n",
    "    else 'not defined' end as range,\n",
    "    price\n",
    "  from airbnb.listings) t\n",
    "group by t.range\n",
    "order by AvgPrice desc\n",
    "\n"
   ]
  }
 ],
 "metadata": {
  "application/vnd.databricks.v1+notebook": {
   "computePreferences": null,
   "dashboards": [],
   "environmentMetadata": {
    "base_environment": "",
    "environment_version": "1"
   },
   "inputWidgetPreferences": null,
   "language": "python",
   "notebookMetadata": {
    "mostRecentlyExecutedCommandWithImplicitDF": {
     "commandId": 1866403949307396,
     "dataframes": [
      "_sqldf"
     ]
    },
    "pythonIndentUnit": 4
   },
   "notebookName": "MVP - Data Pipeline",
   "widgets": {}
  }
 },
 "nbformat": 4,
 "nbformat_minor": 0
}